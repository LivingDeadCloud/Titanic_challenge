{
 "cells": [
  {
   "cell_type": "markdown",
   "id": "a4d66367-1152-4d25-9a24-eca424d0413a",
   "metadata": {
    "jp-MarkdownHeadingCollapsed": true,
    "tags": []
   },
   "source": [
    "# Setup notebook"
   ]
  },
  {
   "cell_type": "code",
   "execution_count": 1,
   "id": "e456510a-ef46-4e32-a5a9-0d04cc242f71",
   "metadata": {},
   "outputs": [],
   "source": [
    "# Import libraries\n",
    "import pandas as pd\n",
    "import numpy as np\n",
    "import plotly.express as px\n",
    "import plotly.io as pio\n",
    "pio.renderers.default = 'iframe'"
   ]
  },
  {
   "cell_type": "markdown",
   "id": "136ae6a1-154d-4b78-b0ce-a98c11708101",
   "metadata": {
    "jp-MarkdownHeadingCollapsed": true,
    "tags": []
   },
   "source": [
    "## Functions"
   ]
  },
  {
   "cell_type": "code",
   "execution_count": 2,
   "id": "c39a3012-1564-4aea-9ce3-e6b56977d178",
   "metadata": {},
   "outputs": [],
   "source": [
    "def plot_pie(df, col_to_plot, title, hole_size, color_sequence, legend_dict):\n",
    "    '''\n",
    "    Plot a pie chart of a Dataframe column, using a custom legend\n",
    "    Inputs:\n",
    "    - df: Dataframe with data\n",
    "    - col_to_plot: name of the column of the dataframe to plot\n",
    "    - title: title of chart\n",
    "    - hole_size: size of hole\n",
    "    - color_sequence: list of colors, must be same size of dict\n",
    "    - legend_dict: dictionary used to compose legend\n",
    "    '''\n",
    "    # Check that legend_dict and color_sequence have same size\n",
    "    if len(legend_dict)==0:\n",
    "        fig = px.pie(\n",
    "        total_raw_df, \n",
    "        names=df[col_to_plot],\n",
    "        title=title,\n",
    "        hole=hole_size,\n",
    "        color_discrete_sequence = color_sequence,\n",
    "    )\n",
    "    elif len(legend_dict)!=len(color_sequence):\n",
    "        raise ValueError('legends_dict and color_sequence must have the same length')\n",
    "    else:\n",
    "        fig = px.pie(\n",
    "            total_raw_df, \n",
    "            names=df[col_to_plot].map(legend_dict),\n",
    "            title=title,\n",
    "            hole=hole_size,\n",
    "            color_discrete_sequence = color_sequence,\n",
    "        )\n",
    "    fig.update_layout(\n",
    "        font=dict(size=18),\n",
    "        autosize=False,\n",
    "        width=800,\n",
    "        height=800,\n",
    "    )\n",
    "    fig.show()"
   ]
  },
  {
   "cell_type": "code",
   "execution_count": 3,
   "id": "23027d50-6c2a-4a47-8bc9-58013b8d2ea4",
   "metadata": {},
   "outputs": [],
   "source": [
    "def plot_sunburst(df, hierarchy, title, color, color_mapping):\n",
    "    '''\n",
    "    Plot a sunburst chart of a Dataframe column, using a custom legend\n",
    "    Inputs:\n",
    "    - df: Dataframe with data\n",
    "    - hierarchy: list of hierarcy of sunburst rings, from inner to outer\n",
    "    - title: title of chart\n",
    "    - hole_size: size of hole\n",
    "    - color: feature that will define color differences\n",
    "    - color_discrete_sequence: #TODO\n",
    "    - color_mapping: dict for colors mapping\n",
    "    '''\n",
    "    fig = px.sunburst(\n",
    "        df,\n",
    "        path=hierarchy,\n",
    "        title=title,\n",
    "        color=df[color],\n",
    "        # color_discrete_sequence=color_sequence\n",
    "    )\n",
    "    fig.update_traces(\n",
    "        textinfo=\"label+percent parent\",\n",
    "        insidetextorientation='horizontal',\n",
    "        marker_colors=[color_mapping[cat] for cat in fig.data[-1].labels]\n",
    "    )\n",
    "    fig.update_layout(\n",
    "        font=dict(size=18),\n",
    "        autosize=False,\n",
    "        width=800,\n",
    "        height=800,\n",
    "        )\n",
    "    fig.show()"
   ]
  },
  {
   "cell_type": "markdown",
   "id": "8ddf0299-d923-4d90-8ec1-4bed07404765",
   "metadata": {},
   "source": [
    "# Process data"
   ]
  },
  {
   "cell_type": "markdown",
   "id": "d5f2ff0d-acdb-4e22-9634-2cd5742a563c",
   "metadata": {
    "tags": []
   },
   "source": [
    "### Variable Notes"
   ]
  },
  {
   "cell_type": "markdown",
   "id": "6872370b-90c5-40f2-9229-2ea27556b7b0",
   "metadata": {
    "tags": []
   },
   "source": [
    "pclass: A proxy for socio-economic status (SES)\n",
    "- 1st = Upper\n",
    "- 2nd = Middle\n",
    "- 3rd = Lower\n",
    "\n",
    "age: Age is fractional if less than 1. If the age is estimated, is it in the form of xx.5\n",
    "\n",
    "sibsp: The dataset defines family relations in this way...\n",
    "- Sibling = brother, sister, stepbrother, stepsister\n",
    "- Spouse = husband, wife (mistresses and fiancés were ignored)\n",
    "\n",
    "parch: The dataset defines family relations in this way...\n",
    "- Parent = mother, father\n",
    "- Child = daughter, son, stepdaughter, stepson\n",
    "- Some children travelled only with a nanny, therefore parch=0 for them."
   ]
  },
  {
   "cell_type": "code",
   "execution_count": 4,
   "id": "b20bf74d-fb44-4be9-bc59-2737fa87c5fd",
   "metadata": {},
   "outputs": [],
   "source": [
    "# Load raw dataframes\n",
    "train_raw_df = pd.read_csv('../Data/train.csv')\n",
    "test_raw_df = pd.read_csv('../Data/test.csv')\n",
    "total_raw_df = pd.read_excel('../Data/Complete_dataset.xls')"
   ]
  },
  {
   "cell_type": "code",
   "execution_count": 5,
   "id": "6da8ec57-3397-4975-9a8b-f050976b67d8",
   "metadata": {},
   "outputs": [],
   "source": [
    "# 'survived' column: convert 0->Deceased and 1->Survived\n",
    "survived_dict = {0: 'Deceased', 1: 'Survived'}\n",
    "class_dict = {1: '1st class', 2: '2nd class', 3: '3rd class'}\n",
    "total_raw_df['survived'] = total_raw_df['survived'].map(survived_dict)\n",
    "total_raw_df['pclass'] = total_raw_df['pclass'].map(class_dict)"
   ]
  },
  {
   "cell_type": "markdown",
   "id": "ed0c0d95-7536-483b-9666-63892cb3dc38",
   "metadata": {},
   "source": [
    "### Exploratory Data Analysis"
   ]
  },
  {
   "cell_type": "code",
   "execution_count": 6,
   "id": "0fa008da-8c70-496a-a031-3470355c3c84",
   "metadata": {},
   "outputs": [
    {
     "name": "stdout",
     "output_type": "stream",
     "text": [
      "Number of passengers = 1309\n",
      "Number of variables = 14\n"
     ]
    }
   ],
   "source": [
    "# See how many records and variables\n",
    "num_pass, num_var = total_raw_df.shape[0], total_raw_df.shape[1]\n",
    "print(f'Number of passengers = {num_pass}\\nNumber of variables = {num_var}')"
   ]
  },
  {
   "cell_type": "code",
   "execution_count": 7,
   "id": "c661e581-ef56-4a5f-8648-bf6f0e258f66",
   "metadata": {},
   "outputs": [
    {
     "data": {
      "text/plain": [
       "Index(['pclass', 'survived', 'name', 'sex', 'age', 'sibsp', 'parch', 'ticket',\n",
       "       'fare', 'cabin', 'embarked', 'boat', 'body', 'home.dest'],\n",
       "      dtype='object')"
      ]
     },
     "execution_count": 7,
     "metadata": {},
     "output_type": "execute_result"
    }
   ],
   "source": [
    "total_raw_df.columns"
   ]
  },
  {
   "cell_type": "code",
   "execution_count": 8,
   "id": "db0b4a20-36c4-480b-8a88-c1a87700e49c",
   "metadata": {},
   "outputs": [
    {
     "data": {
      "text/html": [
       "<div>\n",
       "<style scoped>\n",
       "    .dataframe tbody tr th:only-of-type {\n",
       "        vertical-align: middle;\n",
       "    }\n",
       "\n",
       "    .dataframe tbody tr th {\n",
       "        vertical-align: top;\n",
       "    }\n",
       "\n",
       "    .dataframe thead th {\n",
       "        text-align: right;\n",
       "    }\n",
       "</style>\n",
       "<table border=\"1\" class=\"dataframe\">\n",
       "  <thead>\n",
       "    <tr style=\"text-align: right;\">\n",
       "      <th></th>\n",
       "      <th>pclass</th>\n",
       "      <th>survived</th>\n",
       "      <th>name</th>\n",
       "      <th>sex</th>\n",
       "      <th>age</th>\n",
       "      <th>sibsp</th>\n",
       "      <th>parch</th>\n",
       "      <th>ticket</th>\n",
       "      <th>fare</th>\n",
       "      <th>cabin</th>\n",
       "      <th>embarked</th>\n",
       "      <th>boat</th>\n",
       "      <th>body</th>\n",
       "      <th>home.dest</th>\n",
       "    </tr>\n",
       "  </thead>\n",
       "  <tbody>\n",
       "    <tr>\n",
       "      <th>0</th>\n",
       "      <td>1st class</td>\n",
       "      <td>Survived</td>\n",
       "      <td>Allen, Miss. Elisabeth Walton</td>\n",
       "      <td>female</td>\n",
       "      <td>29.0000</td>\n",
       "      <td>0</td>\n",
       "      <td>0</td>\n",
       "      <td>24160</td>\n",
       "      <td>211.3375</td>\n",
       "      <td>B5</td>\n",
       "      <td>S</td>\n",
       "      <td>2</td>\n",
       "      <td>NaN</td>\n",
       "      <td>St Louis, MO</td>\n",
       "    </tr>\n",
       "    <tr>\n",
       "      <th>1</th>\n",
       "      <td>1st class</td>\n",
       "      <td>Survived</td>\n",
       "      <td>Allison, Master. Hudson Trevor</td>\n",
       "      <td>male</td>\n",
       "      <td>0.9167</td>\n",
       "      <td>1</td>\n",
       "      <td>2</td>\n",
       "      <td>113781</td>\n",
       "      <td>151.5500</td>\n",
       "      <td>C22 C26</td>\n",
       "      <td>S</td>\n",
       "      <td>11</td>\n",
       "      <td>NaN</td>\n",
       "      <td>Montreal, PQ / Chesterville, ON</td>\n",
       "    </tr>\n",
       "    <tr>\n",
       "      <th>2</th>\n",
       "      <td>1st class</td>\n",
       "      <td>Deceased</td>\n",
       "      <td>Allison, Miss. Helen Loraine</td>\n",
       "      <td>female</td>\n",
       "      <td>2.0000</td>\n",
       "      <td>1</td>\n",
       "      <td>2</td>\n",
       "      <td>113781</td>\n",
       "      <td>151.5500</td>\n",
       "      <td>C22 C26</td>\n",
       "      <td>S</td>\n",
       "      <td>NaN</td>\n",
       "      <td>NaN</td>\n",
       "      <td>Montreal, PQ / Chesterville, ON</td>\n",
       "    </tr>\n",
       "    <tr>\n",
       "      <th>3</th>\n",
       "      <td>1st class</td>\n",
       "      <td>Deceased</td>\n",
       "      <td>Allison, Mr. Hudson Joshua Creighton</td>\n",
       "      <td>male</td>\n",
       "      <td>30.0000</td>\n",
       "      <td>1</td>\n",
       "      <td>2</td>\n",
       "      <td>113781</td>\n",
       "      <td>151.5500</td>\n",
       "      <td>C22 C26</td>\n",
       "      <td>S</td>\n",
       "      <td>NaN</td>\n",
       "      <td>135.0</td>\n",
       "      <td>Montreal, PQ / Chesterville, ON</td>\n",
       "    </tr>\n",
       "    <tr>\n",
       "      <th>4</th>\n",
       "      <td>1st class</td>\n",
       "      <td>Deceased</td>\n",
       "      <td>Allison, Mrs. Hudson J C (Bessie Waldo Daniels)</td>\n",
       "      <td>female</td>\n",
       "      <td>25.0000</td>\n",
       "      <td>1</td>\n",
       "      <td>2</td>\n",
       "      <td>113781</td>\n",
       "      <td>151.5500</td>\n",
       "      <td>C22 C26</td>\n",
       "      <td>S</td>\n",
       "      <td>NaN</td>\n",
       "      <td>NaN</td>\n",
       "      <td>Montreal, PQ / Chesterville, ON</td>\n",
       "    </tr>\n",
       "    <tr>\n",
       "      <th>5</th>\n",
       "      <td>1st class</td>\n",
       "      <td>Survived</td>\n",
       "      <td>Anderson, Mr. Harry</td>\n",
       "      <td>male</td>\n",
       "      <td>48.0000</td>\n",
       "      <td>0</td>\n",
       "      <td>0</td>\n",
       "      <td>19952</td>\n",
       "      <td>26.5500</td>\n",
       "      <td>E12</td>\n",
       "      <td>S</td>\n",
       "      <td>3</td>\n",
       "      <td>NaN</td>\n",
       "      <td>New York, NY</td>\n",
       "    </tr>\n",
       "    <tr>\n",
       "      <th>6</th>\n",
       "      <td>1st class</td>\n",
       "      <td>Survived</td>\n",
       "      <td>Andrews, Miss. Kornelia Theodosia</td>\n",
       "      <td>female</td>\n",
       "      <td>63.0000</td>\n",
       "      <td>1</td>\n",
       "      <td>0</td>\n",
       "      <td>13502</td>\n",
       "      <td>77.9583</td>\n",
       "      <td>D7</td>\n",
       "      <td>S</td>\n",
       "      <td>10</td>\n",
       "      <td>NaN</td>\n",
       "      <td>Hudson, NY</td>\n",
       "    </tr>\n",
       "    <tr>\n",
       "      <th>7</th>\n",
       "      <td>1st class</td>\n",
       "      <td>Deceased</td>\n",
       "      <td>Andrews, Mr. Thomas Jr</td>\n",
       "      <td>male</td>\n",
       "      <td>39.0000</td>\n",
       "      <td>0</td>\n",
       "      <td>0</td>\n",
       "      <td>112050</td>\n",
       "      <td>0.0000</td>\n",
       "      <td>A36</td>\n",
       "      <td>S</td>\n",
       "      <td>NaN</td>\n",
       "      <td>NaN</td>\n",
       "      <td>Belfast, NI</td>\n",
       "    </tr>\n",
       "    <tr>\n",
       "      <th>8</th>\n",
       "      <td>1st class</td>\n",
       "      <td>Survived</td>\n",
       "      <td>Appleton, Mrs. Edward Dale (Charlotte Lamson)</td>\n",
       "      <td>female</td>\n",
       "      <td>53.0000</td>\n",
       "      <td>2</td>\n",
       "      <td>0</td>\n",
       "      <td>11769</td>\n",
       "      <td>51.4792</td>\n",
       "      <td>C101</td>\n",
       "      <td>S</td>\n",
       "      <td>D</td>\n",
       "      <td>NaN</td>\n",
       "      <td>Bayside, Queens, NY</td>\n",
       "    </tr>\n",
       "    <tr>\n",
       "      <th>9</th>\n",
       "      <td>1st class</td>\n",
       "      <td>Deceased</td>\n",
       "      <td>Artagaveytia, Mr. Ramon</td>\n",
       "      <td>male</td>\n",
       "      <td>71.0000</td>\n",
       "      <td>0</td>\n",
       "      <td>0</td>\n",
       "      <td>PC 17609</td>\n",
       "      <td>49.5042</td>\n",
       "      <td>NaN</td>\n",
       "      <td>C</td>\n",
       "      <td>NaN</td>\n",
       "      <td>22.0</td>\n",
       "      <td>Montevideo, Uruguay</td>\n",
       "    </tr>\n",
       "  </tbody>\n",
       "</table>\n",
       "</div>"
      ],
      "text/plain": [
       "      pclass  survived                                             name  \\\n",
       "0  1st class  Survived                    Allen, Miss. Elisabeth Walton   \n",
       "1  1st class  Survived                   Allison, Master. Hudson Trevor   \n",
       "2  1st class  Deceased                     Allison, Miss. Helen Loraine   \n",
       "3  1st class  Deceased             Allison, Mr. Hudson Joshua Creighton   \n",
       "4  1st class  Deceased  Allison, Mrs. Hudson J C (Bessie Waldo Daniels)   \n",
       "5  1st class  Survived                              Anderson, Mr. Harry   \n",
       "6  1st class  Survived                Andrews, Miss. Kornelia Theodosia   \n",
       "7  1st class  Deceased                           Andrews, Mr. Thomas Jr   \n",
       "8  1st class  Survived    Appleton, Mrs. Edward Dale (Charlotte Lamson)   \n",
       "9  1st class  Deceased                          Artagaveytia, Mr. Ramon   \n",
       "\n",
       "      sex      age  sibsp  parch    ticket      fare    cabin embarked boat  \\\n",
       "0  female  29.0000      0      0     24160  211.3375       B5        S    2   \n",
       "1    male   0.9167      1      2    113781  151.5500  C22 C26        S   11   \n",
       "2  female   2.0000      1      2    113781  151.5500  C22 C26        S  NaN   \n",
       "3    male  30.0000      1      2    113781  151.5500  C22 C26        S  NaN   \n",
       "4  female  25.0000      1      2    113781  151.5500  C22 C26        S  NaN   \n",
       "5    male  48.0000      0      0     19952   26.5500      E12        S    3   \n",
       "6  female  63.0000      1      0     13502   77.9583       D7        S   10   \n",
       "7    male  39.0000      0      0    112050    0.0000      A36        S  NaN   \n",
       "8  female  53.0000      2      0     11769   51.4792     C101        S    D   \n",
       "9    male  71.0000      0      0  PC 17609   49.5042      NaN        C  NaN   \n",
       "\n",
       "    body                        home.dest  \n",
       "0    NaN                     St Louis, MO  \n",
       "1    NaN  Montreal, PQ / Chesterville, ON  \n",
       "2    NaN  Montreal, PQ / Chesterville, ON  \n",
       "3  135.0  Montreal, PQ / Chesterville, ON  \n",
       "4    NaN  Montreal, PQ / Chesterville, ON  \n",
       "5    NaN                     New York, NY  \n",
       "6    NaN                       Hudson, NY  \n",
       "7    NaN                      Belfast, NI  \n",
       "8    NaN              Bayside, Queens, NY  \n",
       "9   22.0              Montevideo, Uruguay  "
      ]
     },
     "execution_count": 8,
     "metadata": {},
     "output_type": "execute_result"
    }
   ],
   "source": [
    "total_raw_df.head(10)"
   ]
  },
  {
   "cell_type": "code",
   "execution_count": 9,
   "id": "46384e3c-6d73-46b4-bc5b-c3c3d71220cd",
   "metadata": {},
   "outputs": [
    {
     "data": {
      "text/html": [
       "<div>\n",
       "<style scoped>\n",
       "    .dataframe tbody tr th:only-of-type {\n",
       "        vertical-align: middle;\n",
       "    }\n",
       "\n",
       "    .dataframe tbody tr th {\n",
       "        vertical-align: top;\n",
       "    }\n",
       "\n",
       "    .dataframe thead th {\n",
       "        text-align: right;\n",
       "    }\n",
       "</style>\n",
       "<table border=\"1\" class=\"dataframe\">\n",
       "  <thead>\n",
       "    <tr style=\"text-align: right;\">\n",
       "      <th></th>\n",
       "      <th>age</th>\n",
       "      <th>sibsp</th>\n",
       "      <th>parch</th>\n",
       "      <th>fare</th>\n",
       "      <th>body</th>\n",
       "    </tr>\n",
       "  </thead>\n",
       "  <tbody>\n",
       "    <tr>\n",
       "      <th>count</th>\n",
       "      <td>1046.000000</td>\n",
       "      <td>1309.000000</td>\n",
       "      <td>1309.000000</td>\n",
       "      <td>1308.000000</td>\n",
       "      <td>121.000000</td>\n",
       "    </tr>\n",
       "    <tr>\n",
       "      <th>mean</th>\n",
       "      <td>29.881135</td>\n",
       "      <td>0.498854</td>\n",
       "      <td>0.385027</td>\n",
       "      <td>33.295479</td>\n",
       "      <td>160.809917</td>\n",
       "    </tr>\n",
       "    <tr>\n",
       "      <th>std</th>\n",
       "      <td>14.413500</td>\n",
       "      <td>1.041658</td>\n",
       "      <td>0.865560</td>\n",
       "      <td>51.758668</td>\n",
       "      <td>97.696922</td>\n",
       "    </tr>\n",
       "    <tr>\n",
       "      <th>min</th>\n",
       "      <td>0.166700</td>\n",
       "      <td>0.000000</td>\n",
       "      <td>0.000000</td>\n",
       "      <td>0.000000</td>\n",
       "      <td>1.000000</td>\n",
       "    </tr>\n",
       "    <tr>\n",
       "      <th>25%</th>\n",
       "      <td>21.000000</td>\n",
       "      <td>0.000000</td>\n",
       "      <td>0.000000</td>\n",
       "      <td>7.895800</td>\n",
       "      <td>72.000000</td>\n",
       "    </tr>\n",
       "    <tr>\n",
       "      <th>50%</th>\n",
       "      <td>28.000000</td>\n",
       "      <td>0.000000</td>\n",
       "      <td>0.000000</td>\n",
       "      <td>14.454200</td>\n",
       "      <td>155.000000</td>\n",
       "    </tr>\n",
       "    <tr>\n",
       "      <th>75%</th>\n",
       "      <td>39.000000</td>\n",
       "      <td>1.000000</td>\n",
       "      <td>0.000000</td>\n",
       "      <td>31.275000</td>\n",
       "      <td>256.000000</td>\n",
       "    </tr>\n",
       "    <tr>\n",
       "      <th>max</th>\n",
       "      <td>80.000000</td>\n",
       "      <td>8.000000</td>\n",
       "      <td>9.000000</td>\n",
       "      <td>512.329200</td>\n",
       "      <td>328.000000</td>\n",
       "    </tr>\n",
       "  </tbody>\n",
       "</table>\n",
       "</div>"
      ],
      "text/plain": [
       "               age        sibsp        parch         fare        body\n",
       "count  1046.000000  1309.000000  1309.000000  1308.000000  121.000000\n",
       "mean     29.881135     0.498854     0.385027    33.295479  160.809917\n",
       "std      14.413500     1.041658     0.865560    51.758668   97.696922\n",
       "min       0.166700     0.000000     0.000000     0.000000    1.000000\n",
       "25%      21.000000     0.000000     0.000000     7.895800   72.000000\n",
       "50%      28.000000     0.000000     0.000000    14.454200  155.000000\n",
       "75%      39.000000     1.000000     0.000000    31.275000  256.000000\n",
       "max      80.000000     8.000000     9.000000   512.329200  328.000000"
      ]
     },
     "execution_count": 9,
     "metadata": {},
     "output_type": "execute_result"
    }
   ],
   "source": [
    "# Have a global look to dataset\n",
    "total_raw_df.describe()"
   ]
  },
  {
   "cell_type": "code",
   "execution_count": 10,
   "id": "1a2020b6-2787-4b75-a44f-4006c3fefc75",
   "metadata": {},
   "outputs": [
    {
     "name": "stdout",
     "output_type": "stream",
     "text": [
      "Column pclass has 0 nulls\n",
      "Column survived has 0 nulls\n",
      "Column name has 0 nulls\n",
      "Column sex has 0 nulls\n",
      "Column age has 263 nulls\n",
      "Column sibsp has 0 nulls\n",
      "Column parch has 0 nulls\n",
      "Column ticket has 0 nulls\n",
      "Column fare has 1 nulls\n",
      "Column cabin has 1014 nulls\n",
      "Column embarked has 2 nulls\n",
      "Column boat has 823 nulls\n",
      "Column body has 1188 nulls\n",
      "Column home.dest has 564 nulls\n"
     ]
    }
   ],
   "source": [
    "# Look for missing values\n",
    "for el in total_raw_df.columns:\n",
    "    num_null = total_raw_df[el].isnull().sum()\n",
    "    print(f'Column \"{el}\" has {num_null} nulls')"
   ]
  },
  {
   "cell_type": "markdown",
   "id": "6fd9a21c-39fe-47f6-bf26-b7812c028ae2",
   "metadata": {},
   "source": [
    "### Visualize some data"
   ]
  },
  {
   "cell_type": "markdown",
   "id": "7a440bc2-08f0-40f4-924a-a648a5ecf86e",
   "metadata": {},
   "source": [
    "#### Passenger composition"
   ]
  },
  {
   "cell_type": "code",
   "execution_count": 11,
   "id": "0b8c07e4-59f2-4d79-9b56-248ab5307c1b",
   "metadata": {},
   "outputs": [
    {
     "data": {
      "text/html": [
       "<iframe\n",
       "    scrolling=\"no\"\n",
       "    width=\"820px\"\n",
       "    height=\"820\"\n",
       "    src=\"iframe_figures/figure_11.html\"\n",
       "    frameborder=\"0\"\n",
       "    allowfullscreen\n",
       "></iframe>\n"
      ]
     },
     "metadata": {},
     "output_type": "display_data"
    }
   ],
   "source": [
    "# Survival by sex\n",
    "plot_sunburst(\n",
    "    df=total_raw_df, \n",
    "    hierarchy=['sex', 'survived'],\n",
    "    title='Passenger survival by sex - interactive',\n",
    "    color='sex',\n",
    "    color_mapping = {\n",
    "        'Deceased': \"#79857e\", \n",
    "        'Survived': \"#07f01b\", \n",
    "        'female': \"#c71585\", \n",
    "        'male': \"#0000cd\"\n",
    "    }\n",
    ")"
   ]
  },
  {
   "cell_type": "code",
   "execution_count": 12,
   "id": "62e1ab6d-86a2-4228-a2b6-376675652b93",
   "metadata": {},
   "outputs": [
    {
     "data": {
      "text/html": [
       "<iframe\n",
       "    scrolling=\"no\"\n",
       "    width=\"820px\"\n",
       "    height=\"820\"\n",
       "    src=\"iframe_figures/figure_12.html\"\n",
       "    frameborder=\"0\"\n",
       "    allowfullscreen\n",
       "></iframe>\n"
      ]
     },
     "metadata": {},
     "output_type": "display_data"
    }
   ],
   "source": [
    " # Survival by class\n",
    "total_raw_df['pclass'].replace(to_replace=[1, 2, 3], value=['1st class', '2nd class', '3rd class'], inplace=True)\n",
    "    \n",
    "plot_sunburst(\n",
    "    df=total_raw_df.astype({'pclass': str}), \n",
    "    hierarchy=['pclass', 'survived'],\n",
    "    title='Passenger survival by class - interactive',\n",
    "    color='pclass',\n",
    "    color_mapping = {\n",
    "        'Deceased': \"#79857e\", \n",
    "        'Survived': \"#07f01b\", \n",
    "        '1st class': \"#e89910\", \n",
    "        '2nd class': \"#e81710\",\n",
    "        '3rd class': \"#10e8e1\"\n",
    "    }\n",
    ")"
   ]
  },
  {
   "cell_type": "markdown",
   "id": "c7e7bd71-8b00-4466-b560-1c60d36f782a",
   "metadata": {},
   "source": [
    "##### Age ranges:\n",
    "- < 3 = baby\n",
    "- 4-17 = kid\n",
    "- 18-40 = adult\n",
    "- 41-60 = middle aged man\n",
    "- 61+ = elderly"
   ]
  },
  {
   "cell_type": "code",
   "execution_count": 13,
   "id": "e5c5cca9-dafe-4188-8ddd-8d34133a2eea",
   "metadata": {},
   "outputs": [],
   "source": [
    "# Survival by age range\n",
    "# Convert number to age range\n",
    "bins = [0, 3, 17, 40, 60, 99]\n",
    "labels = ['Baby', 'Kid', 'Adult', 'Middle aged', 'Elderly']\n",
    "total_raw_df['age'] = pd.cut(x=total_raw_df['age'], bins=bins, labels=labels)"
   ]
  },
  {
   "cell_type": "code",
   "execution_count": 14,
   "id": "9e350345-d4ff-4578-84aa-f74c3353f15e",
   "metadata": {},
   "outputs": [
    {
     "data": {
      "text/html": [
       "<iframe\n",
       "    scrolling=\"no\"\n",
       "    width=\"820px\"\n",
       "    height=\"820\"\n",
       "    src=\"iframe_figures/figure_14.html\"\n",
       "    frameborder=\"0\"\n",
       "    allowfullscreen\n",
       "></iframe>\n"
      ]
     },
     "metadata": {},
     "output_type": "display_data"
    }
   ],
   "source": [
    "plot_sunburst(\n",
    "    df=total_raw_df[total_raw_df['age'].notnull()],  # Filter out null values, \n",
    "    hierarchy=['age', 'survived'],\n",
    "    title='Passenger survival by age range - interactive',\n",
    "    color='age',\n",
    "    color_mapping = {\n",
    "        'Deceased': \"#79857e\", \n",
    "        'Survived': \"#07f01b\", \n",
    "        'Baby': \"#e7feff\", \n",
    "        'Kid': \"#add8e6\",\n",
    "        'Adult': \"#6495ed\",\n",
    "        'Middle aged': '#0000cd',\n",
    "        'Elderly': '#000080'\n",
    "    }\n",
    ")"
   ]
  }
 ],
 "metadata": {
  "kernelspec": {
   "display_name": "Python 3 (ipykernel)",
   "language": "python",
   "name": "python3"
  },
  "language_info": {
   "codemirror_mode": {
    "name": "ipython",
    "version": 3
   },
   "file_extension": ".py",
   "mimetype": "text/x-python",
   "name": "python",
   "nbconvert_exporter": "python",
   "pygments_lexer": "ipython3",
   "version": "3.8.10"
  }
 },
 "nbformat": 4,
 "nbformat_minor": 5
}
