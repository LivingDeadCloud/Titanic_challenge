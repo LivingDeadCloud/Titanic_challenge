{
 "cells": [
  {
   "cell_type": "markdown",
   "id": "a4d66367-1152-4d25-9a24-eca424d0413a",
   "metadata": {
    "jp-MarkdownHeadingCollapsed": true,
    "tags": []
   },
   "source": [
    "# Setup notebook"
   ]
  },
  {
   "cell_type": "code",
   "execution_count": 89,
   "id": "e456510a-ef46-4e32-a5a9-0d04cc242f71",
   "metadata": {},
   "outputs": [],
   "source": [
    "# Import libraries\n",
    "import pandas as pd\n",
    "# Set display options to show all rows\n",
    "pd.set_option('display.max_rows', None)\n",
    "import numpy as np\n",
    "from collections import defaultdict\n",
    "import joblib\n",
    "\n",
    "import plotly.express as px\n",
    "import plotly.io as pio\n",
    "from plotly.subplots import make_subplots\n",
    "pio.renderers.default = 'vscode'\n",
    "\n",
    "from sklearn.preprocessing import StandardScaler, LabelEncoder, MinMaxScaler, RobustScaler\n",
    "from sklearn.svm import SVC\n",
    "from sklearn.impute import SimpleImputer\n",
    "from sklearn.pipeline import Pipeline\n",
    "from sklearn.compose import ColumnTransformer\n",
    "from sklearn.preprocessing import OneHotEncoder\n",
    "from statsmodels.stats.outliers_influence import variance_inflation_factor\n",
    "from sklearn.svm import SVC\n",
    "from sklearn.ensemble import RandomForestClassifier, VotingClassifier\n",
    "from sklearn.naive_bayes import GaussianNB\n",
    "from sklearn.model_selection import GridSearchCV, train_test_split, cross_val_score, cross_validate\n",
    "from sklearn.metrics import make_scorer, accuracy_score, precision_score, recall_score, f1_score"
   ]
  },
  {
   "cell_type": "markdown",
   "id": "136ae6a1-154d-4b78-b0ce-a98c11708101",
   "metadata": {
    "tags": []
   },
   "source": [
    "## Functions"
   ]
  },
  {
   "cell_type": "code",
   "execution_count": 2,
   "id": "c39a3012-1564-4aea-9ce3-e6b56977d178",
   "metadata": {},
   "outputs": [],
   "source": [
    "def plot_pie(df, col_to_plot, title, hole_size, color_sequence, legend_dict):\n",
    "    \"\"\"\n",
    "    Plots a pie chart using Plotly.\n",
    "\n",
    "    Args:\n",
    "        df (pd.DataFrame): The DataFrame containing the data.\n",
    "        col_to_plot (str): The column name to be used for pie chart categories.\n",
    "        title (str): The title of the pie chart.\n",
    "        hole_size (float): The size of the hole in the center (for donut charts, e.g., 0 for full pie, 0.5 for half).\n",
    "        color_sequence (list): A list of colors for the pie chart slices.\n",
    "        legend_dict (dict): A dictionary mapping original category values to new legend labels.\n",
    "\n",
    "    Raises:\n",
    "        ValueError: If `legend_dict` and `color_sequence` do not have the same length.\n",
    "\n",
    "    Returns:\n",
    "        None: Displays the pie chart.\n",
    "\n",
    "    Example:\n",
    "        >>> df = pd.DataFrame({'Category': ['A', 'B', 'C'], 'Values': [10, 20, 30]})\n",
    "        >>> legend_dict = {'A': 'Alpha', 'B': 'Beta', 'C': 'Gamma'}\n",
    "        >>> plot_pie(df, 'Category', 'Sample Pie Chart', 0.2, ['red', 'blue', 'green'], legend_dict)\n",
    "    \"\"\"\n",
    "\n",
    "    if len(legend_dict) == 0:\n",
    "        fig = px.pie(\n",
    "            df,  # Changed from total_raw_df (assuming it's a typo)\n",
    "            names=df[col_to_plot],\n",
    "            title=title,\n",
    "            hole=hole_size,\n",
    "            color_discrete_sequence=color_sequence,\n",
    "        )\n",
    "    elif len(legend_dict) != len(color_sequence):\n",
    "        raise ValueError('legend_dict and color_sequence must have the same length')\n",
    "    else:\n",
    "        fig = px.pie(\n",
    "            df,  # Changed from total_raw_df\n",
    "            names=df[col_to_plot].map(legend_dict),\n",
    "            title=title,\n",
    "            hole=hole_size,\n",
    "            color_discrete_sequence=color_sequence,\n",
    "        )\n",
    "\n",
    "    fig.update_layout(\n",
    "        font=dict(size=18),\n",
    "        autosize=False,\n",
    "        width=800,\n",
    "        height=800,\n",
    "    )\n",
    "    fig.show()\n"
   ]
  },
  {
   "cell_type": "code",
   "execution_count": 3,
   "id": "23027d50-6c2a-4a47-8bc9-58013b8d2ea4",
   "metadata": {},
   "outputs": [],
   "source": [
    "def plot_sunburst(df, hierarchy, title, color, color_mapping):\n",
    "    \"\"\"\n",
    "    Plots a sunburst chart using Plotly.\n",
    "\n",
    "    Args:\n",
    "        df (pd.DataFrame): The DataFrame containing hierarchical data.\n",
    "        hierarchy (list): A list of column names defining the hierarchy for the sunburst chart.\n",
    "        title (str): The title of the sunburst chart.\n",
    "        color (str): The column name used for coloring the chart.\n",
    "        color_mapping (dict): A dictionary mapping category labels to specific colors.\n",
    "\n",
    "    Raises:\n",
    "        KeyError: If any category in the data does not exist in `color_mapping`.\n",
    "\n",
    "    Returns:\n",
    "        None: Displays the sunburst chart.\n",
    "\n",
    "    Example:\n",
    "        >>> df = pd.DataFrame({\n",
    "        ...     'Category': ['A', 'A', 'B', 'B'],\n",
    "        ...     'Subcategory': ['X', 'Y', 'X', 'Z'],\n",
    "        ...     'Value': [10, 20, 30, 40]\n",
    "        ... })\n",
    "        >>> hierarchy = ['Category', 'Subcategory']\n",
    "        >>> color_mapping = {'A': 'red', 'B': 'blue', 'X': 'green', 'Y': 'purple', 'Z': 'orange'}\n",
    "        >>> plot_sunburst(df, hierarchy, 'Sunburst Chart', 'Category', color_mapping)\n",
    "    \"\"\"\n",
    "\n",
    "    fig = px.sunburst(\n",
    "        df,\n",
    "        path=hierarchy,\n",
    "        title=title,\n",
    "        color=df[color],\n",
    "    )\n",
    "\n",
    "    fig.update_traces(\n",
    "        textinfo=\"label+percent parent\",\n",
    "        insidetextorientation='horizontal',\n",
    "        marker_colors=[color_mapping[cat] for cat in fig.data[-1].labels]\n",
    "    )\n",
    "\n",
    "    fig.update_layout(\n",
    "        font=dict(size=18),\n",
    "        autosize=False,\n",
    "        width=800,\n",
    "        height=800,\n",
    "    )\n",
    "\n",
    "    fig.show()\n"
   ]
  },
  {
   "cell_type": "code",
   "execution_count": 4,
   "id": "7056e043",
   "metadata": {},
   "outputs": [],
   "source": [
    "def extract_names(name):\n",
    "    \"\"\"\n",
    "    Extracts the family name, title, and first name(s) from a full name string.\n",
    "\n",
    "    Args:\n",
    "        name (str): A name string formatted as \"LastName, Title. FirstName\" \n",
    "                    or \"LastName, Title. (SpouseFirstName SpouseLastName)\".\n",
    "\n",
    "    Returns:\n",
    "        tuple: (Family Name, Title, First Name)\n",
    "    \"\"\"\n",
    "    \n",
    "    if '(' in name and ')' in name: # Example: 'Smith, Mrs. (Jane Smith)'\n",
    "        family_name, rest = name.split(',', 1) # family:name = 'Smith' rest = ', Mrs. (Jane Smith)'\n",
    "        title = rest.split('.', 1)[0] # title = ' Mrs'\n",
    "        # Remove parentheses and extract the spouse's first name\n",
    "        spouse_name = rest[rest.find('('):rest.find(')')+1].strip()[1:-1] # spouse_name = 'Jane Smith'\n",
    "        # If only one name is present, it is first name\n",
    "        if ' ' in spouse_name:\n",
    "            # Exclude the last name\n",
    "            first_name = ' '.join(spouse_name.split()[:-1]) # first_name = 'Jane'\n",
    "        else:\n",
    "            first_name = spouse_name\n",
    "    else:\n",
    "        family_name, rest = name.split(',', 1)\n",
    "        title, first_name = rest.split('.', 1)\n",
    "    return family_name.strip(), title.strip(), first_name.strip()"
   ]
  },
  {
   "cell_type": "code",
   "execution_count": 5,
   "id": "baf07470",
   "metadata": {},
   "outputs": [],
   "source": [
    "def split_name_column(df):\n",
    "    \"\"\"\n",
    "    Splits the 'Name' column in a DataFrame into 'Family Name', 'Title', and 'First Name'.  \n",
    "    It also handles cases where a spouse's name is enclosed in parentheses.\n",
    "\n",
    "    The function assumes that names are formatted as either:  \n",
    "    1. `\"LastName, Title. FirstName\"`  \n",
    "    2. `\"LastName, Title. (SpouseFirstName SpouseLastName)\"`  \n",
    "\n",
    "    When a spouse's name is included in parentheses, the function extracts only the spouse's first name(s).\n",
    "\n",
    "    Args:\n",
    "        df (pd.DataFrame): A DataFrame containing a 'Name' column with names in one of the above formats.\n",
    "\n",
    "    Returns:\n",
    "        pd.DataFrame: The modified DataFrame with new columns: 'Family Name', 'Title', and 'First Name'.\n",
    "                      The original 'Name' column is removed.\n",
    "\n",
    "    Example:\n",
    "        >>> data = {'Name': ['Doe, Mr. John', 'Smith, Mrs. (Jane Smith)']}\n",
    "        >>> df = pd.DataFrame(data)\n",
    "        >>> split_name_column(df)\n",
    "           Family Name Title First Name\n",
    "        0        Doe   Mr    John\n",
    "        1      Smith   Mrs   Jane\n",
    "    \"\"\"\n",
    "    \n",
    "    # Apply the extraction function to each row and create new columns\n",
    "    df[['Family Name', 'Title', 'First Name']] = df['Name'].apply(lambda x: pd.Series(extract_names(x)))\n",
    "    \n",
    "    # Drop the 'Name' column as it is no longer needed\n",
    "    df.drop(columns=['Name'], inplace=True)\n",
    "    \n",
    "    return df\n"
   ]
  },
  {
   "cell_type": "code",
   "execution_count": 6,
   "id": "7f62dcd2",
   "metadata": {},
   "outputs": [],
   "source": [
    "def classify_passengers(df):\n",
    "    \"\"\"\n",
    "    Classifies Titanic passengers into solo travelers, families, or friends based on ticket and family name information.\n",
    "\n",
    "    A passenger is classified as:\n",
    "    - **Solo traveler (0)**: If they are the only person with their ticket.\n",
    "    - **Family member (1)**: If they share a ticket and the same family name with others.\n",
    "    - **Friend (2)**: If they share a ticket but have different family names.\n",
    "\n",
    "    Args:\n",
    "        df (pd.DataFrame): A DataFrame containing 'Ticket' and 'Family Name' columns.\n",
    "\n",
    "    Returns:\n",
    "        pd.DataFrame: The updated DataFrame with a new 'Company' column:\n",
    "                      - 0: Solo traveler\n",
    "                      - 1: Family member\n",
    "                      - 2: Friend\n",
    "\n",
    "    Example:\n",
    "        >>> data = {'Ticket': ['A123', 'A123', 'B456', 'C789', 'C789'], \n",
    "                    'Family Name': ['Smith', 'Smith', 'Doe', 'Brown', 'Taylor']}\n",
    "        >>> df = pd.DataFrame(data)\n",
    "        >>> classify_passengers(df)\n",
    "           Ticket Family Name  Company\n",
    "        0   A123      Smith      1\n",
    "        1   A123      Smith      1\n",
    "        2   B456        Doe      0\n",
    "        3   C789      Brown      2\n",
    "        4   C789     Taylor      2\n",
    "    \"\"\"\n",
    "\n",
    "    # Count the number of occurrences for each ticket\n",
    "    ticket_counts = df['Ticket'].value_counts()\n",
    "\n",
    "    # Identify passengers traveling alone (unique ticket)\n",
    "    df['Company'] = df['Ticket'].map(lambda x: 0 if ticket_counts[x] == 1 else None)\n",
    "\n",
    "    # Group passengers who are not alone by ticket\n",
    "    group_ticket_all = df[df['Company'].isna()].groupby('Ticket')\n",
    "\n",
    "    for ticket, group_ticket in group_ticket_all:\n",
    "\n",
    "        # #DEBUGONLY\n",
    "        # print(\"-\" * 40)\n",
    "        # print(f\"TICKET: {ticket}\")\n",
    "        # print(group_ticket)\n",
    "\n",
    "        if len(group_ticket) > 1:\n",
    "            # Further group by family name to classify families\n",
    "            group_family_all = group_ticket.groupby('Family Name')\n",
    "            for family_name, group_family in group_family_all:\n",
    "\n",
    "                # #DEBUGONLY\n",
    "                # print(\"-\" * 20)\n",
    "                # print(f\"Family Name: {family_name}\")\n",
    "                # print(group_family)\n",
    "\n",
    "                if len(group_family) > 1:\n",
    "                    df.loc[group_family.index, 'Company'] = 1  # Mark as family members\n",
    "                else:\n",
    "                    # Remaining passengers in the group are friends\n",
    "                    df.loc[group_ticket.index[df.loc[group_ticket.index, 'Company'].isna()], 'Company'] = 2  \n",
    "\n",
    "    return df\n"
   ]
  },
  {
   "cell_type": "code",
   "execution_count": 7,
   "id": "004d651f",
   "metadata": {},
   "outputs": [],
   "source": [
    "def find_friends(df):\n",
    "    \"\"\"\n",
    "    Identifies passengers who share a ticket with others but have different family names, classifying them as friends.\n",
    "\n",
    "    A \"friend\" is defined as:\n",
    "    - A passenger who shares the same 'Ticket' with at least one other passenger.\n",
    "    - The passengers in the group have different 'Family Name' values.\n",
    "\n",
    "    Args:\n",
    "        df (pd.DataFrame): A DataFrame containing 'Ticket' and 'Family Name' columns.\n",
    "\n",
    "    Returns:\n",
    "        pd.DataFrame: A subset of the original DataFrame containing only friends.\n",
    "\n",
    "    Example:\n",
    "        >>> data = {'Ticket': ['A123', 'A123', 'B456', 'C789', 'C789'], \n",
    "                    'Family Name': ['Smith', 'Johnson', 'Doe', 'Brown', 'Taylor']}\n",
    "        >>> df = pd.DataFrame(data)\n",
    "        >>> find_friends(df)\n",
    "           Ticket Family Name\n",
    "        0   A123      Smith\n",
    "        1   A123    Johnson\n",
    "        3   C789      Brown\n",
    "        4   C789     Taylor\n",
    "    \"\"\"\n",
    "\n",
    "    # Group by 'Ticket' and count the number of unique family names per ticket\n",
    "    grouped = df.groupby('Ticket')['Family Name'].nunique()\n",
    "\n",
    "    # Identify tickets that have more than one unique family name (indicating friends)\n",
    "    friend_tickets = grouped[grouped > 1].index\n",
    "\n",
    "    # Filter and return only passengers traveling on these tickets\n",
    "    return df[df['Ticket'].isin(friend_tickets)]\n"
   ]
  },
  {
   "cell_type": "code",
   "execution_count": 8,
   "id": "72eb19d2",
   "metadata": {},
   "outputs": [],
   "source": [
    "def impute_ages_randomly(df, company):\n",
    "    \"\"\"\n",
    "    Imputes missing 'Age' values for travelers belonging to a specified company.\n",
    "\n",
    "    This function identifies travelers based on the 'Company' column, then uses the \n",
    "    non-missing 'Age' values of these travelers to randomly impute any missing ages. \n",
    "    The imputation preserves the original age distribution by sampling with replacement \n",
    "    from the observed ages.\n",
    "\n",
    "    Args:\n",
    "        df (pd.DataFrame): A DataFrame containing at least the 'Company' and 'Age' columns.\n",
    "        company (str): The company identifier used to filter solo travelers.\n",
    "\n",
    "    Returns:\n",
    "        pd.DataFrame: The input DataFrame with missing 'Age' values imputed for the specified company's solo travelers.\n",
    "\n",
    "    Example:\n",
    "        >>> data = {'Company': ['A', 'A', 'B', 'A'],\n",
    "        ...         'Age': [25, np.nan, 30, np.nan]}\n",
    "        >>> df = pd.DataFrame(data)\n",
    "        >>> imputed_df = impute_ages(df, 'A')\n",
    "        >>> print(imputed_df)\n",
    "           Company   Age\n",
    "        0       A  25.0\n",
    "        1       A  25.0  # or another sampled age from company 'A'\n",
    "        2       B  30.0\n",
    "        3       A  25.0  # or another sampled age from company 'A'\n",
    "    \"\"\"\n",
    "    # Identify solo travelers belonging to the specified company\n",
    "    solo_mask = df['Company'] == company\n",
    "    \n",
    "    # Extract observed ages for solo travelers (non-missing)\n",
    "    observed_ages = df.loc[solo_mask, 'Age'].dropna().values\n",
    "    \n",
    "    # Get the indices where Age is missing for solo travelers\n",
    "    missing_indices = df.loc[solo_mask & df['Age'].isna()].index\n",
    "    \n",
    "    # Randomly sample from the observed ages to fill in the missing values\n",
    "    # Using np.random.choice to preserve the original age distribution\n",
    "    imputed_values = np.random.choice(observed_ages, size=len(missing_indices), replace=True)\n",
    "    \n",
    "    # Fill in the missing values\n",
    "    df.loc[missing_indices, 'Age'] = imputed_values\n",
    "    \n",
    "    return df"
   ]
  },
  {
   "cell_type": "code",
   "execution_count": 9,
   "id": "e633badd",
   "metadata": {},
   "outputs": [],
   "source": [
    "def compute_reference_medians(df, family_identifier_cols=['Ticket', 'Family Name']):\n",
    "    \"\"\"\n",
    "    #TODO: Add docstring\n",
    "    \"\"\"\n",
    "    parent_ages = []\n",
    "    child_ages = []\n",
    "    \n",
    "    # Group by the family identifier\n",
    "    families = df.groupby(family_identifier_cols)\n",
    "    for name, group in families:\n",
    "        # Only use families with no missing age values\n",
    "        if group['Age'].isna().sum() == 0:\n",
    "            ages_sorted = group['Age'].sort_values(ascending=False).values\n",
    "            if len(ages_sorted) >= 2:\n",
    "                # Two oldest assumed as parents\n",
    "                parent_ages.extend(ages_sorted[:2])\n",
    "                # The rest are children (if any)\n",
    "                if len(ages_sorted) > 2:\n",
    "                    child_ages.extend(ages_sorted[2:])\n",
    "            else:\n",
    "                # If only one member, you may decide how to treat it (e.g., as a solo traveler)\n",
    "                parent_ages.append(ages_sorted[0])\n",
    "                \n",
    "    parent_median = np.median(parent_ages) if parent_ages else None\n",
    "    child_median = np.median(child_ages) if child_ages else None\n",
    "    return parent_median, child_median"
   ]
  },
  {
   "cell_type": "code",
   "execution_count": 10,
   "id": "53f63c7d",
   "metadata": {},
   "outputs": [],
   "source": [
    "def impute_family_ages(df, family_identifier_cols=['Ticket', 'Family Name']):\n",
    "    \"\"\"\n",
    "    #TODO: Add docstring\n",
    "    \"\"\"\n",
    "    # First, compute reference medians using families with complete data\n",
    "    parent_median, child_median = compute_reference_medians(df, family_identifier_cols)\n",
    "    print(\"Reference Parent Median Age:\", parent_median)\n",
    "    print(\"Reference Child Median Age:\", child_median)\n",
    "    \n",
    "    # Create a copy to avoid modifying original DataFrame\n",
    "    df_imputed = df.copy()\n",
    "    \n",
    "    # Function to impute a single family group\n",
    "    def impute_group(group):\n",
    "        # Make a copy of group rows\n",
    "        group = group.copy()\n",
    "        # Identify rows with known and missing ages\n",
    "        known = group[group['Age'].notna()]\n",
    "        missing = group[group['Age'].isna()]\n",
    "        \n",
    "        # If the family has less than 2 members, there is no grouping to decide parent/child roles\n",
    "        if len(group) < 2:\n",
    "            # For a single member, you might want to leave it or use a global median\n",
    "            group.loc[group['Age'].isna(), 'Age'] = parent_median if parent_median is not None else group['Age'].median()\n",
    "            return group\n",
    "        \n",
    "        # Determine order. For known ages, sort descending.\n",
    "        # For missing ages, we cannot sort by age so we tentatively append them.\n",
    "        group['sort_order'] = group['Age']  # This will be NaN for missing ages\n",
    "        group = group.sort_values(by='sort_order', ascending=False, na_position='last')\n",
    "        \n",
    "        # Now, assume that the top two positions are parents.\n",
    "        # Create a new column to store inferred role: 'Parent' or 'Child'\n",
    "        group['role'] = np.nan\n",
    "        # Get index of top two rows (by current sorted order)\n",
    "        group_roles = group.index.tolist()\n",
    "        if len(group_roles) >= 2:\n",
    "            # For the two oldest positions, set as 'Parent'\n",
    "            group.loc[group_roles[0:2], 'role'] = 'Parent'\n",
    "            # The rest become 'Child'\n",
    "            if len(group_roles) > 2:\n",
    "                group.loc[group_roles[2:], 'role'] = 'Child'\n",
    "        else:\n",
    "            # If there is only one member, assume parent.\n",
    "            group['role'] = 'Parent'\n",
    "        \n",
    "        # Now, for missing ages, impute based on their inferred role\n",
    "        def impute_age(row):\n",
    "            if pd.notna(row['Age']):\n",
    "                return row['Age']\n",
    "            else:\n",
    "                if row['role'] == 'Parent' and parent_median is not None:\n",
    "                    return parent_median\n",
    "                elif row['role'] == 'Child' and child_median is not None:\n",
    "                    return child_median\n",
    "                else:\n",
    "                    # fallback if median not available\n",
    "                    return df_imputed['Age'].median()\n",
    "                    \n",
    "        group['Age'] = group.apply(impute_age, axis=1)\n",
    "        group = group.drop(columns=['sort_order', 'role'])\n",
    "        return group\n",
    "\n",
    "    # Apply the imputation to families only (Company == 1, assumed to be families)\n",
    "    # If you want to restrict to families, you can filter by another column if available.\n",
    "    family_groups = df_imputed.groupby(family_identifier_cols)\n",
    "    df_imputed = family_groups.apply(impute_group).reset_index(drop=True)\n",
    "    \n",
    "    return df_imputed"
   ]
  },
  {
   "cell_type": "code",
   "execution_count": 11,
   "id": "cd9f1f73",
   "metadata": {},
   "outputs": [],
   "source": [
    "def impute_family_ages_randomly(df, family_identifier_cols=['Ticket', 'Family Name']):\n",
    "    \"\"\"\n",
    "    #TODO: Add docstring\n",
    "    \"\"\"\n",
    "    df = df.copy()\n",
    "    \n",
    "    # Identify family groups (assumed Company == 1 indicates family travelers)\n",
    "    family_mask = df['Company'] == 1\n",
    "    \n",
    "    # Overall observed ages for families (fallback option)\n",
    "    overall_family_ages = df.loc[family_mask, 'Age'].dropna().values\n",
    "    \n",
    "    # Group by the family identifier\n",
    "    families = df.loc[family_mask].groupby(family_identifier_cols)\n",
    "    \n",
    "    for group_id, group in families:\n",
    "        # Find indices with missing ages in this family group\n",
    "        missing_indices = group[group['Age'].isna()].index\n",
    "        \n",
    "        # Observed ages within the family group\n",
    "        observed_ages = group['Age'].dropna().values\n",
    "        \n",
    "        if len(missing_indices) > 0:\n",
    "            if len(observed_ages) > 0:\n",
    "                # Randomly sample from the observed ages in the family\n",
    "                imputed_values = np.random.choice(observed_ages, size=len(missing_indices), replace=True)\n",
    "            else:\n",
    "                # If the family has no observed ages, sample from the overall family distribution\n",
    "                imputed_values = np.random.choice(overall_family_ages, size=len(missing_indices), replace=True)\n",
    "            # Impute the missing ages in the DataFrame\n",
    "            df.loc[missing_indices, 'Age'] = imputed_values\n",
    "    \n",
    "    return df"
   ]
  },
  {
   "cell_type": "code",
   "execution_count": 12,
   "id": "ad3ab1d5",
   "metadata": {},
   "outputs": [],
   "source": [
    "def plot_age_distribution_by_company(df, title):\n",
    "    \"\"\"\n",
    "    Plots histograms of age distributions for passengers based on company categories.\n",
    "\n",
    "    The function creates three vertically arranged subplots (one for each company category):\n",
    "      - 0.0: Solo travelers\n",
    "      - 1.0: Family\n",
    "      - 2.0: Friends\n",
    "\n",
    "    For each category, it filters the DataFrame by the 'Company' column, constructs a histogram \n",
    "    for the 'Age' column, and adds it to the corresponding subplot. Colors and labels are defined \n",
    "    using a legend dictionary and a colors mapping.\n",
    "\n",
    "    Args:\n",
    "        df (pd.DataFrame): A DataFrame containing at least the following columns:\n",
    "                           - 'Company': Numeric values (0.0, 1.0, 2.0) representing company categories.\n",
    "                           - 'Age': Numeric values representing the age of passengers.\n",
    "\n",
    "    Returns:\n",
    "        None: The function displays the resulting plot.\n",
    "\n",
    "    Example:\n",
    "        >>> data = {\n",
    "        ...     'Company': [0.0, 1.0, 2.0, 0.0, 1.0, 2.0],\n",
    "        ...     'Age': [22, 45, 30, 18, 50, 28]\n",
    "        ... }\n",
    "        >>> df = pd.DataFrame(data)\n",
    "        >>> plot_age_distribution_by_company(df)\n",
    "    \"\"\"\n",
    "    # Define a mapping from company values to descriptive labels\n",
    "    legend_dict = {0.0: 'Solo', 1.0: 'Family', 2.0: 'Friends'}\n",
    "\n",
    "    # Define a mapping from company values to specific colors\n",
    "    colors = {0.0: 'blue', 1.0: 'green', 2.0: 'red'}\n",
    "\n",
    "    # Create subplots: three rows, one column, sharing the same x-axis.\n",
    "    # Each subplot is titled according to the corresponding company category.\n",
    "    fig = make_subplots(\n",
    "        rows=3, cols=1, shared_xaxes=True, \n",
    "        subplot_titles=(\"Solo\", \"Family\", \"Friends\")\n",
    "    )\n",
    "\n",
    "    # Iterate over each company category and add a histogram trace to the appropriate subplot.\n",
    "    for i, company in enumerate([0.0, 1.0, 2.0], start=1):\n",
    "        # Filter the DataFrame for the current company category.\n",
    "        company_df = df[df['Company'] == company]\n",
    "        \n",
    "        # Create a histogram for the 'Age' column of the filtered DataFrame.\n",
    "        # The color_discrete_sequence parameter sets the histogram's color.\n",
    "        hist_trace = px.histogram(\n",
    "            company_df,\n",
    "            x='Age',\n",
    "            title=f'Age Distribution for {legend_dict[company]}',\n",
    "            color_discrete_sequence=[colors[company]]\n",
    "        ).data[0]\n",
    "        \n",
    "        # Add the histogram trace to the subplot at row i, column 1.\n",
    "        fig.add_trace(hist_trace, row=i, col=1)\n",
    "\n",
    "    # Update the overall layout of the figure:\n",
    "    # - Set the main title.\n",
    "    # - Hide the legend.\n",
    "    # - Specify the overall figure height.\n",
    "    fig.update_layout(\n",
    "        title_text=title,\n",
    "        showlegend=False,\n",
    "        height=900\n",
    "    )\n",
    "\n",
    "    # Display the final plot.\n",
    "    fig.show()"
   ]
  },
  {
   "cell_type": "code",
   "execution_count": 13,
   "id": "eebe226f",
   "metadata": {},
   "outputs": [],
   "source": [
    "def calculate_vif(df):\n",
    "    \"\"\"\n",
    "    Calculates the Variance Inflation Factor (VIF) for each feature in the provided DataFrame.\n",
    "\n",
    "    The VIF measures how much the variance of an estimated regression coefficient increases \n",
    "    due to multicollinearity. A higher VIF indicates a higher degree of collinearity between \n",
    "    a given feature and the other features in the DataFrame.\n",
    "\n",
    "    Args:\n",
    "        df (pd.DataFrame): A DataFrame containing only the numeric features for which the VIF \n",
    "                           is to be calculated.\n",
    "\n",
    "    Returns:\n",
    "        pd.DataFrame: A DataFrame with two columns:\n",
    "                      - 'Feature': The name of the feature.\n",
    "                      - 'VIF': The calculated variance inflation factor for that feature.\n",
    "                      The DataFrame is sorted in descending order by the VIF values.\n",
    "\n",
    "    Example:\n",
    "        >>> import pandas as pd\n",
    "        >>> from statsmodels.stats.outliers_influence import variance_inflation_factor\n",
    "        >>> data = {\n",
    "        ...     'X1': [1, 2, 3, 4, 5],\n",
    "        ...     'X2': [2, 4, 6, 8, 10],\n",
    "        ...     'X3': [5, 3, 6, 2, 7]\n",
    "        ... }\n",
    "        >>> df = pd.DataFrame(data)\n",
    "        >>> calculate_vif(df)\n",
    "            Feature       VIF\n",
    "        0      X1  10.1234\n",
    "        1      X2   9.8765\n",
    "        2      X3   1.2345\n",
    "    \"\"\"\n",
    "    # Create an empty DataFrame to hold the VIF results.\n",
    "    vif_data = pd.DataFrame()\n",
    "    \n",
    "    # Assign the feature names from the DataFrame to the 'Feature' column.\n",
    "    vif_data[\"Feature\"] = df.columns\n",
    "    \n",
    "    # Calculate the VIF for each feature.\n",
    "    # For each column index i in df, variance_inflation_factor computes the VIF.\n",
    "    vif_data[\"VIF\"] = [variance_inflation_factor(df.values, i) for i in range(df.shape[1])]\n",
    "    \n",
    "    # Return the DataFrame sorted by VIF in descending order.\n",
    "    return vif_data.sort_values(by=\"VIF\", ascending=False)"
   ]
  },
  {
   "cell_type": "code",
   "execution_count": 14,
   "id": "a6478e32",
   "metadata": {},
   "outputs": [],
   "source": [
    "def remove_high_vif_features(df, threshold=5.0):\n",
    "    \"\"\"\n",
    "    Iteratively removes features with high Variance Inflation Factor (VIF) to reduce multicollinearity.\n",
    "\n",
    "    The function calculates the VIF for all numeric features in the DataFrame and removes \n",
    "    the feature with the highest VIF if it exceeds the given threshold. This process repeats \n",
    "    until all remaining features have a VIF below the threshold.\n",
    "\n",
    "    Args:\n",
    "        df (pd.DataFrame): A DataFrame containing only the numeric features for which VIF \n",
    "                           should be analyzed and reduced.\n",
    "        threshold (float, optional): The maximum allowable VIF value. Features with VIF \n",
    "                                     above this threshold will be removed. Default is 5.0.\n",
    "\n",
    "    Returns:\n",
    "        pd.DataFrame: The modified DataFrame with high-VIF features removed.\n",
    "\n",
    "    Example:\n",
    "        >>> import pandas as pd\n",
    "        >>> data = {\n",
    "        ...     'X1': [1, 2, 3, 4, 5],\n",
    "        ...     'X2': [2, 4, 6, 8, 10],\n",
    "        ...     'X3': [5, 3, 6, 2, 7]\n",
    "        ... }\n",
    "        >>> df = pd.DataFrame(data)\n",
    "        >>> df = remove_high_vif_features(df, threshold=5.0)\n",
    "        Dropping 'X2' with VIF=10.12\n",
    "    \"\"\"\n",
    "    while True:\n",
    "        # Calculate the VIF for all features in the DataFrame.\n",
    "        vif_df = calculate_vif(df)\n",
    "        \n",
    "        # Get the highest VIF value from the DataFrame.\n",
    "        max_vif = vif_df.iloc[0][\"VIF\"]\n",
    "        \n",
    "        # If the highest VIF is below the threshold, stop the iteration.\n",
    "        if max_vif < threshold:\n",
    "            break \n",
    "        \n",
    "        # Identify the feature with the highest VIF.\n",
    "        feature_to_remove = vif_df.iloc[0][\"Feature\"]\n",
    "        \n",
    "        # Print the feature being removed along with its VIF value.\n",
    "        print(f\"Dropping '{feature_to_remove}' with VIF={max_vif:.2f}\")\n",
    "        \n",
    "        # Drop the feature from the DataFrame.\n",
    "        df = df.drop(columns=[feature_to_remove])\n",
    "    \n",
    "    # Return the updated DataFrame with reduced multicollinearity.\n",
    "    return df"
   ]
  },
  {
   "cell_type": "markdown",
   "id": "8ddf0299-d923-4d90-8ec1-4bed07404765",
   "metadata": {},
   "source": [
    "# Process data"
   ]
  },
  {
   "cell_type": "markdown",
   "id": "6872370b-90c5-40f2-9229-2ea27556b7b0",
   "metadata": {
    "tags": []
   },
   "source": [
    "| Variable   | Definition                           | Key                                    |\n",
    "|------------|--------------------------------------|----------------------------------------|\n",
    "| Survived   | Survival                            | 0 = No, 1 = Yes                        |\n",
    "| Pclass     | Ticket class                        | 1 = 1st, 2 = 2nd, 3 = 3rd              |\n",
    "| Name     | Name of the passenger                        |               |\n",
    "| Sex        | Gender of the patient                                 | 1 = female, 0 = male                                       |\n",
    "| Age        | Age in years                        | Age is fractional if less than 1. If the age is estimated, is it in the form of xx.5                                       |\n",
    "| sibsp      | # of siblings/spouses aboard       | Sibling = brother, sister, stepbrother, stepsister; Spouse = husband, wife (mistresses and fiancés were ignored)                                       |\n",
    "| parch      | # of parents/children aboard       | Parent = mother, father; Child = daughter, son, stepdaughter, stepson; Some children travelled only with a nanny, therefore parch=0 for them                                      |\n",
    "| ticket     | Ticket number                       |                                        |\n",
    "| fare       | Passenger fare                      |                                        |\n",
    "| cabin      | Cabin number                        |                                        |\n",
    "| embarked   | Port of Embarkation                | C = Cherbourg, Q = Queenstown, S = Southampton |"
   ]
  },
  {
   "cell_type": "markdown",
   "id": "2a0eb87c",
   "metadata": {},
   "source": [
    "### Load data"
   ]
  },
  {
   "cell_type": "code",
   "execution_count": 15,
   "id": "b20bf74d-fb44-4be9-bc59-2737fa87c5fd",
   "metadata": {},
   "outputs": [],
   "source": [
    "# Load raw dataframes\n",
    "train_raw_df = pd.read_csv('../Data/train.csv')\n",
    "test_raw_df = pd.read_csv('../Data/test.csv')\n",
    "# total_raw_df = pd.read_excel('../Data/Complete_dataset.xls')"
   ]
  },
  {
   "cell_type": "code",
   "execution_count": 16,
   "id": "6da8ec57-3397-4975-9a8b-f050976b67d8",
   "metadata": {},
   "outputs": [],
   "source": [
    " # 'Sex' column: convert male-->0, female-->1\n",
    "sex_dict = {'male': 0, 'female': 1}\n",
    "train_raw_df['Sex'] = train_raw_df['Sex'].map(sex_dict)\n",
    "test_raw_df['Sex'] = test_raw_df['Sex'].map(sex_dict)"
   ]
  },
  {
   "cell_type": "markdown",
   "id": "ed0c0d95-7536-483b-9666-63892cb3dc38",
   "metadata": {},
   "source": [
    "### Exploratory Data Analysis"
   ]
  },
  {
   "cell_type": "code",
   "execution_count": 17,
   "id": "0fa008da-8c70-496a-a031-3470355c3c84",
   "metadata": {},
   "outputs": [
    {
     "name": "stdout",
     "output_type": "stream",
     "text": [
      "Number of passengers = 891\n",
      "Number of variables = 12\n"
     ]
    }
   ],
   "source": [
    "# See how many records and variables\n",
    "num_pass, num_var = train_raw_df.shape[0], train_raw_df.shape[1]\n",
    "print(f'Number of passengers = {num_pass}\\nNumber of variables = {num_var}')"
   ]
  },
  {
   "cell_type": "code",
   "execution_count": 18,
   "id": "db0b4a20-36c4-480b-8a88-c1a87700e49c",
   "metadata": {},
   "outputs": [
    {
     "data": {
      "text/html": [
       "<div>\n",
       "<style scoped>\n",
       "    .dataframe tbody tr th:only-of-type {\n",
       "        vertical-align: middle;\n",
       "    }\n",
       "\n",
       "    .dataframe tbody tr th {\n",
       "        vertical-align: top;\n",
       "    }\n",
       "\n",
       "    .dataframe thead th {\n",
       "        text-align: right;\n",
       "    }\n",
       "</style>\n",
       "<table border=\"1\" class=\"dataframe\">\n",
       "  <thead>\n",
       "    <tr style=\"text-align: right;\">\n",
       "      <th></th>\n",
       "      <th>PassengerId</th>\n",
       "      <th>Survived</th>\n",
       "      <th>Pclass</th>\n",
       "      <th>Name</th>\n",
       "      <th>Sex</th>\n",
       "      <th>Age</th>\n",
       "      <th>SibSp</th>\n",
       "      <th>Parch</th>\n",
       "      <th>Ticket</th>\n",
       "      <th>Fare</th>\n",
       "      <th>Cabin</th>\n",
       "      <th>Embarked</th>\n",
       "    </tr>\n",
       "  </thead>\n",
       "  <tbody>\n",
       "    <tr>\n",
       "      <th>0</th>\n",
       "      <td>1</td>\n",
       "      <td>0</td>\n",
       "      <td>3</td>\n",
       "      <td>Braund, Mr. Owen Harris</td>\n",
       "      <td>0</td>\n",
       "      <td>22.0</td>\n",
       "      <td>1</td>\n",
       "      <td>0</td>\n",
       "      <td>A/5 21171</td>\n",
       "      <td>7.2500</td>\n",
       "      <td>NaN</td>\n",
       "      <td>S</td>\n",
       "    </tr>\n",
       "    <tr>\n",
       "      <th>1</th>\n",
       "      <td>2</td>\n",
       "      <td>1</td>\n",
       "      <td>1</td>\n",
       "      <td>Cumings, Mrs. John Bradley (Florence Briggs Th...</td>\n",
       "      <td>1</td>\n",
       "      <td>38.0</td>\n",
       "      <td>1</td>\n",
       "      <td>0</td>\n",
       "      <td>PC 17599</td>\n",
       "      <td>71.2833</td>\n",
       "      <td>C85</td>\n",
       "      <td>C</td>\n",
       "    </tr>\n",
       "    <tr>\n",
       "      <th>2</th>\n",
       "      <td>3</td>\n",
       "      <td>1</td>\n",
       "      <td>3</td>\n",
       "      <td>Heikkinen, Miss. Laina</td>\n",
       "      <td>1</td>\n",
       "      <td>26.0</td>\n",
       "      <td>0</td>\n",
       "      <td>0</td>\n",
       "      <td>STON/O2. 3101282</td>\n",
       "      <td>7.9250</td>\n",
       "      <td>NaN</td>\n",
       "      <td>S</td>\n",
       "    </tr>\n",
       "    <tr>\n",
       "      <th>3</th>\n",
       "      <td>4</td>\n",
       "      <td>1</td>\n",
       "      <td>1</td>\n",
       "      <td>Futrelle, Mrs. Jacques Heath (Lily May Peel)</td>\n",
       "      <td>1</td>\n",
       "      <td>35.0</td>\n",
       "      <td>1</td>\n",
       "      <td>0</td>\n",
       "      <td>113803</td>\n",
       "      <td>53.1000</td>\n",
       "      <td>C123</td>\n",
       "      <td>S</td>\n",
       "    </tr>\n",
       "    <tr>\n",
       "      <th>4</th>\n",
       "      <td>5</td>\n",
       "      <td>0</td>\n",
       "      <td>3</td>\n",
       "      <td>Allen, Mr. William Henry</td>\n",
       "      <td>0</td>\n",
       "      <td>35.0</td>\n",
       "      <td>0</td>\n",
       "      <td>0</td>\n",
       "      <td>373450</td>\n",
       "      <td>8.0500</td>\n",
       "      <td>NaN</td>\n",
       "      <td>S</td>\n",
       "    </tr>\n",
       "  </tbody>\n",
       "</table>\n",
       "</div>"
      ],
      "text/plain": [
       "   PassengerId  Survived  Pclass  \\\n",
       "0            1         0       3   \n",
       "1            2         1       1   \n",
       "2            3         1       3   \n",
       "3            4         1       1   \n",
       "4            5         0       3   \n",
       "\n",
       "                                                Name  Sex   Age  SibSp  Parch  \\\n",
       "0                            Braund, Mr. Owen Harris    0  22.0      1      0   \n",
       "1  Cumings, Mrs. John Bradley (Florence Briggs Th...    1  38.0      1      0   \n",
       "2                             Heikkinen, Miss. Laina    1  26.0      0      0   \n",
       "3       Futrelle, Mrs. Jacques Heath (Lily May Peel)    1  35.0      1      0   \n",
       "4                           Allen, Mr. William Henry    0  35.0      0      0   \n",
       "\n",
       "             Ticket     Fare Cabin Embarked  \n",
       "0         A/5 21171   7.2500   NaN        S  \n",
       "1          PC 17599  71.2833   C85        C  \n",
       "2  STON/O2. 3101282   7.9250   NaN        S  \n",
       "3            113803  53.1000  C123        S  \n",
       "4            373450   8.0500   NaN        S  "
      ]
     },
     "execution_count": 18,
     "metadata": {},
     "output_type": "execute_result"
    }
   ],
   "source": [
    "train_raw_df.head()"
   ]
  },
  {
   "cell_type": "code",
   "execution_count": 19,
   "id": "1a2020b6-2787-4b75-a44f-4006c3fefc75",
   "metadata": {},
   "outputs": [
    {
     "name": "stdout",
     "output_type": "stream",
     "text": [
      "Column PassengerId has 0 nulls\n",
      "Column Survived has 0 nulls\n",
      "Column Pclass has 0 nulls\n",
      "Column Name has 0 nulls\n",
      "Column Sex has 0 nulls\n",
      "Column Age has 177 nulls\n",
      "Column SibSp has 0 nulls\n",
      "Column Parch has 0 nulls\n",
      "Column Ticket has 0 nulls\n",
      "Column Fare has 0 nulls\n",
      "Column Cabin has 687 nulls\n",
      "Column Embarked has 2 nulls\n"
     ]
    }
   ],
   "source": [
    "# Look for missing values\n",
    "for el in train_raw_df.columns:\n",
    "    num_null = train_raw_df[el].isnull().sum()\n",
    "    print(f'Column {el} has {num_null} nulls')"
   ]
  },
  {
   "cell_type": "markdown",
   "id": "a6c61259",
   "metadata": {},
   "source": [
    "### Manipulate data\n",
    "\n",
    "- Age will be imputed. I will analyze the surnames of the passengers and try to extract family units and impute age with a logic. SibSp and Parch should also be considered in this analysis;\n",
    "- Cabin could be related to Pclass, and thus redundant, or it could give some insight about survival rate as a part of the shil went down before the other. To explore;\n",
    "- Fare should also be related to Pclass. To explore;"
   ]
  },
  {
   "cell_type": "code",
   "execution_count": 20,
   "id": "c8cbd78f",
   "metadata": {
    "vscode": {
     "languageId": "ruby"
    }
   },
   "outputs": [],
   "source": [
    "# Split name into first name, family name and title\n",
    "train_df = train_raw_df.copy()\n",
    "train_df = split_name_column(train_df)"
   ]
  },
  {
   "cell_type": "code",
   "execution_count": 21,
   "id": "9d6265ef",
   "metadata": {
    "vscode": {
     "languageId": "ruby"
    }
   },
   "outputs": [],
   "source": [
    "# Sort the columns in the specified order\n",
    "sorted_columns = [\n",
    "    'PassengerId', \n",
    "    'Family Name', \n",
    "    'Title', \n",
    "    'First Name', \n",
    "    'Survived', \n",
    "    'Pclass', \n",
    "    'Sex', \n",
    "    'Age', \n",
    "    'SibSp', \n",
    "    'Parch', \n",
    "    'Ticket', \n",
    "    'Fare', \n",
    "    'Cabin', \n",
    "    'Embarked'\n",
    "]\n",
    "train_df = train_df[sorted_columns]\n",
    "train_df = train_df.sort_values(by='Family Name')"
   ]
  },
  {
   "cell_type": "code",
   "execution_count": 22,
   "id": "6a284954",
   "metadata": {
    "vscode": {
     "languageId": "ruby"
    }
   },
   "outputs": [
    {
     "data": {
      "text/html": [
       "<div>\n",
       "<style scoped>\n",
       "    .dataframe tbody tr th:only-of-type {\n",
       "        vertical-align: middle;\n",
       "    }\n",
       "\n",
       "    .dataframe tbody tr th {\n",
       "        vertical-align: top;\n",
       "    }\n",
       "\n",
       "    .dataframe thead th {\n",
       "        text-align: right;\n",
       "    }\n",
       "</style>\n",
       "<table border=\"1\" class=\"dataframe\">\n",
       "  <thead>\n",
       "    <tr style=\"text-align: right;\">\n",
       "      <th></th>\n",
       "      <th>PassengerId</th>\n",
       "      <th>Family Name</th>\n",
       "      <th>Title</th>\n",
       "      <th>First Name</th>\n",
       "      <th>Survived</th>\n",
       "      <th>Pclass</th>\n",
       "      <th>Sex</th>\n",
       "      <th>Age</th>\n",
       "      <th>SibSp</th>\n",
       "      <th>Parch</th>\n",
       "      <th>Ticket</th>\n",
       "      <th>Fare</th>\n",
       "      <th>Cabin</th>\n",
       "      <th>Embarked</th>\n",
       "    </tr>\n",
       "  </thead>\n",
       "  <tbody>\n",
       "    <tr>\n",
       "      <th>845</th>\n",
       "      <td>846</td>\n",
       "      <td>Abbing</td>\n",
       "      <td>Mr</td>\n",
       "      <td>Anthony</td>\n",
       "      <td>0</td>\n",
       "      <td>3</td>\n",
       "      <td>0</td>\n",
       "      <td>42.0</td>\n",
       "      <td>0</td>\n",
       "      <td>0</td>\n",
       "      <td>C.A. 5547</td>\n",
       "      <td>7.5500</td>\n",
       "      <td>NaN</td>\n",
       "      <td>S</td>\n",
       "    </tr>\n",
       "    <tr>\n",
       "      <th>279</th>\n",
       "      <td>280</td>\n",
       "      <td>Abbott</td>\n",
       "      <td>Mrs</td>\n",
       "      <td>Rosa</td>\n",
       "      <td>1</td>\n",
       "      <td>3</td>\n",
       "      <td>1</td>\n",
       "      <td>35.0</td>\n",
       "      <td>1</td>\n",
       "      <td>1</td>\n",
       "      <td>C.A. 2673</td>\n",
       "      <td>20.2500</td>\n",
       "      <td>NaN</td>\n",
       "      <td>S</td>\n",
       "    </tr>\n",
       "    <tr>\n",
       "      <th>746</th>\n",
       "      <td>747</td>\n",
       "      <td>Abbott</td>\n",
       "      <td>Mr</td>\n",
       "      <td>Rossmore Edward</td>\n",
       "      <td>0</td>\n",
       "      <td>3</td>\n",
       "      <td>0</td>\n",
       "      <td>16.0</td>\n",
       "      <td>1</td>\n",
       "      <td>1</td>\n",
       "      <td>C.A. 2673</td>\n",
       "      <td>20.2500</td>\n",
       "      <td>NaN</td>\n",
       "      <td>S</td>\n",
       "    </tr>\n",
       "    <tr>\n",
       "      <th>874</th>\n",
       "      <td>875</td>\n",
       "      <td>Abelson</td>\n",
       "      <td>Mrs</td>\n",
       "      <td>Hannah</td>\n",
       "      <td>1</td>\n",
       "      <td>2</td>\n",
       "      <td>1</td>\n",
       "      <td>28.0</td>\n",
       "      <td>1</td>\n",
       "      <td>0</td>\n",
       "      <td>P/PP 3381</td>\n",
       "      <td>24.0000</td>\n",
       "      <td>NaN</td>\n",
       "      <td>C</td>\n",
       "    </tr>\n",
       "    <tr>\n",
       "      <th>308</th>\n",
       "      <td>309</td>\n",
       "      <td>Abelson</td>\n",
       "      <td>Mr</td>\n",
       "      <td>Samuel</td>\n",
       "      <td>0</td>\n",
       "      <td>2</td>\n",
       "      <td>0</td>\n",
       "      <td>30.0</td>\n",
       "      <td>1</td>\n",
       "      <td>0</td>\n",
       "      <td>P/PP 3381</td>\n",
       "      <td>24.0000</td>\n",
       "      <td>NaN</td>\n",
       "      <td>C</td>\n",
       "    </tr>\n",
       "    <tr>\n",
       "      <th>365</th>\n",
       "      <td>366</td>\n",
       "      <td>Adahl</td>\n",
       "      <td>Mr</td>\n",
       "      <td>Mauritz Nils Martin</td>\n",
       "      <td>0</td>\n",
       "      <td>3</td>\n",
       "      <td>0</td>\n",
       "      <td>30.0</td>\n",
       "      <td>0</td>\n",
       "      <td>0</td>\n",
       "      <td>C 7076</td>\n",
       "      <td>7.2500</td>\n",
       "      <td>NaN</td>\n",
       "      <td>S</td>\n",
       "    </tr>\n",
       "    <tr>\n",
       "      <th>401</th>\n",
       "      <td>402</td>\n",
       "      <td>Adams</td>\n",
       "      <td>Mr</td>\n",
       "      <td>John</td>\n",
       "      <td>0</td>\n",
       "      <td>3</td>\n",
       "      <td>0</td>\n",
       "      <td>26.0</td>\n",
       "      <td>0</td>\n",
       "      <td>0</td>\n",
       "      <td>341826</td>\n",
       "      <td>8.0500</td>\n",
       "      <td>NaN</td>\n",
       "      <td>S</td>\n",
       "    </tr>\n",
       "    <tr>\n",
       "      <th>40</th>\n",
       "      <td>41</td>\n",
       "      <td>Ahlin</td>\n",
       "      <td>Mrs</td>\n",
       "      <td>Johanna Persdotter</td>\n",
       "      <td>0</td>\n",
       "      <td>3</td>\n",
       "      <td>1</td>\n",
       "      <td>40.0</td>\n",
       "      <td>1</td>\n",
       "      <td>0</td>\n",
       "      <td>7546</td>\n",
       "      <td>9.4750</td>\n",
       "      <td>NaN</td>\n",
       "      <td>S</td>\n",
       "    </tr>\n",
       "    <tr>\n",
       "      <th>855</th>\n",
       "      <td>856</td>\n",
       "      <td>Aks</td>\n",
       "      <td>Mrs</td>\n",
       "      <td>Leah</td>\n",
       "      <td>1</td>\n",
       "      <td>3</td>\n",
       "      <td>1</td>\n",
       "      <td>18.0</td>\n",
       "      <td>0</td>\n",
       "      <td>1</td>\n",
       "      <td>392091</td>\n",
       "      <td>9.3500</td>\n",
       "      <td>NaN</td>\n",
       "      <td>S</td>\n",
       "    </tr>\n",
       "    <tr>\n",
       "      <th>207</th>\n",
       "      <td>208</td>\n",
       "      <td>Albimona</td>\n",
       "      <td>Mr</td>\n",
       "      <td>Nassef Cassem</td>\n",
       "      <td>1</td>\n",
       "      <td>3</td>\n",
       "      <td>0</td>\n",
       "      <td>26.0</td>\n",
       "      <td>0</td>\n",
       "      <td>0</td>\n",
       "      <td>2699</td>\n",
       "      <td>18.7875</td>\n",
       "      <td>NaN</td>\n",
       "      <td>C</td>\n",
       "    </tr>\n",
       "  </tbody>\n",
       "</table>\n",
       "</div>"
      ],
      "text/plain": [
       "     PassengerId Family Name Title           First Name  Survived  Pclass  \\\n",
       "845          846      Abbing    Mr              Anthony         0       3   \n",
       "279          280      Abbott   Mrs                 Rosa         1       3   \n",
       "746          747      Abbott    Mr      Rossmore Edward         0       3   \n",
       "874          875     Abelson   Mrs               Hannah         1       2   \n",
       "308          309     Abelson    Mr               Samuel         0       2   \n",
       "365          366       Adahl    Mr  Mauritz Nils Martin         0       3   \n",
       "401          402       Adams    Mr                 John         0       3   \n",
       "40            41       Ahlin   Mrs   Johanna Persdotter         0       3   \n",
       "855          856         Aks   Mrs                 Leah         1       3   \n",
       "207          208    Albimona    Mr        Nassef Cassem         1       3   \n",
       "\n",
       "     Sex   Age  SibSp  Parch     Ticket     Fare Cabin Embarked  \n",
       "845    0  42.0      0      0  C.A. 5547   7.5500   NaN        S  \n",
       "279    1  35.0      1      1  C.A. 2673  20.2500   NaN        S  \n",
       "746    0  16.0      1      1  C.A. 2673  20.2500   NaN        S  \n",
       "874    1  28.0      1      0  P/PP 3381  24.0000   NaN        C  \n",
       "308    0  30.0      1      0  P/PP 3381  24.0000   NaN        C  \n",
       "365    0  30.0      0      0     C 7076   7.2500   NaN        S  \n",
       "401    0  26.0      0      0     341826   8.0500   NaN        S  \n",
       "40     1  40.0      1      0       7546   9.4750   NaN        S  \n",
       "855    1  18.0      0      1     392091   9.3500   NaN        S  \n",
       "207    0  26.0      0      0       2699  18.7875   NaN        C  "
      ]
     },
     "execution_count": 22,
     "metadata": {},
     "output_type": "execute_result"
    }
   ],
   "source": [
    "train_df.head(10)"
   ]
  },
  {
   "cell_type": "markdown",
   "id": "8d9f41de",
   "metadata": {
    "vscode": {
     "languageId": "ruby"
    }
   },
   "source": [
    "#### --- Age ---"
   ]
  },
  {
   "cell_type": "code",
   "execution_count": 23,
   "id": "41cbfedb",
   "metadata": {},
   "outputs": [],
   "source": [
    "# Classify passengers into solo travelers, families, or friends.\n",
    "# This is done because solo travelers will have a different survival rate than families or friends\n",
    "# Moreovers, solo travelers will have different ages than families or friends, \n",
    "# so this should help to fill in missing ages with more accuracy\n",
    "\n",
    "# Remember: 0 = solo traveler, 1 = family member, 2 = friend\n",
    "train_df = classify_passengers(train_df)"
   ]
  },
  {
   "cell_type": "markdown",
   "id": "b6bb239a",
   "metadata": {},
   "source": [
    "There wasn't an official **minimum age** requirement to travel alone on the Titanic, but historical records suggest that most **unaccompanied minors** were at least teenagers.  \n",
    "\n",
    "From survivor lists and passenger data:  \n",
    "- The **youngest recorded solo traveler** was **13-year-old Marie Grice Young** (a first-class passenger).  \n",
    "- Most **children under 12** were traveling with family or guardians.  \n",
    "- Some **teenagers (around 14-17)** were traveling alone, often as third-class emigrants.  "
   ]
  },
  {
   "cell_type": "code",
   "execution_count": 24,
   "id": "b994518e",
   "metadata": {},
   "outputs": [],
   "source": [
    "# Force passengers with age < 13 to classified as family members\n",
    "train_df.loc[train_df['Age'] < 13, 'Company'] = 1"
   ]
  },
  {
   "cell_type": "code",
   "execution_count": 25,
   "id": "2f93a49b",
   "metadata": {},
   "outputs": [
    {
     "data": {
      "text/html": [
       "<div>\n",
       "<style scoped>\n",
       "    .dataframe tbody tr th:only-of-type {\n",
       "        vertical-align: middle;\n",
       "    }\n",
       "\n",
       "    .dataframe tbody tr th {\n",
       "        vertical-align: top;\n",
       "    }\n",
       "\n",
       "    .dataframe thead th {\n",
       "        text-align: right;\n",
       "    }\n",
       "</style>\n",
       "<table border=\"1\" class=\"dataframe\">\n",
       "  <thead>\n",
       "    <tr style=\"text-align: right;\">\n",
       "      <th></th>\n",
       "      <th>PassengerId</th>\n",
       "      <th>Family Name</th>\n",
       "      <th>Title</th>\n",
       "      <th>First Name</th>\n",
       "      <th>Survived</th>\n",
       "      <th>Pclass</th>\n",
       "      <th>Sex</th>\n",
       "      <th>Age</th>\n",
       "      <th>SibSp</th>\n",
       "      <th>Parch</th>\n",
       "      <th>Ticket</th>\n",
       "      <th>Fare</th>\n",
       "      <th>Cabin</th>\n",
       "      <th>Embarked</th>\n",
       "      <th>Company</th>\n",
       "    </tr>\n",
       "  </thead>\n",
       "  <tbody>\n",
       "    <tr>\n",
       "      <th>845</th>\n",
       "      <td>846</td>\n",
       "      <td>Abbing</td>\n",
       "      <td>Mr</td>\n",
       "      <td>Anthony</td>\n",
       "      <td>0</td>\n",
       "      <td>3</td>\n",
       "      <td>0</td>\n",
       "      <td>42.0</td>\n",
       "      <td>0</td>\n",
       "      <td>0</td>\n",
       "      <td>C.A. 5547</td>\n",
       "      <td>7.55</td>\n",
       "      <td>NaN</td>\n",
       "      <td>S</td>\n",
       "      <td>0.0</td>\n",
       "    </tr>\n",
       "    <tr>\n",
       "      <th>279</th>\n",
       "      <td>280</td>\n",
       "      <td>Abbott</td>\n",
       "      <td>Mrs</td>\n",
       "      <td>Rosa</td>\n",
       "      <td>1</td>\n",
       "      <td>3</td>\n",
       "      <td>1</td>\n",
       "      <td>35.0</td>\n",
       "      <td>1</td>\n",
       "      <td>1</td>\n",
       "      <td>C.A. 2673</td>\n",
       "      <td>20.25</td>\n",
       "      <td>NaN</td>\n",
       "      <td>S</td>\n",
       "      <td>1.0</td>\n",
       "    </tr>\n",
       "    <tr>\n",
       "      <th>746</th>\n",
       "      <td>747</td>\n",
       "      <td>Abbott</td>\n",
       "      <td>Mr</td>\n",
       "      <td>Rossmore Edward</td>\n",
       "      <td>0</td>\n",
       "      <td>3</td>\n",
       "      <td>0</td>\n",
       "      <td>16.0</td>\n",
       "      <td>1</td>\n",
       "      <td>1</td>\n",
       "      <td>C.A. 2673</td>\n",
       "      <td>20.25</td>\n",
       "      <td>NaN</td>\n",
       "      <td>S</td>\n",
       "      <td>1.0</td>\n",
       "    </tr>\n",
       "    <tr>\n",
       "      <th>874</th>\n",
       "      <td>875</td>\n",
       "      <td>Abelson</td>\n",
       "      <td>Mrs</td>\n",
       "      <td>Hannah</td>\n",
       "      <td>1</td>\n",
       "      <td>2</td>\n",
       "      <td>1</td>\n",
       "      <td>28.0</td>\n",
       "      <td>1</td>\n",
       "      <td>0</td>\n",
       "      <td>P/PP 3381</td>\n",
       "      <td>24.00</td>\n",
       "      <td>NaN</td>\n",
       "      <td>C</td>\n",
       "      <td>1.0</td>\n",
       "    </tr>\n",
       "    <tr>\n",
       "      <th>308</th>\n",
       "      <td>309</td>\n",
       "      <td>Abelson</td>\n",
       "      <td>Mr</td>\n",
       "      <td>Samuel</td>\n",
       "      <td>0</td>\n",
       "      <td>2</td>\n",
       "      <td>0</td>\n",
       "      <td>30.0</td>\n",
       "      <td>1</td>\n",
       "      <td>0</td>\n",
       "      <td>P/PP 3381</td>\n",
       "      <td>24.00</td>\n",
       "      <td>NaN</td>\n",
       "      <td>C</td>\n",
       "      <td>1.0</td>\n",
       "    </tr>\n",
       "  </tbody>\n",
       "</table>\n",
       "</div>"
      ],
      "text/plain": [
       "     PassengerId Family Name Title       First Name  Survived  Pclass  Sex  \\\n",
       "845          846      Abbing    Mr          Anthony         0       3    0   \n",
       "279          280      Abbott   Mrs             Rosa         1       3    1   \n",
       "746          747      Abbott    Mr  Rossmore Edward         0       3    0   \n",
       "874          875     Abelson   Mrs           Hannah         1       2    1   \n",
       "308          309     Abelson    Mr           Samuel         0       2    0   \n",
       "\n",
       "      Age  SibSp  Parch     Ticket   Fare Cabin Embarked  Company  \n",
       "845  42.0      0      0  C.A. 5547   7.55   NaN        S      0.0  \n",
       "279  35.0      1      1  C.A. 2673  20.25   NaN        S      1.0  \n",
       "746  16.0      1      1  C.A. 2673  20.25   NaN        S      1.0  \n",
       "874  28.0      1      0  P/PP 3381  24.00   NaN        C      1.0  \n",
       "308  30.0      1      0  P/PP 3381  24.00   NaN        C      1.0  "
      ]
     },
     "execution_count": 25,
     "metadata": {},
     "output_type": "execute_result"
    }
   ],
   "source": [
    "train_df.head()"
   ]
  },
  {
   "cell_type": "code",
   "execution_count": 26,
   "id": "ff00db06",
   "metadata": {},
   "outputs": [
    {
     "name": "stdout",
     "output_type": "stream",
     "text": [
      "Company\n",
      "0.0    29.020333\n",
      "1.0    50.769231\n",
      "2.0    58.888889\n",
      "Name: Survived, dtype: float64\n"
     ]
    }
   ],
   "source": [
    "# Survival rate for solo travelers, families, and friends\n",
    "survival_rate = train_df.groupby('Company')['Survived'].mean()*100\n",
    "print(survival_rate)"
   ]
  },
  {
   "cell_type": "code",
   "execution_count": 27,
   "id": "591955d9",
   "metadata": {},
   "outputs": [
    {
     "data": {
      "application/vnd.plotly.v1+json": {
       "config": {
        "plotlyServerURL": "https://plot.ly"
       },
       "data": [
        {
         "bingroup": "x",
         "hovertemplate": "Age=%{x}<br>count=%{y}<extra></extra>",
         "legendgroup": "",
         "marker": {
          "color": "blue",
          "pattern": {
           "shape": ""
          }
         },
         "name": "",
         "orientation": "v",
         "showlegend": false,
         "type": "histogram",
         "x": {
          "bdata": "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",
          "dtype": "f8"
         },
         "xaxis": "x",
         "yaxis": "y"
        },
        {
         "bingroup": "x",
         "hovertemplate": "Age=%{x}<br>count=%{y}<extra></extra>",
         "legendgroup": "",
         "marker": {
          "color": "green",
          "pattern": {
           "shape": ""
          }
         },
         "name": "",
         "orientation": "v",
         "showlegend": false,
         "type": "histogram",
         "x": {
          "bdata": "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",
          "dtype": "f8"
         },
         "xaxis": "x2",
         "yaxis": "y2"
        },
        {
         "bingroup": "x",
         "hovertemplate": "Age=%{x}<br>count=%{y}<extra></extra>",
         "legendgroup": "",
         "marker": {
          "color": "red",
          "pattern": {
           "shape": ""
          }
         },
         "name": "",
         "orientation": "v",
         "showlegend": false,
         "type": "histogram",
         "x": {
          "bdata": "AAAAAAAAOkAAAAAAAAA9QAAAAAAAgE9AAAAAAAAAMkAAAAAAAAAxQAAAAAAAADhAAAAAAAAAOkAAAAAAAABFQAAAAAAAAEBAAAAAAACAQUAAAAAAAAA1QAAAAAAAADZAAAAAAACAREAAAAAAAAD4fwAAAAAAAPh/AAAAAAAAQkAAAAAAAABCQAAAAAAAAD5AAAAAAAAA+H8AAAAAAABAQAAAAAAAADZAAAAAAAAA+H8AAAAAAAD4fwAAAAAAADJAAAAAAAAAOEAAAAAAAABJQAAAAAAAAD5AAAAAAAAAS0AAAAAAAIBIQAAAAAAAAENAAAAAAAAAS0AAAAAAAAD4fwAAAAAAAPh/AAAAAAAAPkAAAAAAAIBBQAAAAAAAAPh/AAAAAAAAMEAAAAAAAAA4QAAAAAAAAEpAAAAAAAAAR0AAAAAAAAA0QAAAAAAAADtAAAAAAAAASkAAAAAAAAA4QAAAAAAAgElAAAAAAAAANUAAAAAAAABDQAAAAAAAADpAAAAAAAAAPkAAAAAAAAD4fwAAAAAAAEJAAAAAAACAQ0AAAAAAAIBBQAAAAAAAADxAAAAAAAAANUAAAAAAAABNQAAAAAAAgExAAAAAAAAALkAAAAAAAAAwQAAAAAAAAEdAAAAAAACAQ0AAAAAAAAAwQAAAAAAAADNAAAAAAAAAMEAAAAAAAAD4fwAAAAAAAElAAAAAAAAAM0AAAAAAAAA+QAAAAAAAADNAAAAAAAAAQUAAAAAAAIBHQAAAAAAAAExAAAAAAAAANkAAAAAAAAD4fwAAAAAAgEVAAAAAAACAQEAAAAAAAAD4fwAAAAAAADhAAAAAAAAAPkAAAAAAAAA5QAAAAAAAAERAAAAAAAAAREAAAAAAAAD4fwAAAAAAAEpAAAAAAAAAT0AAAAAAAAA5QAAAAAAAgEFAAAAAAACAPEAAAAAAAABCQAAAAAAAAPh/",
          "dtype": "f8"
         },
         "xaxis": "x3",
         "yaxis": "y3"
        }
       ],
       "layout": {
        "annotations": [
         {
          "font": {
           "size": 16
          },
          "showarrow": false,
          "text": "Solo",
          "x": 0.5,
          "xanchor": "center",
          "xref": "paper",
          "y": 1,
          "yanchor": "bottom",
          "yref": "paper"
         },
         {
          "font": {
           "size": 16
          },
          "showarrow": false,
          "text": "Family",
          "x": 0.5,
          "xanchor": "center",
          "xref": "paper",
          "y": 0.6111111111111112,
          "yanchor": "bottom",
          "yref": "paper"
         },
         {
          "font": {
           "size": 16
          },
          "showarrow": false,
          "text": "Friends",
          "x": 0.5,
          "xanchor": "center",
          "xref": "paper",
          "y": 0.22222222222222224,
          "yanchor": "bottom",
          "yref": "paper"
         }
        ],
        "height": 900,
        "showlegend": false,
        "template": {
         "data": {
          "bar": [
           {
            "error_x": {
             "color": "#2a3f5f"
            },
            "error_y": {
             "color": "#2a3f5f"
            },
            "marker": {
             "line": {
              "color": "#E5ECF6",
              "width": 0.5
             },
             "pattern": {
              "fillmode": "overlay",
              "size": 10,
              "solidity": 0.2
             }
            },
            "type": "bar"
           }
          ],
          "barpolar": [
           {
            "marker": {
             "line": {
              "color": "#E5ECF6",
              "width": 0.5
             },
             "pattern": {
              "fillmode": "overlay",
              "size": 10,
              "solidity": 0.2
             }
            },
            "type": "barpolar"
           }
          ],
          "carpet": [
           {
            "aaxis": {
             "endlinecolor": "#2a3f5f",
             "gridcolor": "white",
             "linecolor": "white",
             "minorgridcolor": "white",
             "startlinecolor": "#2a3f5f"
            },
            "baxis": {
             "endlinecolor": "#2a3f5f",
             "gridcolor": "white",
             "linecolor": "white",
             "minorgridcolor": "white",
             "startlinecolor": "#2a3f5f"
            },
            "type": "carpet"
           }
          ],
          "choropleth": [
           {
            "colorbar": {
             "outlinewidth": 0,
             "ticks": ""
            },
            "type": "choropleth"
           }
          ],
          "contour": [
           {
            "colorbar": {
             "outlinewidth": 0,
             "ticks": ""
            },
            "colorscale": [
             [
              0,
              "#0d0887"
             ],
             [
              0.1111111111111111,
              "#46039f"
             ],
             [
              0.2222222222222222,
              "#7201a8"
             ],
             [
              0.3333333333333333,
              "#9c179e"
             ],
             [
              0.4444444444444444,
              "#bd3786"
             ],
             [
              0.5555555555555556,
              "#d8576b"
             ],
             [
              0.6666666666666666,
              "#ed7953"
             ],
             [
              0.7777777777777778,
              "#fb9f3a"
             ],
             [
              0.8888888888888888,
              "#fdca26"
             ],
             [
              1,
              "#f0f921"
             ]
            ],
            "type": "contour"
           }
          ],
          "contourcarpet": [
           {
            "colorbar": {
             "outlinewidth": 0,
             "ticks": ""
            },
            "type": "contourcarpet"
           }
          ],
          "heatmap": [
           {
            "colorbar": {
             "outlinewidth": 0,
             "ticks": ""
            },
            "colorscale": [
             [
              0,
              "#0d0887"
             ],
             [
              0.1111111111111111,
              "#46039f"
             ],
             [
              0.2222222222222222,
              "#7201a8"
             ],
             [
              0.3333333333333333,
              "#9c179e"
             ],
             [
              0.4444444444444444,
              "#bd3786"
             ],
             [
              0.5555555555555556,
              "#d8576b"
             ],
             [
              0.6666666666666666,
              "#ed7953"
             ],
             [
              0.7777777777777778,
              "#fb9f3a"
             ],
             [
              0.8888888888888888,
              "#fdca26"
             ],
             [
              1,
              "#f0f921"
             ]
            ],
            "type": "heatmap"
           }
          ],
          "histogram": [
           {
            "marker": {
             "pattern": {
              "fillmode": "overlay",
              "size": 10,
              "solidity": 0.2
             }
            },
            "type": "histogram"
           }
          ],
          "histogram2d": [
           {
            "colorbar": {
             "outlinewidth": 0,
             "ticks": ""
            },
            "colorscale": [
             [
              0,
              "#0d0887"
             ],
             [
              0.1111111111111111,
              "#46039f"
             ],
             [
              0.2222222222222222,
              "#7201a8"
             ],
             [
              0.3333333333333333,
              "#9c179e"
             ],
             [
              0.4444444444444444,
              "#bd3786"
             ],
             [
              0.5555555555555556,
              "#d8576b"
             ],
             [
              0.6666666666666666,
              "#ed7953"
             ],
             [
              0.7777777777777778,
              "#fb9f3a"
             ],
             [
              0.8888888888888888,
              "#fdca26"
             ],
             [
              1,
              "#f0f921"
             ]
            ],
            "type": "histogram2d"
           }
          ],
          "histogram2dcontour": [
           {
            "colorbar": {
             "outlinewidth": 0,
             "ticks": ""
            },
            "colorscale": [
             [
              0,
              "#0d0887"
             ],
             [
              0.1111111111111111,
              "#46039f"
             ],
             [
              0.2222222222222222,
              "#7201a8"
             ],
             [
              0.3333333333333333,
              "#9c179e"
             ],
             [
              0.4444444444444444,
              "#bd3786"
             ],
             [
              0.5555555555555556,
              "#d8576b"
             ],
             [
              0.6666666666666666,
              "#ed7953"
             ],
             [
              0.7777777777777778,
              "#fb9f3a"
             ],
             [
              0.8888888888888888,
              "#fdca26"
             ],
             [
              1,
              "#f0f921"
             ]
            ],
            "type": "histogram2dcontour"
           }
          ],
          "mesh3d": [
           {
            "colorbar": {
             "outlinewidth": 0,
             "ticks": ""
            },
            "type": "mesh3d"
           }
          ],
          "parcoords": [
           {
            "line": {
             "colorbar": {
              "outlinewidth": 0,
              "ticks": ""
             }
            },
            "type": "parcoords"
           }
          ],
          "pie": [
           {
            "automargin": true,
            "type": "pie"
           }
          ],
          "scatter": [
           {
            "fillpattern": {
             "fillmode": "overlay",
             "size": 10,
             "solidity": 0.2
            },
            "type": "scatter"
           }
          ],
          "scatter3d": [
           {
            "line": {
             "colorbar": {
              "outlinewidth": 0,
              "ticks": ""
             }
            },
            "marker": {
             "colorbar": {
              "outlinewidth": 0,
              "ticks": ""
             }
            },
            "type": "scatter3d"
           }
          ],
          "scattercarpet": [
           {
            "marker": {
             "colorbar": {
              "outlinewidth": 0,
              "ticks": ""
             }
            },
            "type": "scattercarpet"
           }
          ],
          "scattergeo": [
           {
            "marker": {
             "colorbar": {
              "outlinewidth": 0,
              "ticks": ""
             }
            },
            "type": "scattergeo"
           }
          ],
          "scattergl": [
           {
            "marker": {
             "colorbar": {
              "outlinewidth": 0,
              "ticks": ""
             }
            },
            "type": "scattergl"
           }
          ],
          "scattermap": [
           {
            "marker": {
             "colorbar": {
              "outlinewidth": 0,
              "ticks": ""
             }
            },
            "type": "scattermap"
           }
          ],
          "scattermapbox": [
           {
            "marker": {
             "colorbar": {
              "outlinewidth": 0,
              "ticks": ""
             }
            },
            "type": "scattermapbox"
           }
          ],
          "scatterpolar": [
           {
            "marker": {
             "colorbar": {
              "outlinewidth": 0,
              "ticks": ""
             }
            },
            "type": "scatterpolar"
           }
          ],
          "scatterpolargl": [
           {
            "marker": {
             "colorbar": {
              "outlinewidth": 0,
              "ticks": ""
             }
            },
            "type": "scatterpolargl"
           }
          ],
          "scatterternary": [
           {
            "marker": {
             "colorbar": {
              "outlinewidth": 0,
              "ticks": ""
             }
            },
            "type": "scatterternary"
           }
          ],
          "surface": [
           {
            "colorbar": {
             "outlinewidth": 0,
             "ticks": ""
            },
            "colorscale": [
             [
              0,
              "#0d0887"
             ],
             [
              0.1111111111111111,
              "#46039f"
             ],
             [
              0.2222222222222222,
              "#7201a8"
             ],
             [
              0.3333333333333333,
              "#9c179e"
             ],
             [
              0.4444444444444444,
              "#bd3786"
             ],
             [
              0.5555555555555556,
              "#d8576b"
             ],
             [
              0.6666666666666666,
              "#ed7953"
             ],
             [
              0.7777777777777778,
              "#fb9f3a"
             ],
             [
              0.8888888888888888,
              "#fdca26"
             ],
             [
              1,
              "#f0f921"
             ]
            ],
            "type": "surface"
           }
          ],
          "table": [
           {
            "cells": {
             "fill": {
              "color": "#EBF0F8"
             },
             "line": {
              "color": "white"
             }
            },
            "header": {
             "fill": {
              "color": "#C8D4E3"
             },
             "line": {
              "color": "white"
             }
            },
            "type": "table"
           }
          ]
         },
         "layout": {
          "annotationdefaults": {
           "arrowcolor": "#2a3f5f",
           "arrowhead": 0,
           "arrowwidth": 1
          },
          "autotypenumbers": "strict",
          "coloraxis": {
           "colorbar": {
            "outlinewidth": 0,
            "ticks": ""
           }
          },
          "colorscale": {
           "diverging": [
            [
             0,
             "#8e0152"
            ],
            [
             0.1,
             "#c51b7d"
            ],
            [
             0.2,
             "#de77ae"
            ],
            [
             0.3,
             "#f1b6da"
            ],
            [
             0.4,
             "#fde0ef"
            ],
            [
             0.5,
             "#f7f7f7"
            ],
            [
             0.6,
             "#e6f5d0"
            ],
            [
             0.7,
             "#b8e186"
            ],
            [
             0.8,
             "#7fbc41"
            ],
            [
             0.9,
             "#4d9221"
            ],
            [
             1,
             "#276419"
            ]
           ],
           "sequential": [
            [
             0,
             "#0d0887"
            ],
            [
             0.1111111111111111,
             "#46039f"
            ],
            [
             0.2222222222222222,
             "#7201a8"
            ],
            [
             0.3333333333333333,
             "#9c179e"
            ],
            [
             0.4444444444444444,
             "#bd3786"
            ],
            [
             0.5555555555555556,
             "#d8576b"
            ],
            [
             0.6666666666666666,
             "#ed7953"
            ],
            [
             0.7777777777777778,
             "#fb9f3a"
            ],
            [
             0.8888888888888888,
             "#fdca26"
            ],
            [
             1,
             "#f0f921"
            ]
           ],
           "sequentialminus": [
            [
             0,
             "#0d0887"
            ],
            [
             0.1111111111111111,
             "#46039f"
            ],
            [
             0.2222222222222222,
             "#7201a8"
            ],
            [
             0.3333333333333333,
             "#9c179e"
            ],
            [
             0.4444444444444444,
             "#bd3786"
            ],
            [
             0.5555555555555556,
             "#d8576b"
            ],
            [
             0.6666666666666666,
             "#ed7953"
            ],
            [
             0.7777777777777778,
             "#fb9f3a"
            ],
            [
             0.8888888888888888,
             "#fdca26"
            ],
            [
             1,
             "#f0f921"
            ]
           ]
          },
          "colorway": [
           "#636efa",
           "#EF553B",
           "#00cc96",
           "#ab63fa",
           "#FFA15A",
           "#19d3f3",
           "#FF6692",
           "#B6E880",
           "#FF97FF",
           "#FECB52"
          ],
          "font": {
           "color": "#2a3f5f"
          },
          "geo": {
           "bgcolor": "white",
           "lakecolor": "white",
           "landcolor": "#E5ECF6",
           "showlakes": true,
           "showland": true,
           "subunitcolor": "white"
          },
          "hoverlabel": {
           "align": "left"
          },
          "hovermode": "closest",
          "mapbox": {
           "style": "light"
          },
          "paper_bgcolor": "white",
          "plot_bgcolor": "#E5ECF6",
          "polar": {
           "angularaxis": {
            "gridcolor": "white",
            "linecolor": "white",
            "ticks": ""
           },
           "bgcolor": "#E5ECF6",
           "radialaxis": {
            "gridcolor": "white",
            "linecolor": "white",
            "ticks": ""
           }
          },
          "scene": {
           "xaxis": {
            "backgroundcolor": "#E5ECF6",
            "gridcolor": "white",
            "gridwidth": 2,
            "linecolor": "white",
            "showbackground": true,
            "ticks": "",
            "zerolinecolor": "white"
           },
           "yaxis": {
            "backgroundcolor": "#E5ECF6",
            "gridcolor": "white",
            "gridwidth": 2,
            "linecolor": "white",
            "showbackground": true,
            "ticks": "",
            "zerolinecolor": "white"
           },
           "zaxis": {
            "backgroundcolor": "#E5ECF6",
            "gridcolor": "white",
            "gridwidth": 2,
            "linecolor": "white",
            "showbackground": true,
            "ticks": "",
            "zerolinecolor": "white"
           }
          },
          "shapedefaults": {
           "line": {
            "color": "#2a3f5f"
           }
          },
          "ternary": {
           "aaxis": {
            "gridcolor": "white",
            "linecolor": "white",
            "ticks": ""
           },
           "baxis": {
            "gridcolor": "white",
            "linecolor": "white",
            "ticks": ""
           },
           "bgcolor": "#E5ECF6",
           "caxis": {
            "gridcolor": "white",
            "linecolor": "white",
            "ticks": ""
           }
          },
          "title": {
           "x": 0.05
          },
          "xaxis": {
           "automargin": true,
           "gridcolor": "white",
           "linecolor": "white",
           "ticks": "",
           "title": {
            "standoff": 15
           },
           "zerolinecolor": "white",
           "zerolinewidth": 2
          },
          "yaxis": {
           "automargin": true,
           "gridcolor": "white",
           "linecolor": "white",
           "ticks": "",
           "title": {
            "standoff": 15
           },
           "zerolinecolor": "white",
           "zerolinewidth": 2
          }
         }
        },
        "title": {
         "text": "Age Distribution by Company (ORIGINAL DATA)"
        },
        "xaxis": {
         "anchor": "y",
         "domain": [
          0,
          1
         ],
         "matches": "x3",
         "showticklabels": false
        },
        "xaxis2": {
         "anchor": "y2",
         "domain": [
          0,
          1
         ],
         "matches": "x3",
         "showticklabels": false
        },
        "xaxis3": {
         "anchor": "y3",
         "domain": [
          0,
          1
         ]
        },
        "yaxis": {
         "anchor": "x",
         "domain": [
          0.7777777777777778,
          1
         ]
        },
        "yaxis2": {
         "anchor": "x2",
         "domain": [
          0.3888888888888889,
          0.6111111111111112
         ]
        },
        "yaxis3": {
         "anchor": "x3",
         "domain": [
          0,
          0.22222222222222224
         ]
        }
       }
      }
     },
     "metadata": {},
     "output_type": "display_data"
    }
   ],
   "source": [
    "# Show Age distributions by Company\n",
    "plot_age_distribution_by_company(train_df, 'Age Distribution by Company (ORIGINAL DATA)')"
   ]
  },
  {
   "cell_type": "code",
   "execution_count": 28,
   "id": "c4337e3a",
   "metadata": {},
   "outputs": [],
   "source": [
    "# Impute data for solo travelers\n",
    "train_df = impute_ages_randomly(train_df, 0)\n",
    "# Impute data for families\n",
    "train_df = impute_family_ages_randomly(train_df)\n",
    "# Impute data for friends\n",
    "train_df = impute_ages_randomly(train_df, 2)"
   ]
  },
  {
   "cell_type": "code",
   "execution_count": 29,
   "id": "090b3cce",
   "metadata": {},
   "outputs": [
    {
     "data": {
      "application/vnd.plotly.v1+json": {
       "config": {
        "plotlyServerURL": "https://plot.ly"
       },
       "data": [
        {
         "bingroup": "x",
         "hovertemplate": "Age=%{x}<br>count=%{y}<extra></extra>",
         "legendgroup": "",
         "marker": {
          "color": "blue",
          "pattern": {
           "shape": ""
          }
         },
         "name": "",
         "orientation": "v",
         "showlegend": false,
         "type": "histogram",
         "x": {
          "bdata": "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",
          "dtype": "f8"
         },
         "xaxis": "x",
         "yaxis": "y"
        },
        {
         "bingroup": "x",
         "hovertemplate": "Age=%{x}<br>count=%{y}<extra></extra>",
         "legendgroup": "",
         "marker": {
          "color": "green",
          "pattern": {
           "shape": ""
          }
         },
         "name": "",
         "orientation": "v",
         "showlegend": false,
         "type": "histogram",
         "x": {
          "bdata": "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",
          "dtype": "f8"
         },
         "xaxis": "x2",
         "yaxis": "y2"
        },
        {
         "bingroup": "x",
         "hovertemplate": "Age=%{x}<br>count=%{y}<extra></extra>",
         "legendgroup": "",
         "marker": {
          "color": "red",
          "pattern": {
           "shape": ""
          }
         },
         "name": "",
         "orientation": "v",
         "showlegend": false,
         "type": "histogram",
         "x": {
          "bdata": "AAAAAAAAOkAAAAAAAAA9QAAAAAAAgE9AAAAAAAAAMkAAAAAAAAAxQAAAAAAAADhAAAAAAAAAOkAAAAAAAABFQAAAAAAAAEBAAAAAAACAQUAAAAAAAAA1QAAAAAAAADZAAAAAAACAREAAAAAAAAAuQAAAAAAAAD5AAAAAAAAAQkAAAAAAAABCQAAAAAAAAD5AAAAAAAAANkAAAAAAAABAQAAAAAAAADZAAAAAAAAAPEAAAAAAAAA+QAAAAAAAADJAAAAAAAAAOEAAAAAAAABJQAAAAAAAAD5AAAAAAAAAS0AAAAAAAIBIQAAAAAAAAENAAAAAAAAAS0AAAAAAAAAwQAAAAAAAADpAAAAAAAAAPkAAAAAAAIBBQAAAAAAAAERAAAAAAAAAMEAAAAAAAAA4QAAAAAAAAEpAAAAAAAAAR0AAAAAAAAA0QAAAAAAAADtAAAAAAAAASkAAAAAAAAA4QAAAAAAAgElAAAAAAAAANUAAAAAAAABDQAAAAAAAADpAAAAAAAAAPkAAAAAAAIA8QAAAAAAAAEJAAAAAAACAQ0AAAAAAAIBBQAAAAAAAADxAAAAAAAAANUAAAAAAAABNQAAAAAAAgExAAAAAAAAALkAAAAAAAAAwQAAAAAAAAEdAAAAAAACAQ0AAAAAAAAAwQAAAAAAAADNAAAAAAAAAMEAAAAAAAAA2QAAAAAAAAElAAAAAAAAAM0AAAAAAAAA+QAAAAAAAADNAAAAAAAAAQUAAAAAAAIBHQAAAAAAAAExAAAAAAAAANkAAAAAAAABHQAAAAAAAgEVAAAAAAACAQEAAAAAAAABDQAAAAAAAADhAAAAAAAAAPkAAAAAAAAA5QAAAAAAAAERAAAAAAAAAREAAAAAAAIA8QAAAAAAAAEpAAAAAAAAAT0AAAAAAAAA5QAAAAAAAgEFAAAAAAACAPEAAAAAAAABCQAAAAAAAADBA",
          "dtype": "f8"
         },
         "xaxis": "x3",
         "yaxis": "y3"
        }
       ],
       "layout": {
        "annotations": [
         {
          "font": {
           "size": 16
          },
          "showarrow": false,
          "text": "Solo",
          "x": 0.5,
          "xanchor": "center",
          "xref": "paper",
          "y": 1,
          "yanchor": "bottom",
          "yref": "paper"
         },
         {
          "font": {
           "size": 16
          },
          "showarrow": false,
          "text": "Family",
          "x": 0.5,
          "xanchor": "center",
          "xref": "paper",
          "y": 0.6111111111111112,
          "yanchor": "bottom",
          "yref": "paper"
         },
         {
          "font": {
           "size": 16
          },
          "showarrow": false,
          "text": "Friends",
          "x": 0.5,
          "xanchor": "center",
          "xref": "paper",
          "y": 0.22222222222222224,
          "yanchor": "bottom",
          "yref": "paper"
         }
        ],
        "height": 900,
        "showlegend": false,
        "template": {
         "data": {
          "bar": [
           {
            "error_x": {
             "color": "#2a3f5f"
            },
            "error_y": {
             "color": "#2a3f5f"
            },
            "marker": {
             "line": {
              "color": "#E5ECF6",
              "width": 0.5
             },
             "pattern": {
              "fillmode": "overlay",
              "size": 10,
              "solidity": 0.2
             }
            },
            "type": "bar"
           }
          ],
          "barpolar": [
           {
            "marker": {
             "line": {
              "color": "#E5ECF6",
              "width": 0.5
             },
             "pattern": {
              "fillmode": "overlay",
              "size": 10,
              "solidity": 0.2
             }
            },
            "type": "barpolar"
           }
          ],
          "carpet": [
           {
            "aaxis": {
             "endlinecolor": "#2a3f5f",
             "gridcolor": "white",
             "linecolor": "white",
             "minorgridcolor": "white",
             "startlinecolor": "#2a3f5f"
            },
            "baxis": {
             "endlinecolor": "#2a3f5f",
             "gridcolor": "white",
             "linecolor": "white",
             "minorgridcolor": "white",
             "startlinecolor": "#2a3f5f"
            },
            "type": "carpet"
           }
          ],
          "choropleth": [
           {
            "colorbar": {
             "outlinewidth": 0,
             "ticks": ""
            },
            "type": "choropleth"
           }
          ],
          "contour": [
           {
            "colorbar": {
             "outlinewidth": 0,
             "ticks": ""
            },
            "colorscale": [
             [
              0,
              "#0d0887"
             ],
             [
              0.1111111111111111,
              "#46039f"
             ],
             [
              0.2222222222222222,
              "#7201a8"
             ],
             [
              0.3333333333333333,
              "#9c179e"
             ],
             [
              0.4444444444444444,
              "#bd3786"
             ],
             [
              0.5555555555555556,
              "#d8576b"
             ],
             [
              0.6666666666666666,
              "#ed7953"
             ],
             [
              0.7777777777777778,
              "#fb9f3a"
             ],
             [
              0.8888888888888888,
              "#fdca26"
             ],
             [
              1,
              "#f0f921"
             ]
            ],
            "type": "contour"
           }
          ],
          "contourcarpet": [
           {
            "colorbar": {
             "outlinewidth": 0,
             "ticks": ""
            },
            "type": "contourcarpet"
           }
          ],
          "heatmap": [
           {
            "colorbar": {
             "outlinewidth": 0,
             "ticks": ""
            },
            "colorscale": [
             [
              0,
              "#0d0887"
             ],
             [
              0.1111111111111111,
              "#46039f"
             ],
             [
              0.2222222222222222,
              "#7201a8"
             ],
             [
              0.3333333333333333,
              "#9c179e"
             ],
             [
              0.4444444444444444,
              "#bd3786"
             ],
             [
              0.5555555555555556,
              "#d8576b"
             ],
             [
              0.6666666666666666,
              "#ed7953"
             ],
             [
              0.7777777777777778,
              "#fb9f3a"
             ],
             [
              0.8888888888888888,
              "#fdca26"
             ],
             [
              1,
              "#f0f921"
             ]
            ],
            "type": "heatmap"
           }
          ],
          "histogram": [
           {
            "marker": {
             "pattern": {
              "fillmode": "overlay",
              "size": 10,
              "solidity": 0.2
             }
            },
            "type": "histogram"
           }
          ],
          "histogram2d": [
           {
            "colorbar": {
             "outlinewidth": 0,
             "ticks": ""
            },
            "colorscale": [
             [
              0,
              "#0d0887"
             ],
             [
              0.1111111111111111,
              "#46039f"
             ],
             [
              0.2222222222222222,
              "#7201a8"
             ],
             [
              0.3333333333333333,
              "#9c179e"
             ],
             [
              0.4444444444444444,
              "#bd3786"
             ],
             [
              0.5555555555555556,
              "#d8576b"
             ],
             [
              0.6666666666666666,
              "#ed7953"
             ],
             [
              0.7777777777777778,
              "#fb9f3a"
             ],
             [
              0.8888888888888888,
              "#fdca26"
             ],
             [
              1,
              "#f0f921"
             ]
            ],
            "type": "histogram2d"
           }
          ],
          "histogram2dcontour": [
           {
            "colorbar": {
             "outlinewidth": 0,
             "ticks": ""
            },
            "colorscale": [
             [
              0,
              "#0d0887"
             ],
             [
              0.1111111111111111,
              "#46039f"
             ],
             [
              0.2222222222222222,
              "#7201a8"
             ],
             [
              0.3333333333333333,
              "#9c179e"
             ],
             [
              0.4444444444444444,
              "#bd3786"
             ],
             [
              0.5555555555555556,
              "#d8576b"
             ],
             [
              0.6666666666666666,
              "#ed7953"
             ],
             [
              0.7777777777777778,
              "#fb9f3a"
             ],
             [
              0.8888888888888888,
              "#fdca26"
             ],
             [
              1,
              "#f0f921"
             ]
            ],
            "type": "histogram2dcontour"
           }
          ],
          "mesh3d": [
           {
            "colorbar": {
             "outlinewidth": 0,
             "ticks": ""
            },
            "type": "mesh3d"
           }
          ],
          "parcoords": [
           {
            "line": {
             "colorbar": {
              "outlinewidth": 0,
              "ticks": ""
             }
            },
            "type": "parcoords"
           }
          ],
          "pie": [
           {
            "automargin": true,
            "type": "pie"
           }
          ],
          "scatter": [
           {
            "fillpattern": {
             "fillmode": "overlay",
             "size": 10,
             "solidity": 0.2
            },
            "type": "scatter"
           }
          ],
          "scatter3d": [
           {
            "line": {
             "colorbar": {
              "outlinewidth": 0,
              "ticks": ""
             }
            },
            "marker": {
             "colorbar": {
              "outlinewidth": 0,
              "ticks": ""
             }
            },
            "type": "scatter3d"
           }
          ],
          "scattercarpet": [
           {
            "marker": {
             "colorbar": {
              "outlinewidth": 0,
              "ticks": ""
             }
            },
            "type": "scattercarpet"
           }
          ],
          "scattergeo": [
           {
            "marker": {
             "colorbar": {
              "outlinewidth": 0,
              "ticks": ""
             }
            },
            "type": "scattergeo"
           }
          ],
          "scattergl": [
           {
            "marker": {
             "colorbar": {
              "outlinewidth": 0,
              "ticks": ""
             }
            },
            "type": "scattergl"
           }
          ],
          "scattermap": [
           {
            "marker": {
             "colorbar": {
              "outlinewidth": 0,
              "ticks": ""
             }
            },
            "type": "scattermap"
           }
          ],
          "scattermapbox": [
           {
            "marker": {
             "colorbar": {
              "outlinewidth": 0,
              "ticks": ""
             }
            },
            "type": "scattermapbox"
           }
          ],
          "scatterpolar": [
           {
            "marker": {
             "colorbar": {
              "outlinewidth": 0,
              "ticks": ""
             }
            },
            "type": "scatterpolar"
           }
          ],
          "scatterpolargl": [
           {
            "marker": {
             "colorbar": {
              "outlinewidth": 0,
              "ticks": ""
             }
            },
            "type": "scatterpolargl"
           }
          ],
          "scatterternary": [
           {
            "marker": {
             "colorbar": {
              "outlinewidth": 0,
              "ticks": ""
             }
            },
            "type": "scatterternary"
           }
          ],
          "surface": [
           {
            "colorbar": {
             "outlinewidth": 0,
             "ticks": ""
            },
            "colorscale": [
             [
              0,
              "#0d0887"
             ],
             [
              0.1111111111111111,
              "#46039f"
             ],
             [
              0.2222222222222222,
              "#7201a8"
             ],
             [
              0.3333333333333333,
              "#9c179e"
             ],
             [
              0.4444444444444444,
              "#bd3786"
             ],
             [
              0.5555555555555556,
              "#d8576b"
             ],
             [
              0.6666666666666666,
              "#ed7953"
             ],
             [
              0.7777777777777778,
              "#fb9f3a"
             ],
             [
              0.8888888888888888,
              "#fdca26"
             ],
             [
              1,
              "#f0f921"
             ]
            ],
            "type": "surface"
           }
          ],
          "table": [
           {
            "cells": {
             "fill": {
              "color": "#EBF0F8"
             },
             "line": {
              "color": "white"
             }
            },
            "header": {
             "fill": {
              "color": "#C8D4E3"
             },
             "line": {
              "color": "white"
             }
            },
            "type": "table"
           }
          ]
         },
         "layout": {
          "annotationdefaults": {
           "arrowcolor": "#2a3f5f",
           "arrowhead": 0,
           "arrowwidth": 1
          },
          "autotypenumbers": "strict",
          "coloraxis": {
           "colorbar": {
            "outlinewidth": 0,
            "ticks": ""
           }
          },
          "colorscale": {
           "diverging": [
            [
             0,
             "#8e0152"
            ],
            [
             0.1,
             "#c51b7d"
            ],
            [
             0.2,
             "#de77ae"
            ],
            [
             0.3,
             "#f1b6da"
            ],
            [
             0.4,
             "#fde0ef"
            ],
            [
             0.5,
             "#f7f7f7"
            ],
            [
             0.6,
             "#e6f5d0"
            ],
            [
             0.7,
             "#b8e186"
            ],
            [
             0.8,
             "#7fbc41"
            ],
            [
             0.9,
             "#4d9221"
            ],
            [
             1,
             "#276419"
            ]
           ],
           "sequential": [
            [
             0,
             "#0d0887"
            ],
            [
             0.1111111111111111,
             "#46039f"
            ],
            [
             0.2222222222222222,
             "#7201a8"
            ],
            [
             0.3333333333333333,
             "#9c179e"
            ],
            [
             0.4444444444444444,
             "#bd3786"
            ],
            [
             0.5555555555555556,
             "#d8576b"
            ],
            [
             0.6666666666666666,
             "#ed7953"
            ],
            [
             0.7777777777777778,
             "#fb9f3a"
            ],
            [
             0.8888888888888888,
             "#fdca26"
            ],
            [
             1,
             "#f0f921"
            ]
           ],
           "sequentialminus": [
            [
             0,
             "#0d0887"
            ],
            [
             0.1111111111111111,
             "#46039f"
            ],
            [
             0.2222222222222222,
             "#7201a8"
            ],
            [
             0.3333333333333333,
             "#9c179e"
            ],
            [
             0.4444444444444444,
             "#bd3786"
            ],
            [
             0.5555555555555556,
             "#d8576b"
            ],
            [
             0.6666666666666666,
             "#ed7953"
            ],
            [
             0.7777777777777778,
             "#fb9f3a"
            ],
            [
             0.8888888888888888,
             "#fdca26"
            ],
            [
             1,
             "#f0f921"
            ]
           ]
          },
          "colorway": [
           "#636efa",
           "#EF553B",
           "#00cc96",
           "#ab63fa",
           "#FFA15A",
           "#19d3f3",
           "#FF6692",
           "#B6E880",
           "#FF97FF",
           "#FECB52"
          ],
          "font": {
           "color": "#2a3f5f"
          },
          "geo": {
           "bgcolor": "white",
           "lakecolor": "white",
           "landcolor": "#E5ECF6",
           "showlakes": true,
           "showland": true,
           "subunitcolor": "white"
          },
          "hoverlabel": {
           "align": "left"
          },
          "hovermode": "closest",
          "mapbox": {
           "style": "light"
          },
          "paper_bgcolor": "white",
          "plot_bgcolor": "#E5ECF6",
          "polar": {
           "angularaxis": {
            "gridcolor": "white",
            "linecolor": "white",
            "ticks": ""
           },
           "bgcolor": "#E5ECF6",
           "radialaxis": {
            "gridcolor": "white",
            "linecolor": "white",
            "ticks": ""
           }
          },
          "scene": {
           "xaxis": {
            "backgroundcolor": "#E5ECF6",
            "gridcolor": "white",
            "gridwidth": 2,
            "linecolor": "white",
            "showbackground": true,
            "ticks": "",
            "zerolinecolor": "white"
           },
           "yaxis": {
            "backgroundcolor": "#E5ECF6",
            "gridcolor": "white",
            "gridwidth": 2,
            "linecolor": "white",
            "showbackground": true,
            "ticks": "",
            "zerolinecolor": "white"
           },
           "zaxis": {
            "backgroundcolor": "#E5ECF6",
            "gridcolor": "white",
            "gridwidth": 2,
            "linecolor": "white",
            "showbackground": true,
            "ticks": "",
            "zerolinecolor": "white"
           }
          },
          "shapedefaults": {
           "line": {
            "color": "#2a3f5f"
           }
          },
          "ternary": {
           "aaxis": {
            "gridcolor": "white",
            "linecolor": "white",
            "ticks": ""
           },
           "baxis": {
            "gridcolor": "white",
            "linecolor": "white",
            "ticks": ""
           },
           "bgcolor": "#E5ECF6",
           "caxis": {
            "gridcolor": "white",
            "linecolor": "white",
            "ticks": ""
           }
          },
          "title": {
           "x": 0.05
          },
          "xaxis": {
           "automargin": true,
           "gridcolor": "white",
           "linecolor": "white",
           "ticks": "",
           "title": {
            "standoff": 15
           },
           "zerolinecolor": "white",
           "zerolinewidth": 2
          },
          "yaxis": {
           "automargin": true,
           "gridcolor": "white",
           "linecolor": "white",
           "ticks": "",
           "title": {
            "standoff": 15
           },
           "zerolinecolor": "white",
           "zerolinewidth": 2
          }
         }
        },
        "title": {
         "text": "Age Distribution by Company (IMPUTED DATA)"
        },
        "xaxis": {
         "anchor": "y",
         "domain": [
          0,
          1
         ],
         "matches": "x3",
         "showticklabels": false
        },
        "xaxis2": {
         "anchor": "y2",
         "domain": [
          0,
          1
         ],
         "matches": "x3",
         "showticklabels": false
        },
        "xaxis3": {
         "anchor": "y3",
         "domain": [
          0,
          1
         ]
        },
        "yaxis": {
         "anchor": "x",
         "domain": [
          0.7777777777777778,
          1
         ]
        },
        "yaxis2": {
         "anchor": "x2",
         "domain": [
          0.3888888888888889,
          0.6111111111111112
         ]
        },
        "yaxis3": {
         "anchor": "x3",
         "domain": [
          0,
          0.22222222222222224
         ]
        }
       }
      }
     },
     "metadata": {},
     "output_type": "display_data"
    }
   ],
   "source": [
    "# Show Age distributions by Company\n",
    "plot_age_distribution_by_company(train_df, 'Age Distribution by Company (IMPUTED DATA)')"
   ]
  },
  {
   "cell_type": "markdown",
   "id": "500d6898",
   "metadata": {},
   "source": [
    "#### --- Cabin ---"
   ]
  },
  {
   "cell_type": "code",
   "execution_count": 30,
   "id": "5ff6d4f5",
   "metadata": {},
   "outputs": [
    {
     "name": "stdout",
     "output_type": "stream",
     "text": [
      "Cabin_Letter\n",
      "A    46.666667\n",
      "B    74.468085\n",
      "C    59.322034\n",
      "D    75.757576\n",
      "E    75.000000\n",
      "F    61.538462\n",
      "G    50.000000\n",
      "T     0.000000\n",
      "Name: Survived, dtype: float64\n"
     ]
    }
   ],
   "source": [
    "# For all passengers with Cabin stargin with the same letter (example: 'A'), calculate survival rate\n",
    "# This will help to fill in missing Cabin values\n",
    "# First, extract the first letter of the Cabin\n",
    "train_df['Cabin_Letter'] = train_df['Cabin'].str[0]\n",
    "# Calculate survival rate by Cabin letter\n",
    "cabin_survival_rate = train_df.groupby('Cabin_Letter')['Survived'].mean()*100\n",
    "print(cabin_survival_rate)"
   ]
  },
  {
   "cell_type": "code",
   "execution_count": 31,
   "id": "fbf110d2",
   "metadata": {},
   "outputs": [],
   "source": [
    "# Drop the 'Cabin' and 'Cabine_Letter' columns\n",
    "train_df.drop(columns=['Cabin', 'Cabin_Letter'], inplace=True)"
   ]
  },
  {
   "cell_type": "markdown",
   "id": "a436a987",
   "metadata": {},
   "source": [
    "#### --- Embarked ----"
   ]
  },
  {
   "cell_type": "code",
   "execution_count": 32,
   "id": "82b08f96",
   "metadata": {},
   "outputs": [
    {
     "name": "stdout",
     "output_type": "stream",
     "text": [
      "Embarked\n",
      "C    0.553571\n",
      "Q    0.389610\n",
      "S    0.336957\n",
      "Name: Survived, dtype: float64\n"
     ]
    }
   ],
   "source": [
    "# Could there be some relationship between the Embarked site and surival rate?\n",
    "# Calculate survival rate by Embarked site\n",
    "embarked_survival_rate = train_df.groupby('Embarked')['Survived'].mean()\n",
    "print(embarked_survival_rate)"
   ]
  },
  {
   "cell_type": "code",
   "execution_count": 33,
   "id": "170d0bc7",
   "metadata": {},
   "outputs": [],
   "source": [
    "# Impute missing Embarked values with the most common value\n",
    "most_common_embarked = train_df['Embarked'].mode()[0]\n",
    "train_df['Embarked'] = train_df['Embarked'].fillna(most_common_embarked)"
   ]
  },
  {
   "cell_type": "markdown",
   "id": "628d2f53",
   "metadata": {},
   "source": [
    "### Wrap up"
   ]
  },
  {
   "cell_type": "code",
   "execution_count": 34,
   "id": "f43a9524",
   "metadata": {},
   "outputs": [
    {
     "name": "stdout",
     "output_type": "stream",
     "text": [
      "Column PassengerId has 0 nulls\n",
      "Column Family Name has 0 nulls\n",
      "Column Title has 0 nulls\n",
      "Column First Name has 0 nulls\n",
      "Column Survived has 0 nulls\n",
      "Column Pclass has 0 nulls\n",
      "Column Sex has 0 nulls\n",
      "Column Age has 0 nulls\n",
      "Column SibSp has 0 nulls\n",
      "Column Parch has 0 nulls\n",
      "Column Ticket has 0 nulls\n",
      "Column Fare has 0 nulls\n",
      "Column Embarked has 0 nulls\n",
      "Column Company has 0 nulls\n"
     ]
    }
   ],
   "source": [
    "# Look for missing values after data manipulation\n",
    "for el in train_df.columns:\n",
    "    num_null = train_df[el].isnull().sum()\n",
    "    print(f'Column {el} has {num_null} nulls')"
   ]
  },
  {
   "cell_type": "markdown",
   "id": "9b581d2a",
   "metadata": {},
   "source": [
    "# Classifier\n",
    "\n",
    "- PassengerId will NOT be considered in the train dataset, as it is irrelevant;\n",
    "- Cabin will NOT be considered in the train dataset, as it has too much missing values, and it does not seem to be related to surivavl rates;"
   ]
  },
  {
   "cell_type": "markdown",
   "id": "d5de8deb",
   "metadata": {},
   "source": [
    "## Get data"
   ]
  },
  {
   "cell_type": "code",
   "execution_count": 35,
   "id": "6c2d30b1",
   "metadata": {},
   "outputs": [
    {
     "data": {
      "text/html": [
       "<div>\n",
       "<style scoped>\n",
       "    .dataframe tbody tr th:only-of-type {\n",
       "        vertical-align: middle;\n",
       "    }\n",
       "\n",
       "    .dataframe tbody tr th {\n",
       "        vertical-align: top;\n",
       "    }\n",
       "\n",
       "    .dataframe thead th {\n",
       "        text-align: right;\n",
       "    }\n",
       "</style>\n",
       "<table border=\"1\" class=\"dataframe\">\n",
       "  <thead>\n",
       "    <tr style=\"text-align: right;\">\n",
       "      <th></th>\n",
       "      <th>PassengerId</th>\n",
       "      <th>Family Name</th>\n",
       "      <th>Title</th>\n",
       "      <th>First Name</th>\n",
       "      <th>Survived</th>\n",
       "      <th>Pclass</th>\n",
       "      <th>Sex</th>\n",
       "      <th>Age</th>\n",
       "      <th>SibSp</th>\n",
       "      <th>Parch</th>\n",
       "      <th>Ticket</th>\n",
       "      <th>Fare</th>\n",
       "      <th>Embarked</th>\n",
       "      <th>Company</th>\n",
       "    </tr>\n",
       "  </thead>\n",
       "  <tbody>\n",
       "    <tr>\n",
       "      <th>845</th>\n",
       "      <td>846</td>\n",
       "      <td>Abbing</td>\n",
       "      <td>Mr</td>\n",
       "      <td>Anthony</td>\n",
       "      <td>0</td>\n",
       "      <td>3</td>\n",
       "      <td>0</td>\n",
       "      <td>42.0</td>\n",
       "      <td>0</td>\n",
       "      <td>0</td>\n",
       "      <td>C.A. 5547</td>\n",
       "      <td>7.55</td>\n",
       "      <td>S</td>\n",
       "      <td>0.0</td>\n",
       "    </tr>\n",
       "    <tr>\n",
       "      <th>279</th>\n",
       "      <td>280</td>\n",
       "      <td>Abbott</td>\n",
       "      <td>Mrs</td>\n",
       "      <td>Rosa</td>\n",
       "      <td>1</td>\n",
       "      <td>3</td>\n",
       "      <td>1</td>\n",
       "      <td>35.0</td>\n",
       "      <td>1</td>\n",
       "      <td>1</td>\n",
       "      <td>C.A. 2673</td>\n",
       "      <td>20.25</td>\n",
       "      <td>S</td>\n",
       "      <td>1.0</td>\n",
       "    </tr>\n",
       "    <tr>\n",
       "      <th>746</th>\n",
       "      <td>747</td>\n",
       "      <td>Abbott</td>\n",
       "      <td>Mr</td>\n",
       "      <td>Rossmore Edward</td>\n",
       "      <td>0</td>\n",
       "      <td>3</td>\n",
       "      <td>0</td>\n",
       "      <td>16.0</td>\n",
       "      <td>1</td>\n",
       "      <td>1</td>\n",
       "      <td>C.A. 2673</td>\n",
       "      <td>20.25</td>\n",
       "      <td>S</td>\n",
       "      <td>1.0</td>\n",
       "    </tr>\n",
       "    <tr>\n",
       "      <th>874</th>\n",
       "      <td>875</td>\n",
       "      <td>Abelson</td>\n",
       "      <td>Mrs</td>\n",
       "      <td>Hannah</td>\n",
       "      <td>1</td>\n",
       "      <td>2</td>\n",
       "      <td>1</td>\n",
       "      <td>28.0</td>\n",
       "      <td>1</td>\n",
       "      <td>0</td>\n",
       "      <td>P/PP 3381</td>\n",
       "      <td>24.00</td>\n",
       "      <td>C</td>\n",
       "      <td>1.0</td>\n",
       "    </tr>\n",
       "    <tr>\n",
       "      <th>308</th>\n",
       "      <td>309</td>\n",
       "      <td>Abelson</td>\n",
       "      <td>Mr</td>\n",
       "      <td>Samuel</td>\n",
       "      <td>0</td>\n",
       "      <td>2</td>\n",
       "      <td>0</td>\n",
       "      <td>30.0</td>\n",
       "      <td>1</td>\n",
       "      <td>0</td>\n",
       "      <td>P/PP 3381</td>\n",
       "      <td>24.00</td>\n",
       "      <td>C</td>\n",
       "      <td>1.0</td>\n",
       "    </tr>\n",
       "  </tbody>\n",
       "</table>\n",
       "</div>"
      ],
      "text/plain": [
       "     PassengerId Family Name Title       First Name  Survived  Pclass  Sex  \\\n",
       "845          846      Abbing    Mr          Anthony         0       3    0   \n",
       "279          280      Abbott   Mrs             Rosa         1       3    1   \n",
       "746          747      Abbott    Mr  Rossmore Edward         0       3    0   \n",
       "874          875     Abelson   Mrs           Hannah         1       2    1   \n",
       "308          309     Abelson    Mr           Samuel         0       2    0   \n",
       "\n",
       "      Age  SibSp  Parch     Ticket   Fare Embarked  Company  \n",
       "845  42.0      0      0  C.A. 5547   7.55        S      0.0  \n",
       "279  35.0      1      1  C.A. 2673  20.25        S      1.0  \n",
       "746  16.0      1      1  C.A. 2673  20.25        S      1.0  \n",
       "874  28.0      1      0  P/PP 3381  24.00        C      1.0  \n",
       "308  30.0      1      0  P/PP 3381  24.00        C      1.0  "
      ]
     },
     "execution_count": 35,
     "metadata": {},
     "output_type": "execute_result"
    }
   ],
   "source": [
    "train_df.head()"
   ]
  },
  {
   "cell_type": "code",
   "execution_count": 36,
   "id": "9f16f75a",
   "metadata": {},
   "outputs": [
    {
     "data": {
      "text/html": [
       "<div>\n",
       "<style scoped>\n",
       "    .dataframe tbody tr th:only-of-type {\n",
       "        vertical-align: middle;\n",
       "    }\n",
       "\n",
       "    .dataframe tbody tr th {\n",
       "        vertical-align: top;\n",
       "    }\n",
       "\n",
       "    .dataframe thead th {\n",
       "        text-align: right;\n",
       "    }\n",
       "</style>\n",
       "<table border=\"1\" class=\"dataframe\">\n",
       "  <thead>\n",
       "    <tr style=\"text-align: right;\">\n",
       "      <th></th>\n",
       "      <th>Pclass</th>\n",
       "      <th>Sex</th>\n",
       "      <th>Age</th>\n",
       "      <th>SibSp</th>\n",
       "      <th>Parch</th>\n",
       "      <th>Fare</th>\n",
       "      <th>Embarked</th>\n",
       "      <th>Company</th>\n",
       "    </tr>\n",
       "  </thead>\n",
       "  <tbody>\n",
       "    <tr>\n",
       "      <th>845</th>\n",
       "      <td>3</td>\n",
       "      <td>0</td>\n",
       "      <td>42.0</td>\n",
       "      <td>0</td>\n",
       "      <td>0</td>\n",
       "      <td>7.55</td>\n",
       "      <td>S</td>\n",
       "      <td>0.0</td>\n",
       "    </tr>\n",
       "    <tr>\n",
       "      <th>279</th>\n",
       "      <td>3</td>\n",
       "      <td>1</td>\n",
       "      <td>35.0</td>\n",
       "      <td>1</td>\n",
       "      <td>1</td>\n",
       "      <td>20.25</td>\n",
       "      <td>S</td>\n",
       "      <td>1.0</td>\n",
       "    </tr>\n",
       "    <tr>\n",
       "      <th>746</th>\n",
       "      <td>3</td>\n",
       "      <td>0</td>\n",
       "      <td>16.0</td>\n",
       "      <td>1</td>\n",
       "      <td>1</td>\n",
       "      <td>20.25</td>\n",
       "      <td>S</td>\n",
       "      <td>1.0</td>\n",
       "    </tr>\n",
       "    <tr>\n",
       "      <th>874</th>\n",
       "      <td>2</td>\n",
       "      <td>1</td>\n",
       "      <td>28.0</td>\n",
       "      <td>1</td>\n",
       "      <td>0</td>\n",
       "      <td>24.00</td>\n",
       "      <td>C</td>\n",
       "      <td>1.0</td>\n",
       "    </tr>\n",
       "    <tr>\n",
       "      <th>308</th>\n",
       "      <td>2</td>\n",
       "      <td>0</td>\n",
       "      <td>30.0</td>\n",
       "      <td>1</td>\n",
       "      <td>0</td>\n",
       "      <td>24.00</td>\n",
       "      <td>C</td>\n",
       "      <td>1.0</td>\n",
       "    </tr>\n",
       "  </tbody>\n",
       "</table>\n",
       "</div>"
      ],
      "text/plain": [
       "     Pclass  Sex   Age  SibSp  Parch   Fare Embarked  Company\n",
       "845       3    0  42.0      0      0   7.55        S      0.0\n",
       "279       3    1  35.0      1      1  20.25        S      1.0\n",
       "746       3    0  16.0      1      1  20.25        S      1.0\n",
       "874       2    1  28.0      1      0  24.00        C      1.0\n",
       "308       2    0  30.0      1      0  24.00        C      1.0"
      ]
     },
     "execution_count": 36,
     "metadata": {},
     "output_type": "execute_result"
    }
   ],
   "source": [
    "# Create a copy of train_df with only the columns: 'Pclass', 'Sex', 'Age', SibSp', 'Parch', 'Fare', 'Embarked', 'Company'\n",
    "X = train_df[['Pclass', 'Sex', 'Age', 'SibSp', 'Parch', 'Fare', 'Embarked', 'Company']].copy()\n",
    "X.head()"
   ]
  },
  {
   "cell_type": "code",
   "execution_count": 37,
   "id": "3c637477",
   "metadata": {},
   "outputs": [
    {
     "data": {
      "text/plain": [
       "845    0\n",
       "279    1\n",
       "746    0\n",
       "874    1\n",
       "308    0\n",
       "Name: Survived, dtype: int64"
      ]
     },
     "execution_count": 37,
     "metadata": {},
     "output_type": "execute_result"
    }
   ],
   "source": [
    "# Extract data labels\n",
    "y = train_df['Survived'].copy()\n",
    "y.head()"
   ]
  },
  {
   "cell_type": "markdown",
   "id": "0e3dbb91",
   "metadata": {},
   "source": [
    "## Process data"
   ]
  },
  {
   "cell_type": "code",
   "execution_count": 38,
   "id": "f48b6689",
   "metadata": {},
   "outputs": [],
   "source": [
    "# Identify categorical columns\n",
    "cat_cols = [\n",
    "    'Embarked',\n",
    "    'Company'\n",
    "]\n",
    "# Identify numerical columns\n",
    "num_cols = X.columns.difference(cat_cols)\n",
    "# Processing pipelines\n",
    "# Encoding categorical variables & scaling numerical features\n",
    "num_pipeline = Pipeline([\n",
    "    # (\"scaler\", StandardScaler())\n",
    "    # (\"scaler\", MinMaxScaler())\n",
    "    (\"scaler\", RobustScaler())\n",
    "])\n",
    "cat_pipeline = Pipeline([\n",
    "    (\"encoder\", OneHotEncoder(handle_unknown=\"ignore\"))\n",
    "])\n",
    "# Combine transformers\n",
    "preprocessor = ColumnTransformer([\n",
    "    (\"num\", num_pipeline, num_cols),\n",
    "    (\"cat\", cat_pipeline, cat_cols)\n",
    "])\n",
    "X_proc = pd.DataFrame(preprocessor.fit_transform(X))"
   ]
  },
  {
   "cell_type": "code",
   "execution_count": 39,
   "id": "3671f07a",
   "metadata": {},
   "outputs": [
    {
     "name": "stdout",
     "output_type": "stream",
     "text": [
      "Dropping '6.0' with VIF=inf\n"
     ]
    },
    {
     "name": "stderr",
     "output_type": "stream",
     "text": [
      "c:\\Users\\Claudio Lavoro\\AppData\\Local\\Programs\\Python\\Python310\\lib\\site-packages\\statsmodels\\stats\\outliers_influence.py:197: RuntimeWarning:\n",
      "\n",
      "divide by zero encountered in double_scalars\n",
      "\n"
     ]
    }
   ],
   "source": [
    "# Get VIF and remove feature with high collinearity\n",
    "X_proc = remove_high_vif_features(X_proc, threshold=5)"
   ]
  },
  {
   "cell_type": "markdown",
   "id": "033b60dd",
   "metadata": {},
   "source": [
    "## Train classifier"
   ]
  },
  {
   "cell_type": "markdown",
   "id": "55fa6436",
   "metadata": {},
   "source": [
    "### Suppor Vector Machine"
   ]
  },
  {
   "cell_type": "code",
   "execution_count": 51,
   "id": "f1f9a8e8",
   "metadata": {},
   "outputs": [],
   "source": [
    "# Train-test split\n",
    "X_train, X_test, y_train, y_test = train_test_split(X_proc, y, test_size=0.2, random_state=42)\n",
    "\n",
    "# Define models\n",
    "svm = SVC(C=1.0, kernel='rbf', degree=2, gamma='scale', random_state=0, probability=True) # {'C': 10, 'degree': 2, 'gamma': 'scale', 'kernel': 'rbf'}\n",
    "rf = RandomForestClassifier(max_depth=None, bootstrap=True, min_samples_leaf=1, min_samples_split=10, n_estimators=200) # {'bootstrap': True, 'max_depth': None, 'min_samples_leaf': 1, 'min_samples_split': 10, 'n_estimators': 200}\n",
    "nb = GaussianNB(var_smoothing=1e-05) # {'var_smoothing': 1e-05}"
   ]
  },
  {
   "cell_type": "code",
   "execution_count": 52,
   "id": "088684e3",
   "metadata": {},
   "outputs": [
    {
     "data": {
      "text/html": [
       "<style>#sk-container-id-4 {color: black;background-color: white;}#sk-container-id-4 pre{padding: 0;}#sk-container-id-4 div.sk-toggleable {background-color: white;}#sk-container-id-4 label.sk-toggleable__label {cursor: pointer;display: block;width: 100%;margin-bottom: 0;padding: 0.3em;box-sizing: border-box;text-align: center;}#sk-container-id-4 label.sk-toggleable__label-arrow:before {content: \"▸\";float: left;margin-right: 0.25em;color: #696969;}#sk-container-id-4 label.sk-toggleable__label-arrow:hover:before {color: black;}#sk-container-id-4 div.sk-estimator:hover label.sk-toggleable__label-arrow:before {color: black;}#sk-container-id-4 div.sk-toggleable__content {max-height: 0;max-width: 0;overflow: hidden;text-align: left;background-color: #f0f8ff;}#sk-container-id-4 div.sk-toggleable__content pre {margin: 0.2em;color: black;border-radius: 0.25em;background-color: #f0f8ff;}#sk-container-id-4 input.sk-toggleable__control:checked~div.sk-toggleable__content {max-height: 200px;max-width: 100%;overflow: auto;}#sk-container-id-4 input.sk-toggleable__control:checked~label.sk-toggleable__label-arrow:before {content: \"▾\";}#sk-container-id-4 div.sk-estimator input.sk-toggleable__control:checked~label.sk-toggleable__label {background-color: #d4ebff;}#sk-container-id-4 div.sk-label input.sk-toggleable__control:checked~label.sk-toggleable__label {background-color: #d4ebff;}#sk-container-id-4 input.sk-hidden--visually {border: 0;clip: rect(1px 1px 1px 1px);clip: rect(1px, 1px, 1px, 1px);height: 1px;margin: -1px;overflow: hidden;padding: 0;position: absolute;width: 1px;}#sk-container-id-4 div.sk-estimator {font-family: monospace;background-color: #f0f8ff;border: 1px dotted black;border-radius: 0.25em;box-sizing: border-box;margin-bottom: 0.5em;}#sk-container-id-4 div.sk-estimator:hover {background-color: #d4ebff;}#sk-container-id-4 div.sk-parallel-item::after {content: \"\";width: 100%;border-bottom: 1px solid gray;flex-grow: 1;}#sk-container-id-4 div.sk-label:hover label.sk-toggleable__label {background-color: #d4ebff;}#sk-container-id-4 div.sk-serial::before {content: \"\";position: absolute;border-left: 1px solid gray;box-sizing: border-box;top: 0;bottom: 0;left: 50%;z-index: 0;}#sk-container-id-4 div.sk-serial {display: flex;flex-direction: column;align-items: center;background-color: white;padding-right: 0.2em;padding-left: 0.2em;position: relative;}#sk-container-id-4 div.sk-item {position: relative;z-index: 1;}#sk-container-id-4 div.sk-parallel {display: flex;align-items: stretch;justify-content: center;background-color: white;position: relative;}#sk-container-id-4 div.sk-item::before, #sk-container-id-4 div.sk-parallel-item::before {content: \"\";position: absolute;border-left: 1px solid gray;box-sizing: border-box;top: 0;bottom: 0;left: 50%;z-index: -1;}#sk-container-id-4 div.sk-parallel-item {display: flex;flex-direction: column;z-index: 1;position: relative;background-color: white;}#sk-container-id-4 div.sk-parallel-item:first-child::after {align-self: flex-end;width: 50%;}#sk-container-id-4 div.sk-parallel-item:last-child::after {align-self: flex-start;width: 50%;}#sk-container-id-4 div.sk-parallel-item:only-child::after {width: 0;}#sk-container-id-4 div.sk-dashed-wrapped {border: 1px dashed gray;margin: 0 0.4em 0.5em 0.4em;box-sizing: border-box;padding-bottom: 0.4em;background-color: white;}#sk-container-id-4 div.sk-label label {font-family: monospace;font-weight: bold;display: inline-block;line-height: 1.2em;}#sk-container-id-4 div.sk-label-container {text-align: center;}#sk-container-id-4 div.sk-container {/* jupyter's `normalize.less` sets `[hidden] { display: none; }` but bootstrap.min.css set `[hidden] { display: none !important; }` so we also need the `!important` here to be able to override the default hidden behavior on the sphinx rendered scikit-learn.org. See: https://github.com/scikit-learn/scikit-learn/issues/21755 */display: inline-block !important;position: relative;}#sk-container-id-4 div.sk-text-repr-fallback {display: none;}</style><div id=\"sk-container-id-4\" class=\"sk-top-container\"><div class=\"sk-text-repr-fallback\"><pre>SVC(degree=2, probability=True, random_state=0)</pre><b>In a Jupyter environment, please rerun this cell to show the HTML representation or trust the notebook. <br />On GitHub, the HTML representation is unable to render, please try loading this page with nbviewer.org.</b></div><div class=\"sk-container\" hidden><div class=\"sk-item\"><div class=\"sk-estimator sk-toggleable\"><input class=\"sk-toggleable__control sk-hidden--visually\" id=\"sk-estimator-id-4\" type=\"checkbox\" checked><label for=\"sk-estimator-id-4\" class=\"sk-toggleable__label sk-toggleable__label-arrow\">SVC</label><div class=\"sk-toggleable__content\"><pre>SVC(degree=2, probability=True, random_state=0)</pre></div></div></div></div></div>"
      ],
      "text/plain": [
       "SVC(degree=2, probability=True, random_state=0)"
      ]
     },
     "execution_count": 52,
     "metadata": {},
     "output_type": "execute_result"
    }
   ],
   "source": [
    "# # Define hyperparameter grids\n",
    "# svm_params = {\n",
    "#     'C': [0.1, 1, 10, 100],\n",
    "#     'kernel': ['linear', 'rbf', 'poly'],\n",
    "#     'degree': [2, 3, 4],  # Only applies if kernel='poly'\n",
    "#     'gamma': ['scale', 'auto', 0.001, 0.01, 0.1, 1]  # Only for 'rbf', 'poly', 'sigmoid'\n",
    "#     }\n",
    "# svm_grid = GridSearchCV(svm, svm_params, cv=5, scoring='accuracy', n_jobs=-1)\n",
    "svm.fit(X_train, y_train)"
   ]
  },
  {
   "cell_type": "code",
   "execution_count": 53,
   "id": "a6708b33",
   "metadata": {},
   "outputs": [
    {
     "data": {
      "text/html": [
       "<style>#sk-container-id-5 {color: black;background-color: white;}#sk-container-id-5 pre{padding: 0;}#sk-container-id-5 div.sk-toggleable {background-color: white;}#sk-container-id-5 label.sk-toggleable__label {cursor: pointer;display: block;width: 100%;margin-bottom: 0;padding: 0.3em;box-sizing: border-box;text-align: center;}#sk-container-id-5 label.sk-toggleable__label-arrow:before {content: \"▸\";float: left;margin-right: 0.25em;color: #696969;}#sk-container-id-5 label.sk-toggleable__label-arrow:hover:before {color: black;}#sk-container-id-5 div.sk-estimator:hover label.sk-toggleable__label-arrow:before {color: black;}#sk-container-id-5 div.sk-toggleable__content {max-height: 0;max-width: 0;overflow: hidden;text-align: left;background-color: #f0f8ff;}#sk-container-id-5 div.sk-toggleable__content pre {margin: 0.2em;color: black;border-radius: 0.25em;background-color: #f0f8ff;}#sk-container-id-5 input.sk-toggleable__control:checked~div.sk-toggleable__content {max-height: 200px;max-width: 100%;overflow: auto;}#sk-container-id-5 input.sk-toggleable__control:checked~label.sk-toggleable__label-arrow:before {content: \"▾\";}#sk-container-id-5 div.sk-estimator input.sk-toggleable__control:checked~label.sk-toggleable__label {background-color: #d4ebff;}#sk-container-id-5 div.sk-label input.sk-toggleable__control:checked~label.sk-toggleable__label {background-color: #d4ebff;}#sk-container-id-5 input.sk-hidden--visually {border: 0;clip: rect(1px 1px 1px 1px);clip: rect(1px, 1px, 1px, 1px);height: 1px;margin: -1px;overflow: hidden;padding: 0;position: absolute;width: 1px;}#sk-container-id-5 div.sk-estimator {font-family: monospace;background-color: #f0f8ff;border: 1px dotted black;border-radius: 0.25em;box-sizing: border-box;margin-bottom: 0.5em;}#sk-container-id-5 div.sk-estimator:hover {background-color: #d4ebff;}#sk-container-id-5 div.sk-parallel-item::after {content: \"\";width: 100%;border-bottom: 1px solid gray;flex-grow: 1;}#sk-container-id-5 div.sk-label:hover label.sk-toggleable__label {background-color: #d4ebff;}#sk-container-id-5 div.sk-serial::before {content: \"\";position: absolute;border-left: 1px solid gray;box-sizing: border-box;top: 0;bottom: 0;left: 50%;z-index: 0;}#sk-container-id-5 div.sk-serial {display: flex;flex-direction: column;align-items: center;background-color: white;padding-right: 0.2em;padding-left: 0.2em;position: relative;}#sk-container-id-5 div.sk-item {position: relative;z-index: 1;}#sk-container-id-5 div.sk-parallel {display: flex;align-items: stretch;justify-content: center;background-color: white;position: relative;}#sk-container-id-5 div.sk-item::before, #sk-container-id-5 div.sk-parallel-item::before {content: \"\";position: absolute;border-left: 1px solid gray;box-sizing: border-box;top: 0;bottom: 0;left: 50%;z-index: -1;}#sk-container-id-5 div.sk-parallel-item {display: flex;flex-direction: column;z-index: 1;position: relative;background-color: white;}#sk-container-id-5 div.sk-parallel-item:first-child::after {align-self: flex-end;width: 50%;}#sk-container-id-5 div.sk-parallel-item:last-child::after {align-self: flex-start;width: 50%;}#sk-container-id-5 div.sk-parallel-item:only-child::after {width: 0;}#sk-container-id-5 div.sk-dashed-wrapped {border: 1px dashed gray;margin: 0 0.4em 0.5em 0.4em;box-sizing: border-box;padding-bottom: 0.4em;background-color: white;}#sk-container-id-5 div.sk-label label {font-family: monospace;font-weight: bold;display: inline-block;line-height: 1.2em;}#sk-container-id-5 div.sk-label-container {text-align: center;}#sk-container-id-5 div.sk-container {/* jupyter's `normalize.less` sets `[hidden] { display: none; }` but bootstrap.min.css set `[hidden] { display: none !important; }` so we also need the `!important` here to be able to override the default hidden behavior on the sphinx rendered scikit-learn.org. See: https://github.com/scikit-learn/scikit-learn/issues/21755 */display: inline-block !important;position: relative;}#sk-container-id-5 div.sk-text-repr-fallback {display: none;}</style><div id=\"sk-container-id-5\" class=\"sk-top-container\"><div class=\"sk-text-repr-fallback\"><pre>RandomForestClassifier(min_samples_split=10, n_estimators=200)</pre><b>In a Jupyter environment, please rerun this cell to show the HTML representation or trust the notebook. <br />On GitHub, the HTML representation is unable to render, please try loading this page with nbviewer.org.</b></div><div class=\"sk-container\" hidden><div class=\"sk-item\"><div class=\"sk-estimator sk-toggleable\"><input class=\"sk-toggleable__control sk-hidden--visually\" id=\"sk-estimator-id-5\" type=\"checkbox\" checked><label for=\"sk-estimator-id-5\" class=\"sk-toggleable__label sk-toggleable__label-arrow\">RandomForestClassifier</label><div class=\"sk-toggleable__content\"><pre>RandomForestClassifier(min_samples_split=10, n_estimators=200)</pre></div></div></div></div></div>"
      ],
      "text/plain": [
       "RandomForestClassifier(min_samples_split=10, n_estimators=200)"
      ]
     },
     "execution_count": 53,
     "metadata": {},
     "output_type": "execute_result"
    }
   ],
   "source": [
    "# rf_params = {\n",
    "#     'n_estimators': [50, 100, 200, 300],\n",
    "#     'max_depth': [None, 10, 20, 30],\n",
    "#     'min_samples_split': [2, 5, 10],\n",
    "#     'min_samples_leaf': [1, 2, 4],\n",
    "#     'bootstrap': [True, False]\n",
    "#     }\n",
    "# rf_grid = GridSearchCV(rf, rf_params, cv=5, scoring='accuracy', n_jobs=-1)\n",
    "rf.fit(X_train, y_train)"
   ]
  },
  {
   "cell_type": "code",
   "execution_count": 54,
   "id": "e5d86e93",
   "metadata": {},
   "outputs": [
    {
     "data": {
      "text/html": [
       "<style>#sk-container-id-6 {color: black;background-color: white;}#sk-container-id-6 pre{padding: 0;}#sk-container-id-6 div.sk-toggleable {background-color: white;}#sk-container-id-6 label.sk-toggleable__label {cursor: pointer;display: block;width: 100%;margin-bottom: 0;padding: 0.3em;box-sizing: border-box;text-align: center;}#sk-container-id-6 label.sk-toggleable__label-arrow:before {content: \"▸\";float: left;margin-right: 0.25em;color: #696969;}#sk-container-id-6 label.sk-toggleable__label-arrow:hover:before {color: black;}#sk-container-id-6 div.sk-estimator:hover label.sk-toggleable__label-arrow:before {color: black;}#sk-container-id-6 div.sk-toggleable__content {max-height: 0;max-width: 0;overflow: hidden;text-align: left;background-color: #f0f8ff;}#sk-container-id-6 div.sk-toggleable__content pre {margin: 0.2em;color: black;border-radius: 0.25em;background-color: #f0f8ff;}#sk-container-id-6 input.sk-toggleable__control:checked~div.sk-toggleable__content {max-height: 200px;max-width: 100%;overflow: auto;}#sk-container-id-6 input.sk-toggleable__control:checked~label.sk-toggleable__label-arrow:before {content: \"▾\";}#sk-container-id-6 div.sk-estimator input.sk-toggleable__control:checked~label.sk-toggleable__label {background-color: #d4ebff;}#sk-container-id-6 div.sk-label input.sk-toggleable__control:checked~label.sk-toggleable__label {background-color: #d4ebff;}#sk-container-id-6 input.sk-hidden--visually {border: 0;clip: rect(1px 1px 1px 1px);clip: rect(1px, 1px, 1px, 1px);height: 1px;margin: -1px;overflow: hidden;padding: 0;position: absolute;width: 1px;}#sk-container-id-6 div.sk-estimator {font-family: monospace;background-color: #f0f8ff;border: 1px dotted black;border-radius: 0.25em;box-sizing: border-box;margin-bottom: 0.5em;}#sk-container-id-6 div.sk-estimator:hover {background-color: #d4ebff;}#sk-container-id-6 div.sk-parallel-item::after {content: \"\";width: 100%;border-bottom: 1px solid gray;flex-grow: 1;}#sk-container-id-6 div.sk-label:hover label.sk-toggleable__label {background-color: #d4ebff;}#sk-container-id-6 div.sk-serial::before {content: \"\";position: absolute;border-left: 1px solid gray;box-sizing: border-box;top: 0;bottom: 0;left: 50%;z-index: 0;}#sk-container-id-6 div.sk-serial {display: flex;flex-direction: column;align-items: center;background-color: white;padding-right: 0.2em;padding-left: 0.2em;position: relative;}#sk-container-id-6 div.sk-item {position: relative;z-index: 1;}#sk-container-id-6 div.sk-parallel {display: flex;align-items: stretch;justify-content: center;background-color: white;position: relative;}#sk-container-id-6 div.sk-item::before, #sk-container-id-6 div.sk-parallel-item::before {content: \"\";position: absolute;border-left: 1px solid gray;box-sizing: border-box;top: 0;bottom: 0;left: 50%;z-index: -1;}#sk-container-id-6 div.sk-parallel-item {display: flex;flex-direction: column;z-index: 1;position: relative;background-color: white;}#sk-container-id-6 div.sk-parallel-item:first-child::after {align-self: flex-end;width: 50%;}#sk-container-id-6 div.sk-parallel-item:last-child::after {align-self: flex-start;width: 50%;}#sk-container-id-6 div.sk-parallel-item:only-child::after {width: 0;}#sk-container-id-6 div.sk-dashed-wrapped {border: 1px dashed gray;margin: 0 0.4em 0.5em 0.4em;box-sizing: border-box;padding-bottom: 0.4em;background-color: white;}#sk-container-id-6 div.sk-label label {font-family: monospace;font-weight: bold;display: inline-block;line-height: 1.2em;}#sk-container-id-6 div.sk-label-container {text-align: center;}#sk-container-id-6 div.sk-container {/* jupyter's `normalize.less` sets `[hidden] { display: none; }` but bootstrap.min.css set `[hidden] { display: none !important; }` so we also need the `!important` here to be able to override the default hidden behavior on the sphinx rendered scikit-learn.org. See: https://github.com/scikit-learn/scikit-learn/issues/21755 */display: inline-block !important;position: relative;}#sk-container-id-6 div.sk-text-repr-fallback {display: none;}</style><div id=\"sk-container-id-6\" class=\"sk-top-container\"><div class=\"sk-text-repr-fallback\"><pre>GaussianNB(var_smoothing=1e-05)</pre><b>In a Jupyter environment, please rerun this cell to show the HTML representation or trust the notebook. <br />On GitHub, the HTML representation is unable to render, please try loading this page with nbviewer.org.</b></div><div class=\"sk-container\" hidden><div class=\"sk-item\"><div class=\"sk-estimator sk-toggleable\"><input class=\"sk-toggleable__control sk-hidden--visually\" id=\"sk-estimator-id-6\" type=\"checkbox\" checked><label for=\"sk-estimator-id-6\" class=\"sk-toggleable__label sk-toggleable__label-arrow\">GaussianNB</label><div class=\"sk-toggleable__content\"><pre>GaussianNB(var_smoothing=1e-05)</pre></div></div></div></div></div>"
      ],
      "text/plain": [
       "GaussianNB(var_smoothing=1e-05)"
      ]
     },
     "execution_count": 54,
     "metadata": {},
     "output_type": "execute_result"
    }
   ],
   "source": [
    "# nb_params = {\n",
    "#     'var_smoothing': [1e-9, 1e-8, 1e-7, 1e-6, 1e-5]\n",
    "#     }\n",
    "# nb_grid = GridSearchCV(nb, nb_params, cv=5, scoring='accuracy', n_jobs=-1)\n",
    "nb.fit(X_train, y_train)"
   ]
  },
  {
   "cell_type": "code",
   "execution_count": 55,
   "id": "f3a78a4f",
   "metadata": {},
   "outputs": [],
   "source": [
    "# # Best models\n",
    "# best_svm = svm_grid.best_estimator_\n",
    "# best_rf = rf_grid.best_estimator_\n",
    "# best_nb = GaussianNB(var_smoothing=1e-05)\n",
    "\n",
    "# print(f\"Best SVM: {svm_grid.best_params_}\")\n",
    "# print(f\"Best RF: {rf_grid.best_params_}\")\n",
    "# print(f\"Best NB: {nb_grid.best_params_}\")"
   ]
  },
  {
   "cell_type": "markdown",
   "id": "e2ab12a3",
   "metadata": {},
   "source": [
    "Best SVM: {'C': 10, 'degree': 2, 'gamma': 'scale', 'kernel': 'rbf'}\n",
    "\n",
    "Best RF: {'bootstrap': True, 'max_depth': None, 'min_samples_leaf': 1, 'min_samples_split': 10, 'n_estimators': 200}\n",
    "\n",
    "Best NB: {'var_smoothing': 1e-05}"
   ]
  },
  {
   "cell_type": "code",
   "execution_count": null,
   "id": "c26210a3",
   "metadata": {},
   "outputs": [
    {
     "name": "stdout",
     "output_type": "stream",
     "text": [
      "Ensemble CV Accuracy: 0.7879\n",
      "Final Ensemble Test Accuracy: 0.7989\n"
     ]
    }
   ],
   "source": [
    "# Ensemble Voting Classifier\n",
    "ensemble = VotingClassifier(\n",
    "    # estimators=[('svm', svm), ('rf', rf), ('nb', nb)], voting='soft',\n",
    "    # estimators=[('svm', svm), ('rf', rf), ('nb', nb)], voting='hard',\n",
    "    estimators=[('svm', svm), ('rf', rf)], voting='soft',\n",
    "    # estimators=[('svm', svm), ('rf', rf)], voting='hard',\n",
    "    # estimators=[('svm', svm), ('nb', nb)], voting='soft',\n",
    "    # estimators=[('svm', svm), ('nb', nb)], voting='hard',\n",
    "    # estimators=[('rf', rf), ('nb', nb)], voting='soft',\n",
    "    # estimators=[('rf', rf), ('nb', nb)], voting='hard',\n",
    ")\n",
    "# Cross-validation on ensemble\n",
    "ensemble_scores = cross_val_score(ensemble, X_train, y_train, cv=10, scoring='accuracy')\n",
    "print(f\"Ensemble CV Accuracy: {np.mean(ensemble_scores):.4f}\")\n",
    "\n",
    "# Train final ensemble model\n",
    "ensemble.fit(X_train, y_train)\n",
    "\n",
    "# Evaluate on test data\n",
    "test_score = ensemble.score(X_test, y_test)\n",
    "print(f\"Final Ensemble Test Accuracy: {test_score:.4f}\")"
   ]
  },
  {
   "cell_type": "markdown",
   "id": "176c0dea",
   "metadata": {},
   "source": [
    "Best classifier: SVM + RF - Voting SOFT"
   ]
  },
  {
   "cell_type": "markdown",
   "id": "f9355097",
   "metadata": {},
   "source": [
    "## Test set"
   ]
  },
  {
   "cell_type": "code",
   "execution_count": 65,
   "id": "ab306340",
   "metadata": {},
   "outputs": [
    {
     "data": {
      "text/html": [
       "<div>\n",
       "<style scoped>\n",
       "    .dataframe tbody tr th:only-of-type {\n",
       "        vertical-align: middle;\n",
       "    }\n",
       "\n",
       "    .dataframe tbody tr th {\n",
       "        vertical-align: top;\n",
       "    }\n",
       "\n",
       "    .dataframe thead th {\n",
       "        text-align: right;\n",
       "    }\n",
       "</style>\n",
       "<table border=\"1\" class=\"dataframe\">\n",
       "  <thead>\n",
       "    <tr style=\"text-align: right;\">\n",
       "      <th></th>\n",
       "      <th>PassengerId</th>\n",
       "      <th>Pclass</th>\n",
       "      <th>Name</th>\n",
       "      <th>Sex</th>\n",
       "      <th>Age</th>\n",
       "      <th>SibSp</th>\n",
       "      <th>Parch</th>\n",
       "      <th>Ticket</th>\n",
       "      <th>Fare</th>\n",
       "      <th>Cabin</th>\n",
       "      <th>Embarked</th>\n",
       "    </tr>\n",
       "  </thead>\n",
       "  <tbody>\n",
       "    <tr>\n",
       "      <th>0</th>\n",
       "      <td>892</td>\n",
       "      <td>3</td>\n",
       "      <td>Kelly, Mr. James</td>\n",
       "      <td>0</td>\n",
       "      <td>34.5</td>\n",
       "      <td>0</td>\n",
       "      <td>0</td>\n",
       "      <td>330911</td>\n",
       "      <td>7.8292</td>\n",
       "      <td>NaN</td>\n",
       "      <td>Q</td>\n",
       "    </tr>\n",
       "    <tr>\n",
       "      <th>1</th>\n",
       "      <td>893</td>\n",
       "      <td>3</td>\n",
       "      <td>Wilkes, Mrs. James (Ellen Needs)</td>\n",
       "      <td>1</td>\n",
       "      <td>47.0</td>\n",
       "      <td>1</td>\n",
       "      <td>0</td>\n",
       "      <td>363272</td>\n",
       "      <td>7.0000</td>\n",
       "      <td>NaN</td>\n",
       "      <td>S</td>\n",
       "    </tr>\n",
       "    <tr>\n",
       "      <th>2</th>\n",
       "      <td>894</td>\n",
       "      <td>2</td>\n",
       "      <td>Myles, Mr. Thomas Francis</td>\n",
       "      <td>0</td>\n",
       "      <td>62.0</td>\n",
       "      <td>0</td>\n",
       "      <td>0</td>\n",
       "      <td>240276</td>\n",
       "      <td>9.6875</td>\n",
       "      <td>NaN</td>\n",
       "      <td>Q</td>\n",
       "    </tr>\n",
       "    <tr>\n",
       "      <th>3</th>\n",
       "      <td>895</td>\n",
       "      <td>3</td>\n",
       "      <td>Wirz, Mr. Albert</td>\n",
       "      <td>0</td>\n",
       "      <td>27.0</td>\n",
       "      <td>0</td>\n",
       "      <td>0</td>\n",
       "      <td>315154</td>\n",
       "      <td>8.6625</td>\n",
       "      <td>NaN</td>\n",
       "      <td>S</td>\n",
       "    </tr>\n",
       "    <tr>\n",
       "      <th>4</th>\n",
       "      <td>896</td>\n",
       "      <td>3</td>\n",
       "      <td>Hirvonen, Mrs. Alexander (Helga E Lindqvist)</td>\n",
       "      <td>1</td>\n",
       "      <td>22.0</td>\n",
       "      <td>1</td>\n",
       "      <td>1</td>\n",
       "      <td>3101298</td>\n",
       "      <td>12.2875</td>\n",
       "      <td>NaN</td>\n",
       "      <td>S</td>\n",
       "    </tr>\n",
       "  </tbody>\n",
       "</table>\n",
       "</div>"
      ],
      "text/plain": [
       "   PassengerId  Pclass                                          Name  Sex  \\\n",
       "0          892       3                              Kelly, Mr. James    0   \n",
       "1          893       3              Wilkes, Mrs. James (Ellen Needs)    1   \n",
       "2          894       2                     Myles, Mr. Thomas Francis    0   \n",
       "3          895       3                              Wirz, Mr. Albert    0   \n",
       "4          896       3  Hirvonen, Mrs. Alexander (Helga E Lindqvist)    1   \n",
       "\n",
       "    Age  SibSp  Parch   Ticket     Fare Cabin Embarked  \n",
       "0  34.5      0      0   330911   7.8292   NaN        Q  \n",
       "1  47.0      1      0   363272   7.0000   NaN        S  \n",
       "2  62.0      0      0   240276   9.6875   NaN        Q  \n",
       "3  27.0      0      0   315154   8.6625   NaN        S  \n",
       "4  22.0      1      1  3101298  12.2875   NaN        S  "
      ]
     },
     "execution_count": 65,
     "metadata": {},
     "output_type": "execute_result"
    }
   ],
   "source": [
    "test_raw_df.head()"
   ]
  },
  {
   "cell_type": "markdown",
   "id": "e741f3b6",
   "metadata": {},
   "source": [
    "### Manipulate data"
   ]
  },
  {
   "cell_type": "code",
   "execution_count": 66,
   "id": "6f3a0fd7",
   "metadata": {},
   "outputs": [],
   "source": [
    "# Remove 'Survived' from sorted_columns\n",
    "sorted_columns.remove('Survived')"
   ]
  },
  {
   "cell_type": "code",
   "execution_count": 67,
   "id": "bfde3a01",
   "metadata": {},
   "outputs": [],
   "source": [
    "# Split name into first name, family name and title\n",
    "test_df = test_raw_df.copy()\n",
    "test_df = split_name_column(test_df)\n",
    "\n",
    "# Sort the columns in the specified order\n",
    "test_df = test_df[sorted_columns]\n",
    "test_df = test_df.sort_values(by='Family Name')\n",
    "\n",
    "# Classify passengers into solo travelers, families, or friends.\n",
    "test_df = classify_passengers(test_df)\n",
    "\n",
    "# Force passengers with age < 13 to classified as family members\n",
    "test_df.loc[test_df['Age'] < 13, 'Company'] = 1\n",
    "\n",
    "# Impute data for solo travelers\n",
    "test_df = impute_ages_randomly(test_df, 0)\n",
    "# Impute data for families\n",
    "test_df = impute_family_ages_randomly(test_df)\n",
    "# Impute data for friends\n",
    "test_df = impute_ages_randomly(test_df, 2)\n",
    "\n",
    "# Drop the 'Cabin' and 'Cabine_Letter' columns\n",
    "test_df.drop(columns=['Cabin'], inplace=True)\n",
    "\n",
    "# Impute missing Embarked and 'Fare' values with the most common value\n",
    "most_common_embarked = test_df['Embarked'].mode()[0]\n",
    "test_df['Embarked'] = test_df['Embarked'].fillna(most_common_embarked)\n",
    "most_common_fare = test_df['Fare'].mode()[0]\n",
    "test_df['Fare'] = test_df['Fare'].fillna(most_common_fare)"
   ]
  },
  {
   "cell_type": "markdown",
   "id": "df9620ac",
   "metadata": {},
   "source": [
    "## Process data"
   ]
  },
  {
   "cell_type": "code",
   "execution_count": 68,
   "id": "2f39b4d1",
   "metadata": {},
   "outputs": [
    {
     "data": {
      "text/html": [
       "<div>\n",
       "<style scoped>\n",
       "    .dataframe tbody tr th:only-of-type {\n",
       "        vertical-align: middle;\n",
       "    }\n",
       "\n",
       "    .dataframe tbody tr th {\n",
       "        vertical-align: top;\n",
       "    }\n",
       "\n",
       "    .dataframe thead th {\n",
       "        text-align: right;\n",
       "    }\n",
       "</style>\n",
       "<table border=\"1\" class=\"dataframe\">\n",
       "  <thead>\n",
       "    <tr style=\"text-align: right;\">\n",
       "      <th></th>\n",
       "      <th>Pclass</th>\n",
       "      <th>Sex</th>\n",
       "      <th>Age</th>\n",
       "      <th>SibSp</th>\n",
       "      <th>Parch</th>\n",
       "      <th>Fare</th>\n",
       "      <th>Embarked</th>\n",
       "      <th>Company</th>\n",
       "    </tr>\n",
       "  </thead>\n",
       "  <tbody>\n",
       "    <tr>\n",
       "      <th>392</th>\n",
       "      <td>3</td>\n",
       "      <td>0</td>\n",
       "      <td>13.0</td>\n",
       "      <td>0</td>\n",
       "      <td>2</td>\n",
       "      <td>20.2500</td>\n",
       "      <td>S</td>\n",
       "      <td>0.0</td>\n",
       "    </tr>\n",
       "    <tr>\n",
       "      <th>57</th>\n",
       "      <td>3</td>\n",
       "      <td>0</td>\n",
       "      <td>25.0</td>\n",
       "      <td>0</td>\n",
       "      <td>0</td>\n",
       "      <td>7.6500</td>\n",
       "      <td>S</td>\n",
       "      <td>0.0</td>\n",
       "    </tr>\n",
       "    <tr>\n",
       "      <th>345</th>\n",
       "      <td>3</td>\n",
       "      <td>1</td>\n",
       "      <td>16.0</td>\n",
       "      <td>0</td>\n",
       "      <td>0</td>\n",
       "      <td>7.6500</td>\n",
       "      <td>S</td>\n",
       "      <td>0.0</td>\n",
       "    </tr>\n",
       "    <tr>\n",
       "      <th>251</th>\n",
       "      <td>3</td>\n",
       "      <td>0</td>\n",
       "      <td>20.0</td>\n",
       "      <td>0</td>\n",
       "      <td>0</td>\n",
       "      <td>7.9250</td>\n",
       "      <td>S</td>\n",
       "      <td>0.0</td>\n",
       "    </tr>\n",
       "    <tr>\n",
       "      <th>8</th>\n",
       "      <td>3</td>\n",
       "      <td>1</td>\n",
       "      <td>18.0</td>\n",
       "      <td>0</td>\n",
       "      <td>0</td>\n",
       "      <td>7.2292</td>\n",
       "      <td>C</td>\n",
       "      <td>0.0</td>\n",
       "    </tr>\n",
       "  </tbody>\n",
       "</table>\n",
       "</div>"
      ],
      "text/plain": [
       "     Pclass  Sex   Age  SibSp  Parch     Fare Embarked  Company\n",
       "392       3    0  13.0      0      2  20.2500        S      0.0\n",
       "57        3    0  25.0      0      0   7.6500        S      0.0\n",
       "345       3    1  16.0      0      0   7.6500        S      0.0\n",
       "251       3    0  20.0      0      0   7.9250        S      0.0\n",
       "8         3    1  18.0      0      0   7.2292        C      0.0"
      ]
     },
     "execution_count": 68,
     "metadata": {},
     "output_type": "execute_result"
    }
   ],
   "source": [
    "# Create a copy of train_df with only the columns: 'Pclass', 'Sex', 'Age', SibSp', 'Parch', 'Fare', 'Embarked', 'Company'\n",
    "X_test = test_df[['Pclass', 'Sex', 'Age', 'SibSp', 'Parch', 'Fare', 'Embarked', 'Company']].copy()\n",
    "X_test.head()"
   ]
  },
  {
   "cell_type": "code",
   "execution_count": 80,
   "id": "38a7c0b7",
   "metadata": {},
   "outputs": [],
   "source": [
    "# Processing pipelines\n",
    "X_test_proc = pd.DataFrame(preprocessor.transform(X_test))\n",
    "# Drop column 6 (Embarked_C) to match the number of columns in X_train\n",
    "X_test_proc.drop(columns=6, inplace=True)"
   ]
  },
  {
   "cell_type": "code",
   "execution_count": 83,
   "id": "f747ca09",
   "metadata": {},
   "outputs": [],
   "source": [
    "# Make predictions\n",
    "y_pred = ensemble.predict(X_test_proc)"
   ]
  },
  {
   "cell_type": "code",
   "execution_count": 85,
   "id": "60cbbfe7",
   "metadata": {},
   "outputs": [
    {
     "data": {
      "text/plain": [
       "array([0, 0, 0, 0, 1, 0, 0, 0, 0, 0, 0, 0, 0, 0, 0, 0, 0, 0, 0, 0, 0, 0,\n",
       "       0, 0, 0, 0, 0, 1, 0, 0, 1, 1, 1, 0, 1, 0, 0, 1, 0, 0, 0, 1, 0, 1,\n",
       "       0, 0, 0, 0, 1, 0, 1, 0, 1, 1, 1, 0, 0, 0, 0, 1, 0, 1, 0, 1, 0, 0,\n",
       "       0, 1, 1, 1, 1, 1, 0, 0, 1, 0, 1, 1, 0, 0, 0, 0, 1, 0, 1, 1, 0, 0,\n",
       "       1, 1, 0, 0, 0, 0, 0, 1, 0, 0, 0, 0, 1, 1, 0, 1, 0, 0, 0, 0, 1, 0,\n",
       "       0, 0, 0, 0, 0, 0, 0, 0, 1, 1, 1, 1, 0, 0, 0, 0, 0, 1, 0, 0, 1, 0,\n",
       "       0, 1, 0, 0, 0, 0, 1, 1, 0, 0, 0, 0, 1, 1, 0, 0, 0, 0, 1, 0, 1, 1,\n",
       "       1, 0, 0, 0, 0, 0, 0, 0, 1, 0, 1, 0, 0, 1, 0, 0, 0, 0, 0, 0, 1, 0,\n",
       "       1, 0, 0, 0, 0, 1, 0, 0, 0, 1, 0, 0, 0, 0, 0, 0, 0, 0, 0, 0, 0, 0,\n",
       "       0, 0, 0, 1, 0, 0, 0, 0, 0, 0, 0, 0, 0, 0, 1, 0, 0, 0, 1, 1, 0, 1,\n",
       "       0, 0, 0, 1, 0, 0, 1, 0, 0, 1, 0, 1, 0, 0, 0, 0, 0, 0, 0, 0, 0, 0,\n",
       "       0, 1, 0, 0, 1, 0, 0, 1, 0, 0, 0, 1, 0, 0, 0, 1, 0, 1, 0, 0, 1, 0,\n",
       "       0, 0, 0, 1, 1, 0, 1, 0, 0, 1, 0, 0, 0, 0, 0, 0, 0, 1, 0, 1, 0, 0,\n",
       "       0, 0, 1, 0, 0, 0, 0, 0, 0, 1, 0, 1, 0, 0, 0, 0, 0, 0, 1, 0, 0, 0,\n",
       "       0, 0, 1, 0, 0, 0, 0, 0, 1, 0, 0, 0, 1, 1, 0, 0, 0, 0, 0, 1, 0, 1,\n",
       "       0, 0, 0, 0, 0, 0, 0, 0, 0, 0, 0, 1, 0, 1, 0, 0, 1, 1, 0, 1, 1, 0,\n",
       "       1, 0, 0, 1, 0, 0, 0, 0, 1, 0, 0, 1, 0, 0, 0, 0, 0, 0, 0, 1, 0, 0,\n",
       "       0, 0, 0, 0, 0, 0, 0, 0, 0, 1, 0, 0, 1, 0, 0, 0, 1, 0, 0, 1, 0, 1,\n",
       "       1, 0, 1, 0, 1, 0, 0, 0, 1, 0, 0, 1, 0, 0, 1, 0, 0, 0, 0, 1, 0, 0],\n",
       "      dtype=int64)"
      ]
     },
     "execution_count": 85,
     "metadata": {},
     "output_type": "execute_result"
    }
   ],
   "source": [
    "y_pred"
   ]
  },
  {
   "cell_type": "code",
   "execution_count": 87,
   "id": "29578b1a",
   "metadata": {},
   "outputs": [],
   "source": [
    "# Save predictions to a CSV file in the following format: PassengerId, Survived\n",
    "output = pd.DataFrame({'PassengerId': test_df.PassengerId, 'Survived': y_pred})\n",
    "output.to_csv('ClaudioCrema_20250212_01.csv', index=False)"
   ]
  },
  {
   "cell_type": "code",
   "execution_count": 90,
   "id": "f4036396",
   "metadata": {},
   "outputs": [
    {
     "data": {
      "text/plain": [
       "['ClaudioCrema_20250212_01.pkl']"
      ]
     },
     "execution_count": 90,
     "metadata": {},
     "output_type": "execute_result"
    }
   ],
   "source": [
    "# Save model and train dataset\n",
    "joblib.dump(ensemble, 'ClaudioCrema_20250212_01_MODEL.pkl')\n",
    "joblib.dump(X_proc, 'ClaudioCrema_20250212_01.pkl')"
   ]
  },
  {
   "cell_type": "code",
   "execution_count": null,
   "id": "79c43fd5",
   "metadata": {},
   "outputs": [],
   "source": []
  }
 ],
 "metadata": {
  "kernelspec": {
   "display_name": "Python 3",
   "language": "python",
   "name": "python3"
  },
  "language_info": {
   "codemirror_mode": {
    "name": "ipython",
    "version": 3
   },
   "file_extension": ".py",
   "mimetype": "text/x-python",
   "name": "python",
   "nbconvert_exporter": "python",
   "pygments_lexer": "ipython3",
   "version": "3.10.5"
  }
 },
 "nbformat": 4,
 "nbformat_minor": 5
}
