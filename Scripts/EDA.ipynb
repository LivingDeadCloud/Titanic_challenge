{
 "cells": [
  {
   "cell_type": "markdown",
   "id": "a4d66367-1152-4d25-9a24-eca424d0413a",
   "metadata": {},
   "source": [
    "# Setup notebbok"
   ]
  },
  {
   "cell_type": "code",
   "execution_count": 34,
   "id": "e456510a-ef46-4e32-a5a9-0d04cc242f71",
   "metadata": {},
   "outputs": [],
   "source": [
    "# Import libraries\n",
    "import pandas as pd\n",
    "import numpy as np\n",
    "import plotly.express as px\n",
    "import plotly.io as pio\n",
    "pio.renderers.default = 'iframe'"
   ]
  },
  {
   "cell_type": "markdown",
   "id": "8ddf0299-d923-4d90-8ec1-4bed07404765",
   "metadata": {},
   "source": [
    "# Process data"
   ]
  },
  {
   "cell_type": "markdown",
   "id": "3b948e54-a55c-46bd-a6d9-e3f5808c8b3f",
   "metadata": {},
   "source": [
    "### Variable Notes\n",
    "#### pclass: A proxy for socio-economic status (SES)\n",
    "- 1st = Upper\n",
    "- 2nd = Middle\n",
    "- 3rd = Lower\n",
    "\n",
    "#### age: Age is fractional if less than 1. If the age is estimated, is it in the form of xx.5\n",
    "\n",
    "#### sibsp: The dataset defines family relations in this way...\n",
    "- Sibling = brother, sister, stepbrother, stepsister\n",
    "- Spouse = husband, wife (mistresses and fiancés were ignored)\n",
    "\n",
    "#### parch: The dataset defines family relations in this way...\n",
    "- Parent = mother, father\n",
    "- Child = daughter, son, stepdaughter, stepson\n",
    "- Some children travelled only with a nanny, therefore parch=0 for them."
   ]
  },
  {
   "cell_type": "code",
   "execution_count": 2,
   "id": "b20bf74d-fb44-4be9-bc59-2737fa87c5fd",
   "metadata": {},
   "outputs": [],
   "source": [
    "# Load raw dataframes\n",
    "train_raw_df = pd.read_csv('../Data/train.csv')\n",
    "test_raw_df = pd.read_csv('../Data/test.csv')\n",
    "total_raw_df = pd.read_excel('../Data/Complete_dataset.xls')"
   ]
  },
  {
   "cell_type": "markdown",
   "id": "ed0c0d95-7536-483b-9666-63892cb3dc38",
   "metadata": {},
   "source": [
    "### Exploratory Data Analysis"
   ]
  },
  {
   "cell_type": "code",
   "execution_count": 3,
   "id": "0fa008da-8c70-496a-a031-3470355c3c84",
   "metadata": {},
   "outputs": [
    {
     "name": "stdout",
     "output_type": "stream",
     "text": [
      "Number of passengers = 1309\n",
      "Number of variables = 14\n"
     ]
    }
   ],
   "source": [
    "# See how many records and variables\n",
    "num_pass, num_var = total_raw_df.shape[0], total_raw_df.shape[1]\n",
    "print(f'Number of passengers = {num_pass}\\nNumber of variables = {num_var}')"
   ]
  },
  {
   "cell_type": "code",
   "execution_count": 39,
   "id": "db0b4a20-36c4-480b-8a88-c1a87700e49c",
   "metadata": {},
   "outputs": [
    {
     "data": {
      "text/html": [
       "<div>\n",
       "<style scoped>\n",
       "    .dataframe tbody tr th:only-of-type {\n",
       "        vertical-align: middle;\n",
       "    }\n",
       "\n",
       "    .dataframe tbody tr th {\n",
       "        vertical-align: top;\n",
       "    }\n",
       "\n",
       "    .dataframe thead th {\n",
       "        text-align: right;\n",
       "    }\n",
       "</style>\n",
       "<table border=\"1\" class=\"dataframe\">\n",
       "  <thead>\n",
       "    <tr style=\"text-align: right;\">\n",
       "      <th></th>\n",
       "      <th>pclass</th>\n",
       "      <th>survived</th>\n",
       "      <th>name</th>\n",
       "      <th>sex</th>\n",
       "      <th>age</th>\n",
       "      <th>sibsp</th>\n",
       "      <th>parch</th>\n",
       "      <th>ticket</th>\n",
       "      <th>fare</th>\n",
       "      <th>cabin</th>\n",
       "      <th>embarked</th>\n",
       "      <th>boat</th>\n",
       "      <th>body</th>\n",
       "      <th>home.dest</th>\n",
       "    </tr>\n",
       "  </thead>\n",
       "  <tbody>\n",
       "    <tr>\n",
       "      <th>0</th>\n",
       "      <td>1</td>\n",
       "      <td>1</td>\n",
       "      <td>Allen, Miss. Elisabeth Walton</td>\n",
       "      <td>female</td>\n",
       "      <td>29.0000</td>\n",
       "      <td>0</td>\n",
       "      <td>0</td>\n",
       "      <td>24160</td>\n",
       "      <td>211.3375</td>\n",
       "      <td>B5</td>\n",
       "      <td>S</td>\n",
       "      <td>2</td>\n",
       "      <td>NaN</td>\n",
       "      <td>St Louis, MO</td>\n",
       "    </tr>\n",
       "    <tr>\n",
       "      <th>1</th>\n",
       "      <td>1</td>\n",
       "      <td>1</td>\n",
       "      <td>Allison, Master. Hudson Trevor</td>\n",
       "      <td>male</td>\n",
       "      <td>0.9167</td>\n",
       "      <td>1</td>\n",
       "      <td>2</td>\n",
       "      <td>113781</td>\n",
       "      <td>151.5500</td>\n",
       "      <td>C22 C26</td>\n",
       "      <td>S</td>\n",
       "      <td>11</td>\n",
       "      <td>NaN</td>\n",
       "      <td>Montreal, PQ / Chesterville, ON</td>\n",
       "    </tr>\n",
       "    <tr>\n",
       "      <th>2</th>\n",
       "      <td>1</td>\n",
       "      <td>0</td>\n",
       "      <td>Allison, Miss. Helen Loraine</td>\n",
       "      <td>female</td>\n",
       "      <td>2.0000</td>\n",
       "      <td>1</td>\n",
       "      <td>2</td>\n",
       "      <td>113781</td>\n",
       "      <td>151.5500</td>\n",
       "      <td>C22 C26</td>\n",
       "      <td>S</td>\n",
       "      <td>NaN</td>\n",
       "      <td>NaN</td>\n",
       "      <td>Montreal, PQ / Chesterville, ON</td>\n",
       "    </tr>\n",
       "    <tr>\n",
       "      <th>3</th>\n",
       "      <td>1</td>\n",
       "      <td>0</td>\n",
       "      <td>Allison, Mr. Hudson Joshua Creighton</td>\n",
       "      <td>male</td>\n",
       "      <td>30.0000</td>\n",
       "      <td>1</td>\n",
       "      <td>2</td>\n",
       "      <td>113781</td>\n",
       "      <td>151.5500</td>\n",
       "      <td>C22 C26</td>\n",
       "      <td>S</td>\n",
       "      <td>NaN</td>\n",
       "      <td>135.0</td>\n",
       "      <td>Montreal, PQ / Chesterville, ON</td>\n",
       "    </tr>\n",
       "    <tr>\n",
       "      <th>4</th>\n",
       "      <td>1</td>\n",
       "      <td>0</td>\n",
       "      <td>Allison, Mrs. Hudson J C (Bessie Waldo Daniels)</td>\n",
       "      <td>female</td>\n",
       "      <td>25.0000</td>\n",
       "      <td>1</td>\n",
       "      <td>2</td>\n",
       "      <td>113781</td>\n",
       "      <td>151.5500</td>\n",
       "      <td>C22 C26</td>\n",
       "      <td>S</td>\n",
       "      <td>NaN</td>\n",
       "      <td>NaN</td>\n",
       "      <td>Montreal, PQ / Chesterville, ON</td>\n",
       "    </tr>\n",
       "  </tbody>\n",
       "</table>\n",
       "</div>"
      ],
      "text/plain": [
       "   pclass  survived                                             name     sex  \\\n",
       "0       1         1                    Allen, Miss. Elisabeth Walton  female   \n",
       "1       1         1                   Allison, Master. Hudson Trevor    male   \n",
       "2       1         0                     Allison, Miss. Helen Loraine  female   \n",
       "3       1         0             Allison, Mr. Hudson Joshua Creighton    male   \n",
       "4       1         0  Allison, Mrs. Hudson J C (Bessie Waldo Daniels)  female   \n",
       "\n",
       "       age  sibsp  parch  ticket      fare    cabin embarked boat   body  \\\n",
       "0  29.0000      0      0   24160  211.3375       B5        S    2    NaN   \n",
       "1   0.9167      1      2  113781  151.5500  C22 C26        S   11    NaN   \n",
       "2   2.0000      1      2  113781  151.5500  C22 C26        S  NaN    NaN   \n",
       "3  30.0000      1      2  113781  151.5500  C22 C26        S  NaN  135.0   \n",
       "4  25.0000      1      2  113781  151.5500  C22 C26        S  NaN    NaN   \n",
       "\n",
       "                         home.dest  \n",
       "0                     St Louis, MO  \n",
       "1  Montreal, PQ / Chesterville, ON  \n",
       "2  Montreal, PQ / Chesterville, ON  \n",
       "3  Montreal, PQ / Chesterville, ON  \n",
       "4  Montreal, PQ / Chesterville, ON  "
      ]
     },
     "execution_count": 39,
     "metadata": {},
     "output_type": "execute_result"
    }
   ],
   "source": [
    "total_raw_df.head()"
   ]
  },
  {
   "cell_type": "code",
   "execution_count": 5,
   "id": "46384e3c-6d73-46b4-bc5b-c3c3d71220cd",
   "metadata": {},
   "outputs": [
    {
     "data": {
      "text/html": [
       "<div>\n",
       "<style scoped>\n",
       "    .dataframe tbody tr th:only-of-type {\n",
       "        vertical-align: middle;\n",
       "    }\n",
       "\n",
       "    .dataframe tbody tr th {\n",
       "        vertical-align: top;\n",
       "    }\n",
       "\n",
       "    .dataframe thead th {\n",
       "        text-align: right;\n",
       "    }\n",
       "</style>\n",
       "<table border=\"1\" class=\"dataframe\">\n",
       "  <thead>\n",
       "    <tr style=\"text-align: right;\">\n",
       "      <th></th>\n",
       "      <th>pclass</th>\n",
       "      <th>survived</th>\n",
       "      <th>age</th>\n",
       "      <th>sibsp</th>\n",
       "      <th>parch</th>\n",
       "      <th>fare</th>\n",
       "      <th>body</th>\n",
       "    </tr>\n",
       "  </thead>\n",
       "  <tbody>\n",
       "    <tr>\n",
       "      <th>count</th>\n",
       "      <td>1309.000000</td>\n",
       "      <td>1309.000000</td>\n",
       "      <td>1046.000000</td>\n",
       "      <td>1309.000000</td>\n",
       "      <td>1309.000000</td>\n",
       "      <td>1308.000000</td>\n",
       "      <td>121.000000</td>\n",
       "    </tr>\n",
       "    <tr>\n",
       "      <th>mean</th>\n",
       "      <td>2.294882</td>\n",
       "      <td>0.381971</td>\n",
       "      <td>29.881135</td>\n",
       "      <td>0.498854</td>\n",
       "      <td>0.385027</td>\n",
       "      <td>33.295479</td>\n",
       "      <td>160.809917</td>\n",
       "    </tr>\n",
       "    <tr>\n",
       "      <th>std</th>\n",
       "      <td>0.837836</td>\n",
       "      <td>0.486055</td>\n",
       "      <td>14.413500</td>\n",
       "      <td>1.041658</td>\n",
       "      <td>0.865560</td>\n",
       "      <td>51.758668</td>\n",
       "      <td>97.696922</td>\n",
       "    </tr>\n",
       "    <tr>\n",
       "      <th>min</th>\n",
       "      <td>1.000000</td>\n",
       "      <td>0.000000</td>\n",
       "      <td>0.166700</td>\n",
       "      <td>0.000000</td>\n",
       "      <td>0.000000</td>\n",
       "      <td>0.000000</td>\n",
       "      <td>1.000000</td>\n",
       "    </tr>\n",
       "    <tr>\n",
       "      <th>25%</th>\n",
       "      <td>2.000000</td>\n",
       "      <td>0.000000</td>\n",
       "      <td>21.000000</td>\n",
       "      <td>0.000000</td>\n",
       "      <td>0.000000</td>\n",
       "      <td>7.895800</td>\n",
       "      <td>72.000000</td>\n",
       "    </tr>\n",
       "    <tr>\n",
       "      <th>50%</th>\n",
       "      <td>3.000000</td>\n",
       "      <td>0.000000</td>\n",
       "      <td>28.000000</td>\n",
       "      <td>0.000000</td>\n",
       "      <td>0.000000</td>\n",
       "      <td>14.454200</td>\n",
       "      <td>155.000000</td>\n",
       "    </tr>\n",
       "    <tr>\n",
       "      <th>75%</th>\n",
       "      <td>3.000000</td>\n",
       "      <td>1.000000</td>\n",
       "      <td>39.000000</td>\n",
       "      <td>1.000000</td>\n",
       "      <td>0.000000</td>\n",
       "      <td>31.275000</td>\n",
       "      <td>256.000000</td>\n",
       "    </tr>\n",
       "    <tr>\n",
       "      <th>max</th>\n",
       "      <td>3.000000</td>\n",
       "      <td>1.000000</td>\n",
       "      <td>80.000000</td>\n",
       "      <td>8.000000</td>\n",
       "      <td>9.000000</td>\n",
       "      <td>512.329200</td>\n",
       "      <td>328.000000</td>\n",
       "    </tr>\n",
       "  </tbody>\n",
       "</table>\n",
       "</div>"
      ],
      "text/plain": [
       "            pclass     survived          age        sibsp        parch  \\\n",
       "count  1309.000000  1309.000000  1046.000000  1309.000000  1309.000000   \n",
       "mean      2.294882     0.381971    29.881135     0.498854     0.385027   \n",
       "std       0.837836     0.486055    14.413500     1.041658     0.865560   \n",
       "min       1.000000     0.000000     0.166700     0.000000     0.000000   \n",
       "25%       2.000000     0.000000    21.000000     0.000000     0.000000   \n",
       "50%       3.000000     0.000000    28.000000     0.000000     0.000000   \n",
       "75%       3.000000     1.000000    39.000000     1.000000     0.000000   \n",
       "max       3.000000     1.000000    80.000000     8.000000     9.000000   \n",
       "\n",
       "              fare        body  \n",
       "count  1308.000000  121.000000  \n",
       "mean     33.295479  160.809917  \n",
       "std      51.758668   97.696922  \n",
       "min       0.000000    1.000000  \n",
       "25%       7.895800   72.000000  \n",
       "50%      14.454200  155.000000  \n",
       "75%      31.275000  256.000000  \n",
       "max     512.329200  328.000000  "
      ]
     },
     "execution_count": 5,
     "metadata": {},
     "output_type": "execute_result"
    }
   ],
   "source": [
    "# Have a global look to dataset\n",
    "total_raw_df.describe()"
   ]
  },
  {
   "cell_type": "code",
   "execution_count": 6,
   "id": "1a2020b6-2787-4b75-a44f-4006c3fefc75",
   "metadata": {},
   "outputs": [
    {
     "name": "stdout",
     "output_type": "stream",
     "text": [
      "Column pclass has 0 nulls\n",
      "Column survived has 0 nulls\n",
      "Column name has 0 nulls\n",
      "Column sex has 0 nulls\n",
      "Column age has 263 nulls\n",
      "Column sibsp has 0 nulls\n",
      "Column parch has 0 nulls\n",
      "Column ticket has 0 nulls\n",
      "Column fare has 1 nulls\n",
      "Column cabin has 1014 nulls\n",
      "Column embarked has 2 nulls\n",
      "Column boat has 823 nulls\n",
      "Column body has 1188 nulls\n",
      "Column home.dest has 564 nulls\n"
     ]
    }
   ],
   "source": [
    "# Look for missing values\n",
    "for el in total_raw_df.columns:\n",
    "    num_null = total_raw_df[el].isnull().sum()\n",
    "    print(f'Column {el} has {num_null} nulls')"
   ]
  },
  {
   "cell_type": "markdown",
   "id": "6fd9a21c-39fe-47f6-bf26-b7812c028ae2",
   "metadata": {},
   "source": [
    "### Visualize some data"
   ]
  },
  {
   "cell_type": "markdown",
   "id": "7a440bc2-08f0-40f4-924a-a648a5ecf86e",
   "metadata": {},
   "source": [
    "#### Passenger composition"
   ]
  },
  {
   "cell_type": "code",
   "execution_count": 33,
   "id": "96bab2e7-3976-4335-bc57-2517d8d203f2",
   "metadata": {},
   "outputs": [
    {
     "data": {
      "text/html": [
       "<iframe\n",
       "    scrolling=\"no\"\n",
       "    width=\"100%\"\n",
       "    height=\"545px\"\n",
       "    src=\"iframe_figures/figure_33.html\"\n",
       "    frameborder=\"0\"\n",
       "    allowfullscreen\n",
       "></iframe>\n"
      ]
     },
     "metadata": {},
     "output_type": "display_data"
    }
   ],
   "source": [
    "# By sex\n",
    "fig = px.pie(\n",
    "    total_raw_df, \n",
    "    names=total_raw_df['sex'].map({'male': 'Male', 'female': 'Female'}),\n",
    "    title='Passenger composition - by sex',\n",
    "    # hole=0.5,\n",
    "    color_discrete_sequence = ['#3376FF', '#FF94ED'],\n",
    ")\n",
    "fig.update_layout(\n",
    "    font=dict(size=18)\n",
    ")\n",
    "fig.show()"
   ]
  },
  {
   "cell_type": "code",
   "execution_count": 32,
   "id": "f02280f9-0602-4eb7-9df4-a701a8f75545",
   "metadata": {},
   "outputs": [
    {
     "data": {
      "text/html": [
       "<iframe\n",
       "    scrolling=\"no\"\n",
       "    width=\"100%\"\n",
       "    height=\"545px\"\n",
       "    src=\"iframe_figures/figure_32.html\"\n",
       "    frameborder=\"0\"\n",
       "    allowfullscreen\n",
       "></iframe>\n"
      ]
     },
     "metadata": {},
     "output_type": "display_data"
    }
   ],
   "source": [
    "# By class\n",
    "fig = px.pie(\n",
    "    total_raw_df, \n",
    "    names=total_raw_df['pclass'].map({1: '1st class', 2:'2nd class', 3: '3rd class'}), \n",
    "    title='Passenger composition - by ticket class',\n",
    "    # hole=0.5,\n",
    "    # color_discrete_sequence = ['#3376FF', '#FF94ED'],\n",
    ")\n",
    "fig.update_layout(\n",
    "    font=dict(size=18),\n",
    ")\n",
    "fig.show()"
   ]
  },
  {
   "cell_type": "markdown",
   "id": "c7e7bd71-8b00-4466-b560-1c60d36f782a",
   "metadata": {},
   "source": [
    "##### Age ranges:\n",
    "- < 1 = newborn\n",
    "- 1-16 = kid\n",
    "- 17-25 = young adult\n",
    "- 26-40 = adult\n",
    "- 41-60 = middle aged man\n",
    "- 61-70 = old adult\n",
    "- +71 = elderly"
   ]
  },
  {
   "cell_type": "code",
   "execution_count": 40,
   "id": "09e7b8ee-a0dc-46d8-a09b-a18744dd24b1",
   "metadata": {},
   "outputs": [],
   "source": [
    "# Convert number to age range\n",
    "bins = [1, 16, 25, 40, 60, 70, np.inf]\n",
    "categories = ['Newbor', 'Kid', 'Young adult', 'Adult', 'Middle aged', 'Old adult', 'Elderly']\n",
    "total_raw_df['age'] = pd.cut(total_raw_df['age'], bins, categories)"
   ]
  },
  {
   "cell_type": "code",
   "execution_count": 41,
   "id": "09ea854c-1ba2-445d-9fb9-e577f69310f7",
   "metadata": {},
   "outputs": [
    {
     "name": "stdout",
     "output_type": "stream",
     "text": [
      "      pclass  survived                                             name  \\\n",
      "0          1         1                    Allen, Miss. Elisabeth Walton   \n",
      "1          1         1                   Allison, Master. Hudson Trevor   \n",
      "2          1         0                     Allison, Miss. Helen Loraine   \n",
      "3          1         0             Allison, Mr. Hudson Joshua Creighton   \n",
      "4          1         0  Allison, Mrs. Hudson J C (Bessie Waldo Daniels)   \n",
      "...      ...       ...                                              ...   \n",
      "1304       3         0                             Zabour, Miss. Hileni   \n",
      "1305       3         0                            Zabour, Miss. Thamine   \n",
      "1306       3         0                        Zakarian, Mr. Mapriededer   \n",
      "1307       3         0                              Zakarian, Mr. Ortin   \n",
      "1308       3         0                               Zimmerman, Mr. Leo   \n",
      "\n",
      "         sex           age  sibsp  parch  ticket      fare    cabin embarked  \\\n",
      "0     female  (25.0, 40.0]      0      0   24160  211.3375       B5        S   \n",
      "1       male           NaN      1      2  113781  151.5500  C22 C26        S   \n",
      "2     female   (1.0, 16.0]      1      2  113781  151.5500  C22 C26        S   \n",
      "3       male  (25.0, 40.0]      1      2  113781  151.5500  C22 C26        S   \n",
      "4     female  (16.0, 25.0]      1      2  113781  151.5500  C22 C26        S   \n",
      "...      ...           ...    ...    ...     ...       ...      ...      ...   \n",
      "1304  female   (1.0, 16.0]      1      0    2665   14.4542      NaN        C   \n",
      "1305  female           NaN      1      0    2665   14.4542      NaN        C   \n",
      "1306    male  (25.0, 40.0]      0      0    2656    7.2250      NaN        C   \n",
      "1307    male  (25.0, 40.0]      0      0    2670    7.2250      NaN        C   \n",
      "1308    male  (25.0, 40.0]      0      0  315082    7.8750      NaN        S   \n",
      "\n",
      "     boat   body                        home.dest  \n",
      "0       2    NaN                     St Louis, MO  \n",
      "1      11    NaN  Montreal, PQ / Chesterville, ON  \n",
      "2     NaN    NaN  Montreal, PQ / Chesterville, ON  \n",
      "3     NaN  135.0  Montreal, PQ / Chesterville, ON  \n",
      "4     NaN    NaN  Montreal, PQ / Chesterville, ON  \n",
      "...   ...    ...                              ...  \n",
      "1304  NaN  328.0                              NaN  \n",
      "1305  NaN    NaN                              NaN  \n",
      "1306  NaN  304.0                              NaN  \n",
      "1307  NaN    NaN                              NaN  \n",
      "1308  NaN    NaN                              NaN  \n",
      "\n",
      "[1309 rows x 14 columns]\n"
     ]
    }
   ],
   "source": [
    "print(total_raw_df.ty)"
   ]
  },
  {
   "cell_type": "code",
   "execution_count": null,
   "id": "28deeb2c-be4a-4967-80d3-6cffb0cae40d",
   "metadata": {},
   "outputs": [],
   "source": [
    "# By age\n",
    "fig = px.pie(\n",
    "    total_raw_df, \n",
    "    names=total_raw_df['pclass'].map({1: '1st class', 2:'2nd class', 3: '3rd class'}), \n",
    "    title='Passenger composition - by ticket class',\n",
    "    # hole=0.5,\n",
    "    # color_discrete_sequence = ['#3376FF', '#FF94ED'],\n",
    ")\n",
    "fig.update_layout(\n",
    "    font=dict(size=18)\n",
    ")\n",
    "fig.show()"
   ]
  },
  {
   "cell_type": "markdown",
   "id": "42993dc0-f4f6-4d3e-87b3-9209f0095232",
   "metadata": {},
   "source": [
    "#### Passenger survival"
   ]
  },
  {
   "cell_type": "code",
   "execution_count": 19,
   "id": "95102018-7950-4142-99ca-dfdf87058dd9",
   "metadata": {},
   "outputs": [
    {
     "data": {
      "text/html": [
       "<iframe\n",
       "    scrolling=\"no\"\n",
       "    width=\"100%\"\n",
       "    height=\"545px\"\n",
       "    src=\"iframe_figures/figure_19.html\"\n",
       "    frameborder=\"0\"\n",
       "    allowfullscreen\n",
       "></iframe>\n"
      ]
     },
     "metadata": {},
     "output_type": "display_data"
    }
   ],
   "source": [
    "# Passenger survival\n",
    "fig = px.pie(\n",
    "    total_raw_df, \n",
    "    names=total_raw_df['survived'].map({0: 'Dead', 1:'Survived'}), \n",
    "    title='Passenger survival',\n",
    "    # hole=0.5,\n",
    "    color_discrete_sequence = ['#e30909', '#1ddb4c'],\n",
    ")\n",
    "fig.update_layout(\n",
    "    font=dict(size=18)\n",
    ")\n",
    "fig.show()"
   ]
  },
  {
   "cell_type": "markdown",
   "id": "d460bd47-3033-4f04-92e9-4562ff5a7f25",
   "metadata": {},
   "source": [
    "Idea: creare delle categorie divis per sesso, classe, età, e vedere come cambia la mortalità"
   ]
  },
  {
   "cell_type": "code",
   "execution_count": null,
   "id": "6df35b41-5a6c-4c58-a6bd-724ff6fa4a9a",
   "metadata": {},
   "outputs": [],
   "source": []
  }
 ],
 "metadata": {
  "kernelspec": {
   "display_name": "Python 3 (ipykernel)",
   "language": "python",
   "name": "python3"
  },
  "language_info": {
   "codemirror_mode": {
    "name": "ipython",
    "version": 3
   },
   "file_extension": ".py",
   "mimetype": "text/x-python",
   "name": "python",
   "nbconvert_exporter": "python",
   "pygments_lexer": "ipython3",
   "version": "3.8.10"
  }
 },
 "nbformat": 4,
 "nbformat_minor": 5
}
